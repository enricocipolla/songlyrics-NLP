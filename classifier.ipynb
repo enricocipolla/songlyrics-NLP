{
  "cells": [
    {
      "cell_type": "markdown",
      "metadata": {},
      "source": [
        "# Classifier Construction"
      ]
    },
    {
      "cell_type": "markdown",
      "metadata": {},
      "source": [
        "In the classifier construction phase, we decide to focus on songs from 1990 to 2000. The dataset contains 256,805 songs, with title, genre, artist, year, and lyrics for each one. We assigned to the 1,083 Billboard Top songs the label 1, while the rest are labeled as 0. "
      ]
    },
    {
      "cell_type": "code",
      "execution_count": 1,
      "metadata": {
        "colab": {
          "base_uri": "https://localhost:8080/"
        },
        "id": "PPoDAafvKRTr",
        "outputId": "adcb2d6e-c17d-4ae4-998c-6bf90d16d8bb"
      },
      "outputs": [
        {
          "name": "stdout",
          "output_type": "stream",
          "text": [
            "Requirement already satisfied: joblib in /Users/ariannazottoli/anaconda3/envs/Python4DataScience/lib/python3.11/site-packages (1.2.0)\n",
            "Requirement already satisfied: matplotlib in /Users/ariannazottoli/anaconda3/envs/Python4DataScience/lib/python3.11/site-packages (3.8.0)\n",
            "Requirement already satisfied: seaborn in /Users/ariannazottoli/anaconda3/envs/Python4DataScience/lib/python3.11/site-packages (0.12.2)\n",
            "Requirement already satisfied: scipy in /Users/ariannazottoli/anaconda3/envs/Python4DataScience/lib/python3.11/site-packages (1.10.0)\n",
            "Requirement already satisfied: scikit-learn in /Users/ariannazottoli/anaconda3/envs/Python4DataScience/lib/python3.11/site-packages (1.1.3)\n",
            "Requirement already satisfied: xgboost in /Users/ariannazottoli/anaconda3/envs/Python4DataScience/lib/python3.11/site-packages (2.0.3)\n",
            "Requirement already satisfied: nltk in /Users/ariannazottoli/anaconda3/envs/Python4DataScience/lib/python3.11/site-packages (3.8.1)\n",
            "Requirement already satisfied: contourpy>=1.0.1 in /Users/ariannazottoli/anaconda3/envs/Python4DataScience/lib/python3.11/site-packages (from matplotlib) (1.2.0)\n",
            "Requirement already satisfied: cycler>=0.10 in /Users/ariannazottoli/anaconda3/envs/Python4DataScience/lib/python3.11/site-packages (from matplotlib) (0.11.0)\n",
            "Requirement already satisfied: fonttools>=4.22.0 in /Users/ariannazottoli/anaconda3/envs/Python4DataScience/lib/python3.11/site-packages (from matplotlib) (4.25.0)\n",
            "Requirement already satisfied: kiwisolver>=1.0.1 in /Users/ariannazottoli/anaconda3/envs/Python4DataScience/lib/python3.11/site-packages (from matplotlib) (1.4.4)\n",
            "Requirement already satisfied: numpy<2,>=1.21 in /Users/ariannazottoli/anaconda3/envs/Python4DataScience/lib/python3.11/site-packages (from matplotlib) (1.26.0)\n",
            "Requirement already satisfied: packaging>=20.0 in /Users/ariannazottoli/anaconda3/envs/Python4DataScience/lib/python3.11/site-packages (from matplotlib) (23.1)\n",
            "Requirement already satisfied: pillow>=6.2.0 in /Users/ariannazottoli/anaconda3/envs/Python4DataScience/lib/python3.11/site-packages (from matplotlib) (10.0.1)\n",
            "Requirement already satisfied: pyparsing>=2.3.1 in /Users/ariannazottoli/anaconda3/envs/Python4DataScience/lib/python3.11/site-packages (from matplotlib) (3.0.9)\n",
            "Requirement already satisfied: python-dateutil>=2.7 in /Users/ariannazottoli/anaconda3/envs/Python4DataScience/lib/python3.11/site-packages (from matplotlib) (2.8.2)\n",
            "Requirement already satisfied: pandas>=0.25 in /Users/ariannazottoli/anaconda3/envs/Python4DataScience/lib/python3.11/site-packages (from seaborn) (2.1.1)\n",
            "Requirement already satisfied: threadpoolctl>=2.0.0 in /Users/ariannazottoli/anaconda3/envs/Python4DataScience/lib/python3.11/site-packages (from scikit-learn) (2.2.0)\n",
            "Requirement already satisfied: click in /Users/ariannazottoli/anaconda3/envs/Python4DataScience/lib/python3.11/site-packages (from nltk) (8.1.7)\n",
            "Requirement already satisfied: regex>=2021.8.3 in /Users/ariannazottoli/anaconda3/envs/Python4DataScience/lib/python3.11/site-packages (from nltk) (2023.10.3)\n",
            "Requirement already satisfied: tqdm in /Users/ariannazottoli/anaconda3/envs/Python4DataScience/lib/python3.11/site-packages (from nltk) (4.65.0)\n",
            "Requirement already satisfied: pytz>=2020.1 in /Users/ariannazottoli/anaconda3/envs/Python4DataScience/lib/python3.11/site-packages (from pandas>=0.25->seaborn) (2023.3.post1)\n",
            "Requirement already satisfied: tzdata>=2022.1 in /Users/ariannazottoli/anaconda3/envs/Python4DataScience/lib/python3.11/site-packages (from pandas>=0.25->seaborn) (2023.3)\n",
            "Requirement already satisfied: six>=1.5 in /Users/ariannazottoli/anaconda3/envs/Python4DataScience/lib/python3.11/site-packages (from python-dateutil>=2.7->matplotlib) (1.16.0)\n",
            "Note: you may need to restart the kernel to use updated packages.\n"
          ]
        }
      ],
      "source": [
        "pip install joblib matplotlib seaborn scipy scikit-learn xgboost nltk"
      ]
    },
    {
      "cell_type": "code",
      "execution_count": 33,
      "metadata": {
        "id": "APQZPIvxTMVC"
      },
      "outputs": [],
      "source": [
        "import os\n",
        "import joblib\n",
        "import numpy as np\n",
        "import pandas as pd\n",
        "import matplotlib.pyplot as plt\n",
        "import seaborn as sns\n",
        "from scipy.sparse import hstack, csr_matrix\n",
        "from sklearn.model_selection import train_test_split, GridSearchCV\n",
        "from sklearn.feature_extraction.text import TfidfVectorizer\n",
        "from sklearn.decomposition import TruncatedSVD\n",
        "from sklearn.pipeline import Pipeline\n",
        "from sklearn.svm import SVC\n",
        "from sklearn.metrics import classification_report, confusion_matrix\n",
        "from sklearn.utils import resample\n",
        "from sklearn.preprocessing import OneHotEncoder\n",
        "from sklearn.linear_model import LogisticRegression\n",
        "from sklearn.ensemble import RandomForestClassifier\n",
        "from xgboost import XGBClassifier\n",
        "from nltk.corpus import stopwords\n",
        "from nltk.tokenize import word_tokenize\n",
        "from nltk.stem import WordNetLemmatizer\n",
        "import re\n",
        "\n"
      ]
    },
    {
      "cell_type": "markdown",
      "metadata": {},
      "source": [
        "## Load the data "
      ]
    },
    {
      "cell_type": "code",
      "execution_count": 34,
      "metadata": {
        "colab": {
          "base_uri": "https://localhost:8080/",
          "height": 419
        },
        "id": "dQ2NuaTUTMVE",
        "outputId": "282ef409-98a0-424b-8ea6-4254d34e79af"
      },
      "outputs": [
        {
          "data": {
            "text/html": [
              "<div>\n",
              "<style scoped>\n",
              "    .dataframe tbody tr th:only-of-type {\n",
              "        vertical-align: middle;\n",
              "    }\n",
              "\n",
              "    .dataframe tbody tr th {\n",
              "        vertical-align: top;\n",
              "    }\n",
              "\n",
              "    .dataframe thead th {\n",
              "        text-align: right;\n",
              "    }\n",
              "</style>\n",
              "<table border=\"1\" class=\"dataframe\">\n",
              "  <thead>\n",
              "    <tr style=\"text-align: right;\">\n",
              "      <th></th>\n",
              "      <th>title</th>\n",
              "      <th>tag</th>\n",
              "      <th>artist</th>\n",
              "      <th>year</th>\n",
              "      <th>lyrics</th>\n",
              "      <th>Label</th>\n",
              "    </tr>\n",
              "  </thead>\n",
              "  <tbody>\n",
              "    <tr>\n",
              "      <th>0</th>\n",
              "      <td>Can I Live</td>\n",
              "      <td>rap</td>\n",
              "      <td>JAY-Z</td>\n",
              "      <td>1996</td>\n",
              "      <td>Yeah, hah, yeah, Roc-A-Fella We invite you ...</td>\n",
              "      <td>0</td>\n",
              "    </tr>\n",
              "    <tr>\n",
              "      <th>1</th>\n",
              "      <td>Rockin and Rollin</td>\n",
              "      <td>rap</td>\n",
              "      <td>Cam'ron</td>\n",
              "      <td>1998</td>\n",
              "      <td>Ay yo you wonder who I are I guzzle up at the...</td>\n",
              "      <td>0</td>\n",
              "    </tr>\n",
              "    <tr>\n",
              "      <th>2</th>\n",
              "      <td>DEvils</td>\n",
              "      <td>rap</td>\n",
              "      <td>JAY-Z</td>\n",
              "      <td>1996</td>\n",
              "      <td>Dear God – I wonder</td>\n",
              "      <td>0</td>\n",
              "    </tr>\n",
              "    <tr>\n",
              "      <th>3</th>\n",
              "      <td>Its Hot Some Like It Hot</td>\n",
              "      <td>rap</td>\n",
              "      <td>JAY-Z</td>\n",
              "      <td>1999</td>\n",
              "      <td>Yo, show closer, J-to-the-A-Y-Hovah Place s...</td>\n",
              "      <td>0</td>\n",
              "    </tr>\n",
              "    <tr>\n",
              "      <th>4</th>\n",
              "      <td>Its Like That</td>\n",
              "      <td>rap</td>\n",
              "      <td>JAY-Z</td>\n",
              "      <td>1998</td>\n",
              "      <td>Yeah, uh-huh, watch this y'all Uhh, watch thi...</td>\n",
              "      <td>0</td>\n",
              "    </tr>\n",
              "    <tr>\n",
              "      <th>...</th>\n",
              "      <td>...</td>\n",
              "      <td>...</td>\n",
              "      <td>...</td>\n",
              "      <td>...</td>\n",
              "      <td>...</td>\n",
              "      <td>...</td>\n",
              "    </tr>\n",
              "    <tr>\n",
              "      <th>223175</th>\n",
              "      <td>Iris</td>\n",
              "      <td>rock</td>\n",
              "      <td>Goo Goo Dolls</td>\n",
              "      <td>1999</td>\n",
              "      <td>And I'd give up forever to touch you'Cause I k...</td>\n",
              "      <td>1</td>\n",
              "    </tr>\n",
              "    <tr>\n",
              "      <th>223176</th>\n",
              "      <td>Satisfy You</td>\n",
              "      <td>hip hop</td>\n",
              "      <td>Puff Daddy featuring R. Kelly</td>\n",
              "      <td>1999</td>\n",
              "      <td>All I want is somebody who's gonna love me for...</td>\n",
              "      <td>1</td>\n",
              "    </tr>\n",
              "    <tr>\n",
              "      <th>223177</th>\n",
              "      <td>Music of My Heart</td>\n",
              "      <td>pop</td>\n",
              "      <td>NSYNC and Gloria Estefan</td>\n",
              "      <td>1999</td>\n",
              "      <td>You'll never know what you've done for meWhat ...</td>\n",
              "      <td>1</td>\n",
              "    </tr>\n",
              "    <tr>\n",
              "      <th>223178</th>\n",
              "      <td>When You Believe</td>\n",
              "      <td>rb</td>\n",
              "      <td>Whitney Houston and Mariah Carey</td>\n",
              "      <td>1999</td>\n",
              "      <td>Many nights we've prayedWith no proof anyone c...</td>\n",
              "      <td>1</td>\n",
              "    </tr>\n",
              "    <tr>\n",
              "      <th>223179</th>\n",
              "      <td>(God Must Have Spent) A Little More Time on You</td>\n",
              "      <td>NaN</td>\n",
              "      <td>Alabama and NSYNC</td>\n",
              "      <td>1999</td>\n",
              "      <td>Can this be true? Tell me, can this be real?Ho...</td>\n",
              "      <td>1</td>\n",
              "    </tr>\n",
              "  </tbody>\n",
              "</table>\n",
              "<p>223180 rows × 6 columns</p>\n",
              "</div>"
            ],
            "text/plain": [
              "                                                  title      tag  \\\n",
              "0                                            Can I Live      rap   \n",
              "1                                     Rockin and Rollin      rap   \n",
              "2                                                DEvils      rap   \n",
              "3                              Its Hot Some Like It Hot      rap   \n",
              "4                                         Its Like That      rap   \n",
              "...                                                 ...      ...   \n",
              "223175                                             Iris     rock   \n",
              "223176                                      Satisfy You  hip hop   \n",
              "223177                                Music of My Heart      pop   \n",
              "223178                                 When You Believe       rb   \n",
              "223179  (God Must Have Spent) A Little More Time on You      NaN   \n",
              "\n",
              "                                  artist  year  \\\n",
              "0                                  JAY-Z  1996   \n",
              "1                                Cam'ron  1998   \n",
              "2                                  JAY-Z  1996   \n",
              "3                                  JAY-Z  1999   \n",
              "4                                  JAY-Z  1998   \n",
              "...                                  ...   ...   \n",
              "223175                     Goo Goo Dolls  1999   \n",
              "223176     Puff Daddy featuring R. Kelly  1999   \n",
              "223177          NSYNC and Gloria Estefan  1999   \n",
              "223178  Whitney Houston and Mariah Carey  1999   \n",
              "223179                 Alabama and NSYNC  1999   \n",
              "\n",
              "                                                   lyrics  Label  \n",
              "0          Yeah, hah, yeah, Roc-A-Fella We invite you ...      0  \n",
              "1        Ay yo you wonder who I are I guzzle up at the...      0  \n",
              "2                                     Dear God – I wonder      0  \n",
              "3          Yo, show closer, J-to-the-A-Y-Hovah Place s...      0  \n",
              "4        Yeah, uh-huh, watch this y'all Uhh, watch thi...      0  \n",
              "...                                                   ...    ...  \n",
              "223175  And I'd give up forever to touch you'Cause I k...      1  \n",
              "223176  All I want is somebody who's gonna love me for...      1  \n",
              "223177  You'll never know what you've done for meWhat ...      1  \n",
              "223178  Many nights we've prayedWith no proof anyone c...      1  \n",
              "223179  Can this be true? Tell me, can this be real?Ho...      1  \n",
              "\n",
              "[223180 rows x 6 columns]"
            ]
          },
          "execution_count": 34,
          "metadata": {},
          "output_type": "execute_result"
        }
      ],
      "source": [
        "\n",
        "os.chdir(\"/Users/ariannazottoli/Library/CloudStorage/OneDrive-UniversitàCommercialeLuigiBocconi/NLP/Project/Classifier\")\n",
        "data_90_99= pd.read_csv(\"total90_99.csv\")\n",
        "data_90_99"
      ]
    },
    {
      "cell_type": "code",
      "execution_count": 35,
      "metadata": {
        "id": "-mDvjhd4TMVE",
        "outputId": "b6c2fbe0-b80e-44fd-992a-da9d8f097b31"
      },
      "outputs": [
        {
          "data": {
            "text/html": [
              "<div>\n",
              "<style scoped>\n",
              "    .dataframe tbody tr th:only-of-type {\n",
              "        vertical-align: middle;\n",
              "    }\n",
              "\n",
              "    .dataframe tbody tr th {\n",
              "        vertical-align: top;\n",
              "    }\n",
              "\n",
              "    .dataframe thead th {\n",
              "        text-align: right;\n",
              "    }\n",
              "</style>\n",
              "<table border=\"1\" class=\"dataframe\">\n",
              "  <thead>\n",
              "    <tr style=\"text-align: right;\">\n",
              "      <th></th>\n",
              "      <th>title</th>\n",
              "      <th>tag</th>\n",
              "      <th>artist</th>\n",
              "      <th>year</th>\n",
              "      <th>lyrics</th>\n",
              "      <th>Label</th>\n",
              "    </tr>\n",
              "  </thead>\n",
              "  <tbody>\n",
              "    <tr>\n",
              "      <th>0</th>\n",
              "      <td>98 Freestyle</td>\n",
              "      <td>rap</td>\n",
              "      <td>Big L</td>\n",
              "      <td>2000</td>\n",
              "      <td>Yo, fuck all the glamours and glitz, I plan t...</td>\n",
              "      <td>0</td>\n",
              "    </tr>\n",
              "    <tr>\n",
              "      <th>1</th>\n",
              "      <td>Suck My Dick</td>\n",
              "      <td>rap</td>\n",
              "      <td>Lil' Kim</td>\n",
              "      <td>2000</td>\n",
              "      <td>Love me when I'm broke or when I'm filthy fuc...</td>\n",
              "      <td>0</td>\n",
              "    </tr>\n",
              "    <tr>\n",
              "      <th>2</th>\n",
              "      <td>Losin Weight</td>\n",
              "      <td>rap</td>\n",
              "      <td>Cam'ron</td>\n",
              "      <td>2000</td>\n",
              "      <td>Why I feel like I'm losing weight? Why I ain'...</td>\n",
              "      <td>0</td>\n",
              "    </tr>\n",
              "    <tr>\n",
              "      <th>3</th>\n",
              "      <td>Stan</td>\n",
              "      <td>rap</td>\n",
              "      <td>Eminem</td>\n",
              "      <td>2000</td>\n",
              "      <td>My tea's gone cold, I'm wondering why I Got...</td>\n",
              "      <td>0</td>\n",
              "    </tr>\n",
              "    <tr>\n",
              "      <th>4</th>\n",
              "      <td>Kill You</td>\n",
              "      <td>rap</td>\n",
              "      <td>Eminem</td>\n",
              "      <td>2000</td>\n",
              "      <td>When I was just a little baby boy My momma ...</td>\n",
              "      <td>0</td>\n",
              "    </tr>\n",
              "    <tr>\n",
              "      <th>...</th>\n",
              "      <td>...</td>\n",
              "      <td>...</td>\n",
              "      <td>...</td>\n",
              "      <td>...</td>\n",
              "      <td>...</td>\n",
              "      <td>...</td>\n",
              "    </tr>\n",
              "    <tr>\n",
              "      <th>33620</th>\n",
              "      <td>Cowboy Take Me Away</td>\n",
              "      <td>country</td>\n",
              "      <td>Dixie Chicks</td>\n",
              "      <td>2000</td>\n",
              "      <td>I said, \"I wanna touch the earthI wanna break ...</td>\n",
              "      <td>1</td>\n",
              "    </tr>\n",
              "    <tr>\n",
              "      <th>33621</th>\n",
              "      <td>I Don't Wanna</td>\n",
              "      <td>rb</td>\n",
              "      <td>Aaliyah</td>\n",
              "      <td>2000</td>\n",
              "      <td>Ooh, yeah-yeah-yeahOh-oh, oh-yeah-yeahI don't ...</td>\n",
              "      <td>1</td>\n",
              "    </tr>\n",
              "    <tr>\n",
              "      <th>33622</th>\n",
              "      <td>Independent Women Part I</td>\n",
              "      <td>rb</td>\n",
              "      <td>Destiny's Child</td>\n",
              "      <td>2000</td>\n",
              "      <td>Lucy Liu With my girl Drew Cameron D. and Dest...</td>\n",
              "      <td>1</td>\n",
              "    </tr>\n",
              "    <tr>\n",
              "      <th>33623</th>\n",
              "      <td>Waiting for Tonight</td>\n",
              "      <td>pop</td>\n",
              "      <td>Jennifer Lopez</td>\n",
              "      <td>2000</td>\n",
              "      <td>Oh, yeahLike a movie sceneIn the sweetest drea...</td>\n",
              "      <td>1</td>\n",
              "    </tr>\n",
              "    <tr>\n",
              "      <th>33624</th>\n",
              "      <td>Shackles (Praise You)</td>\n",
              "      <td>other</td>\n",
              "      <td>Mary Mary</td>\n",
              "      <td>2000</td>\n",
              "      <td>Whew, it sure is hot out here, you know?I don'...</td>\n",
              "      <td>1</td>\n",
              "    </tr>\n",
              "  </tbody>\n",
              "</table>\n",
              "<p>33625 rows × 6 columns</p>\n",
              "</div>"
            ],
            "text/plain": [
              "                          title      tag           artist  year  \\\n",
              "0                  98 Freestyle      rap            Big L  2000   \n",
              "1                  Suck My Dick      rap         Lil' Kim  2000   \n",
              "2                  Losin Weight      rap          Cam'ron  2000   \n",
              "3                          Stan      rap           Eminem  2000   \n",
              "4                      Kill You      rap           Eminem  2000   \n",
              "...                         ...      ...              ...   ...   \n",
              "33620       Cowboy Take Me Away  country     Dixie Chicks  2000   \n",
              "33621             I Don't Wanna       rb          Aaliyah  2000   \n",
              "33622  Independent Women Part I       rb  Destiny's Child  2000   \n",
              "33623       Waiting for Tonight      pop   Jennifer Lopez  2000   \n",
              "33624     Shackles (Praise You)    other        Mary Mary  2000   \n",
              "\n",
              "                                                  lyrics  Label  \n",
              "0       Yo, fuck all the glamours and glitz, I plan t...      0  \n",
              "1       Love me when I'm broke or when I'm filthy fuc...      0  \n",
              "2       Why I feel like I'm losing weight? Why I ain'...      0  \n",
              "3         My tea's gone cold, I'm wondering why I Got...      0  \n",
              "4         When I was just a little baby boy My momma ...      0  \n",
              "...                                                  ...    ...  \n",
              "33620  I said, \"I wanna touch the earthI wanna break ...      1  \n",
              "33621  Ooh, yeah-yeah-yeahOh-oh, oh-yeah-yeahI don't ...      1  \n",
              "33622  Lucy Liu With my girl Drew Cameron D. and Dest...      1  \n",
              "33623  Oh, yeahLike a movie sceneIn the sweetest drea...      1  \n",
              "33624  Whew, it sure is hot out here, you know?I don'...      1  \n",
              "\n",
              "[33625 rows x 6 columns]"
            ]
          },
          "execution_count": 35,
          "metadata": {},
          "output_type": "execute_result"
        }
      ],
      "source": [
        "data_00_09= pd.read_csv(\"total00_09.csv\")\n",
        "data_00= data_00_09[data_00_09['year']==2000].reset_index(drop=True)\n",
        "data_00"
      ]
    },
    {
      "cell_type": "code",
      "execution_count": 36,
      "metadata": {
        "id": "jOl-1584TMVF",
        "outputId": "532082d3-801d-4e9b-a423-c2d429c1b64b"
      },
      "outputs": [
        {
          "data": {
            "text/html": [
              "<div>\n",
              "<style scoped>\n",
              "    .dataframe tbody tr th:only-of-type {\n",
              "        vertical-align: middle;\n",
              "    }\n",
              "\n",
              "    .dataframe tbody tr th {\n",
              "        vertical-align: top;\n",
              "    }\n",
              "\n",
              "    .dataframe thead th {\n",
              "        text-align: right;\n",
              "    }\n",
              "</style>\n",
              "<table border=\"1\" class=\"dataframe\">\n",
              "  <thead>\n",
              "    <tr style=\"text-align: right;\">\n",
              "      <th></th>\n",
              "      <th>title</th>\n",
              "      <th>tag</th>\n",
              "      <th>artist</th>\n",
              "      <th>year</th>\n",
              "      <th>lyrics</th>\n",
              "      <th>Label</th>\n",
              "    </tr>\n",
              "  </thead>\n",
              "  <tbody>\n",
              "    <tr>\n",
              "      <th>0</th>\n",
              "      <td>Can I Live</td>\n",
              "      <td>rap</td>\n",
              "      <td>JAY-Z</td>\n",
              "      <td>1996</td>\n",
              "      <td>Yeah, hah, yeah, Roc-A-Fella We invite you ...</td>\n",
              "      <td>0</td>\n",
              "    </tr>\n",
              "    <tr>\n",
              "      <th>1</th>\n",
              "      <td>Rockin and Rollin</td>\n",
              "      <td>rap</td>\n",
              "      <td>Cam'ron</td>\n",
              "      <td>1998</td>\n",
              "      <td>Ay yo you wonder who I are I guzzle up at the...</td>\n",
              "      <td>0</td>\n",
              "    </tr>\n",
              "    <tr>\n",
              "      <th>2</th>\n",
              "      <td>DEvils</td>\n",
              "      <td>rap</td>\n",
              "      <td>JAY-Z</td>\n",
              "      <td>1996</td>\n",
              "      <td>Dear God – I wonder</td>\n",
              "      <td>0</td>\n",
              "    </tr>\n",
              "    <tr>\n",
              "      <th>3</th>\n",
              "      <td>Its Hot Some Like It Hot</td>\n",
              "      <td>rap</td>\n",
              "      <td>JAY-Z</td>\n",
              "      <td>1999</td>\n",
              "      <td>Yo, show closer, J-to-the-A-Y-Hovah Place s...</td>\n",
              "      <td>0</td>\n",
              "    </tr>\n",
              "    <tr>\n",
              "      <th>4</th>\n",
              "      <td>Its Like That</td>\n",
              "      <td>rap</td>\n",
              "      <td>JAY-Z</td>\n",
              "      <td>1998</td>\n",
              "      <td>Yeah, uh-huh, watch this y'all Uhh, watch thi...</td>\n",
              "      <td>0</td>\n",
              "    </tr>\n",
              "    <tr>\n",
              "      <th>...</th>\n",
              "      <td>...</td>\n",
              "      <td>...</td>\n",
              "      <td>...</td>\n",
              "      <td>...</td>\n",
              "      <td>...</td>\n",
              "      <td>...</td>\n",
              "    </tr>\n",
              "    <tr>\n",
              "      <th>33620</th>\n",
              "      <td>Cowboy Take Me Away</td>\n",
              "      <td>country</td>\n",
              "      <td>Dixie Chicks</td>\n",
              "      <td>2000</td>\n",
              "      <td>I said, \"I wanna touch the earthI wanna break ...</td>\n",
              "      <td>1</td>\n",
              "    </tr>\n",
              "    <tr>\n",
              "      <th>33621</th>\n",
              "      <td>I Don't Wanna</td>\n",
              "      <td>rb</td>\n",
              "      <td>Aaliyah</td>\n",
              "      <td>2000</td>\n",
              "      <td>Ooh, yeah-yeah-yeahOh-oh, oh-yeah-yeahI don't ...</td>\n",
              "      <td>1</td>\n",
              "    </tr>\n",
              "    <tr>\n",
              "      <th>33622</th>\n",
              "      <td>Independent Women Part I</td>\n",
              "      <td>rb</td>\n",
              "      <td>Destiny's Child</td>\n",
              "      <td>2000</td>\n",
              "      <td>Lucy Liu With my girl Drew Cameron D. and Dest...</td>\n",
              "      <td>1</td>\n",
              "    </tr>\n",
              "    <tr>\n",
              "      <th>33623</th>\n",
              "      <td>Waiting for Tonight</td>\n",
              "      <td>pop</td>\n",
              "      <td>Jennifer Lopez</td>\n",
              "      <td>2000</td>\n",
              "      <td>Oh, yeahLike a movie sceneIn the sweetest drea...</td>\n",
              "      <td>1</td>\n",
              "    </tr>\n",
              "    <tr>\n",
              "      <th>33624</th>\n",
              "      <td>Shackles (Praise You)</td>\n",
              "      <td>other</td>\n",
              "      <td>Mary Mary</td>\n",
              "      <td>2000</td>\n",
              "      <td>Whew, it sure is hot out here, you know?I don'...</td>\n",
              "      <td>1</td>\n",
              "    </tr>\n",
              "  </tbody>\n",
              "</table>\n",
              "<p>256805 rows × 6 columns</p>\n",
              "</div>"
            ],
            "text/plain": [
              "                          title      tag           artist  year  \\\n",
              "0                    Can I Live      rap            JAY-Z  1996   \n",
              "1             Rockin and Rollin      rap          Cam'ron  1998   \n",
              "2                        DEvils      rap            JAY-Z  1996   \n",
              "3      Its Hot Some Like It Hot      rap            JAY-Z  1999   \n",
              "4                 Its Like That      rap            JAY-Z  1998   \n",
              "...                         ...      ...              ...   ...   \n",
              "33620       Cowboy Take Me Away  country     Dixie Chicks  2000   \n",
              "33621             I Don't Wanna       rb          Aaliyah  2000   \n",
              "33622  Independent Women Part I       rb  Destiny's Child  2000   \n",
              "33623       Waiting for Tonight      pop   Jennifer Lopez  2000   \n",
              "33624     Shackles (Praise You)    other        Mary Mary  2000   \n",
              "\n",
              "                                                  lyrics  Label  \n",
              "0         Yeah, hah, yeah, Roc-A-Fella We invite you ...      0  \n",
              "1       Ay yo you wonder who I are I guzzle up at the...      0  \n",
              "2                                    Dear God – I wonder      0  \n",
              "3         Yo, show closer, J-to-the-A-Y-Hovah Place s...      0  \n",
              "4       Yeah, uh-huh, watch this y'all Uhh, watch thi...      0  \n",
              "...                                                  ...    ...  \n",
              "33620  I said, \"I wanna touch the earthI wanna break ...      1  \n",
              "33621  Ooh, yeah-yeah-yeahOh-oh, oh-yeah-yeahI don't ...      1  \n",
              "33622  Lucy Liu With my girl Drew Cameron D. and Dest...      1  \n",
              "33623  Oh, yeahLike a movie sceneIn the sweetest drea...      1  \n",
              "33624  Whew, it sure is hot out here, you know?I don'...      1  \n",
              "\n",
              "[256805 rows x 6 columns]"
            ]
          },
          "execution_count": 36,
          "metadata": {},
          "output_type": "execute_result"
        }
      ],
      "source": [
        "df= pd.concat([data_90_99, data_00], axis=0)\n",
        "df"
      ]
    },
    {
      "cell_type": "markdown",
      "metadata": {
        "id": "r2DUi-WBTMVG"
      },
      "source": [
        "## Labels"
      ]
    },
    {
      "cell_type": "code",
      "execution_count": 37,
      "metadata": {
        "colab": {
          "base_uri": "https://localhost:8080/",
          "height": 139
        },
        "id": "2B95g97rTMVG",
        "outputId": "1969cc13-ad47-4940-87e6-849ad6c90a02"
      },
      "outputs": [
        {
          "data": {
            "text/plain": [
              "Label\n",
              "0    0.995783\n",
              "1    0.004217\n",
              "Name: count, dtype: float64"
            ]
          },
          "execution_count": 37,
          "metadata": {},
          "output_type": "execute_result"
        }
      ],
      "source": [
        "labels= df['Label'].value_counts()/len(df)\n",
        "labels "
      ]
    },
    {
      "cell_type": "markdown",
      "metadata": {},
      "source": [
        "We have very imbalanced classes."
      ]
    },
    {
      "cell_type": "code",
      "execution_count": 38,
      "metadata": {
        "id": "EN7YYrzOhBbP",
        "outputId": "cd2f2ce2-20ca-4612-deca-2b074e57bfbe"
      },
      "outputs": [
        {
          "data": {
            "image/png": "[encoded data removed]",
            "text/plain": [
              "<Figure size 800x600 with 1 Axes>"
            ]
          },
          "metadata": {},
          "output_type": "display_data"
        }
      ],
      "source": [
        "plt.figure(figsize=(8, 6))\n",
        "labels.plot(kind='bar')\n",
        "plt.title('Value Counts of Labels')\n",
        "plt.xlabel('Label')\n",
        "plt.ylabel('Count')\n",
        "plt.xticks(rotation=0)\n",
        "plt.show()"
      ]
    },
    {
      "cell_type": "markdown",
      "metadata": {
        "id": "qhwTD2Z3TMVG"
      },
      "source": [
        "## Tag"
      ]
    },
    {
      "cell_type": "code",
      "execution_count": 39,
      "metadata": {
        "id": "r2UECjJGTMVG",
        "outputId": "ae3ef75d-5f8b-48d5-edaa-f86659578891"
      },
      "outputs": [
        {
          "data": {
            "text/plain": [
              "tag\n",
              "pop               156588\n",
              "rock               56529\n",
              "rap                24925\n",
              "country             8009\n",
              "rb                  7557\n",
              "misc                3042\n",
              "hip hop               48\n",
              "other                 15\n",
              "dance                 12\n",
              "blues                  7\n",
              "soul                   7\n",
              "reggae                 7\n",
              "metal                  5\n",
              "swing                  4\n",
              "new wave               3\n",
              "90s                    2\n",
              "easy listening         2\n",
              "post-grunge            2\n",
              "funk                   1\n",
              "drum and bass          1\n",
              "oldies                 1\n",
              "folk                   1\n",
              "electronic             1\n",
              "Name: count, dtype: int64"
            ]
          },
          "execution_count": 39,
          "metadata": {},
          "output_type": "execute_result"
        }
      ],
      "source": [
        "df['tag'].value_counts()"
      ]
    },
    {
      "cell_type": "markdown",
      "metadata": {
        "id": "6mI4h6wWTMVG"
      },
      "source": [
        "#### Standardize the less frequent genres into \"other\".\n"
      ]
    },
    {
      "cell_type": "code",
      "execution_count": 40,
      "metadata": {
        "id": "jefzZCL0TMVH"
      },
      "outputs": [],
      "source": [
        "\n",
        "df.loc[~df['tag'].isin(['pop', 'rock', 'rap', 'rb', 'country', 'misc', 'hip hop', 'other']), 'tag']= 'other'\n",
        "tags_total= df['tag'].value_counts()/ len(df)"
      ]
    },
    {
      "cell_type": "code",
      "execution_count": 41,
      "metadata": {
        "id": "km-aeuGPvy1l",
        "outputId": "8081bca7-2e6a-4087-f9fe-fab78371005a"
      },
      "outputs": [
        {
          "data": {
            "image/png": "[encoded data removed]",
            "text/plain": [
              "<Figure size 800x600 with 1 Axes>"
            ]
          },
          "metadata": {},
          "output_type": "display_data"
        }
      ],
      "source": [
        "plt.figure(figsize=(8, 6))\n",
        "tags_total.plot(kind='bar')\n",
        "plt.title('Value Counts of Genres')\n",
        "plt.xlabel('Genre')\n",
        "plt.ylabel('Count')\n",
        "plt.xticks(rotation=0)\n",
        "plt.show()"
      ]
    },
    {
      "cell_type": "markdown",
      "metadata": {
        "id": "YKzbgT1STMVJ"
      },
      "source": [
        "# Handle class imbalance with undersampling"
      ]
    },
    {
      "cell_type": "markdown",
      "metadata": {
        "id": "M3yH97fqTMVJ"
      },
      "source": [
        "Handling class imbalance is an important step before building the classifier, because the dataset has a disproportionate number of instances for the two classes. If not handled properly, models may become biased towards the majority class (non-top songs, with label 0) and may have poor performance in predicting the minority class (top songs, with label 1).\n"
      ]
    },
    {
      "cell_type": "markdown",
      "metadata": {
        "id": "bcx4UoByTMVK"
      },
      "source": [
        "## Stratified sampling"
      ]
    },
    {
      "cell_type": "markdown",
      "metadata": {},
      "source": [
        "The following function performs stratified sampling by label and genre. It ensures that the resulting dataset maintains the distribution of tags within the majority class (non-top songs). \n",
        "We reduce the number of non-top songs to about 10,000 and keep all the top songs. "
      ]
    },
    {
      "cell_type": "code",
      "execution_count": 31,
      "metadata": {
        "id": "HBcybFS_TMVL",
        "outputId": "49032c74-a3c1-4ab8-c099-db712be08a0c"
      },
      "outputs": [
        {
          "name": "stdout",
          "output_type": "stream",
          "text": [
            "Label\n",
            "0    9997\n",
            "1    1083\n",
            "Name: count, dtype: int64\n",
            "tag\n",
            "pop        6423\n",
            "rock       2403\n",
            "rap        1063\n",
            "rb          570\n",
            "country     348\n",
            "misc        118\n",
            "other       107\n",
            "hip hop      48\n",
            "Name: count, dtype: int64\n"
          ]
        }
      ],
      "source": [
        "\n",
        "def stratified_sampling(df, label_col='Label', tag_col='tag', total_n_samples=10000):\n",
        "    \n",
        "    tags = df[tag_col].unique()\n",
        "\n",
        "    #Calculate the size of the majority class for each tag\n",
        "    majority_class_sizes = df[df[label_col] == 0][tag_col].value_counts()\n",
        "    total_majority_class_size = majority_class_sizes.sum()\n",
        "\n",
        "    #Determine the number of samples per tag based on their proportion in the majority class\n",
        "    tag_sample_sizes = (majority_class_sizes / total_majority_class_size * total_n_samples).astype(int)\n",
        "    \n",
        "    sampled_data = []\n",
        "\n",
        "    for tag in tags:\n",
        "        tag_df = df[df[tag_col] == tag]  \n",
        "\n",
        "        #Split the tag dataframe into majority and minority classes\n",
        "        df_majority = tag_df[tag_df[label_col] == 0]\n",
        "        df_minority = tag_df[tag_df[label_col] == 1]\n",
        "\n",
        "        #Determine the number of samples to draw for the current tag\n",
        "        n_samples_tag = tag_sample_sizes.get(tag, 0)\n",
        "        \n",
        "        #Downsample the majority class\n",
        "        df_majority_downsampled = resample(df_majority,\n",
        "                                           replace=False,\n",
        "                                           n_samples=min(len(df_majority), n_samples_tag),\n",
        "                                           random_state=42)\n",
        "\n",
        "        \n",
        "        downsampled_tag = pd.concat([df_majority_downsampled, df_minority])\n",
        "        sampled_data.append(downsampled_tag)\n",
        "\n",
        "    df_downsampled = pd.concat(sampled_data)\n",
        "\n",
        "    return df_downsampled\n",
        "\n",
        "\n",
        "df_downsampled = stratified_sampling(df, label_col='Label', tag_col='tag', total_n_samples=10000)\n",
        "\n",
        "\n",
        "print(df_downsampled['Label'].value_counts())\n",
        "print(df_downsampled['tag'].value_counts())\n",
        "\n"
      ]
    },
    {
      "cell_type": "code",
      "execution_count": 10,
      "metadata": {
        "id": "kgAt60GtTMVL",
        "outputId": "5c7891c6-a6d1-4416-d70b-2fc19cf10f95"
      },
      "outputs": [
        {
          "data": {
            "text/plain": [
              "tag\n",
              "pop        6111\n",
              "rock       2202\n",
              "rap         971\n",
              "country     311\n",
              "rb          284\n",
              "misc        118\n",
              "Name: count, dtype: int64"
            ]
          },
          "execution_count": 10,
          "metadata": {},
          "output_type": "execute_result"
        }
      ],
      "source": [
        "df_downsampled[df_downsampled['Label']==0]['tag'].value_counts()"
      ]
    },
    {
      "cell_type": "markdown",
      "metadata": {
        "id": "6qPqyGwpGGM1"
      },
      "source": [
        "# Data Exploration"
      ]
    },
    {
      "cell_type": "markdown",
      "metadata": {},
      "source": [
        "Now we consider the extracted subsample to which we have added the sentiment scores for each song. Check the \"sentiment_analysis.ipynb\" notebook to see how the sentiment scores were calculated.\n"
      ]
    },
    {
      "cell_type": "code",
      "execution_count": 42,
      "metadata": {
        "colab": {
          "base_uri": "https://localhost:8080/",
          "height": 827
        },
        "id": "2YW_tzWdGGM1",
        "outputId": "1a348269-7322-430d-d370-bc205a0f9ba2"
      },
      "outputs": [
        {
          "data": {
            "text/html": [
              "<div>\n",
              "<style scoped>\n",
              "    .dataframe tbody tr th:only-of-type {\n",
              "        vertical-align: middle;\n",
              "    }\n",
              "\n",
              "    .dataframe tbody tr th {\n",
              "        vertical-align: top;\n",
              "    }\n",
              "\n",
              "    .dataframe thead th {\n",
              "        text-align: right;\n",
              "    }\n",
              "</style>\n",
              "<table border=\"1\" class=\"dataframe\">\n",
              "  <thead>\n",
              "    <tr style=\"text-align: right;\">\n",
              "      <th></th>\n",
              "      <th>Unnamed: 0</th>\n",
              "      <th>title</th>\n",
              "      <th>tag</th>\n",
              "      <th>artist</th>\n",
              "      <th>year</th>\n",
              "      <th>lyrics</th>\n",
              "      <th>Label</th>\n",
              "      <th>text</th>\n",
              "      <th>negative</th>\n",
              "      <th>neutral</th>\n",
              "      <th>positive</th>\n",
              "    </tr>\n",
              "  </thead>\n",
              "  <tbody>\n",
              "    <tr>\n",
              "      <th>0</th>\n",
              "      <td>0</td>\n",
              "      <td>Killagram</td>\n",
              "      <td>rap</td>\n",
              "      <td>Esham</td>\n",
              "      <td>1996</td>\n",
              "      <td>Its the Mr Unholy sinster Man I murdered you...</td>\n",
              "      <td>0</td>\n",
              "      <td>Its the Mr Unholy sinster Man I murdered your ...</td>\n",
              "      <td>0.8366</td>\n",
              "      <td>0.1525</td>\n",
              "      <td>0.0109</td>\n",
              "    </tr>\n",
              "    <tr>\n",
              "      <th>1</th>\n",
              "      <td>1</td>\n",
              "      <td>Riding and Surviving</td>\n",
              "      <td>rap</td>\n",
              "      <td>Prime Minister</td>\n",
              "      <td>2000</td>\n",
              "      <td>Im kickin this for my Lord and Savior Jesus C...</td>\n",
              "      <td>0</td>\n",
              "      <td>Im kickin this for my Lord and Savior Jesus Ch...</td>\n",
              "      <td>0.1080</td>\n",
              "      <td>0.7115</td>\n",
              "      <td>0.1805</td>\n",
              "    </tr>\n",
              "    <tr>\n",
              "      <th>2</th>\n",
              "      <td>2</td>\n",
              "      <td>Win the G</td>\n",
              "      <td>rap</td>\n",
              "      <td>O.C.</td>\n",
              "      <td>1997</td>\n",
              "      <td>OC ft Bumpy Knuckles  Win the G      Yo OC are...</td>\n",
              "      <td>0</td>\n",
              "      <td>OC ft Bumpy Knuckles Win the G Yo OC are you r...</td>\n",
              "      <td>0.4090</td>\n",
              "      <td>0.5169</td>\n",
              "      <td>0.0740</td>\n",
              "    </tr>\n",
              "    <tr>\n",
              "      <th>3</th>\n",
              "      <td>3</td>\n",
              "      <td>Old to the New</td>\n",
              "      <td>rap</td>\n",
              "      <td>Nice &amp; Smooth</td>\n",
              "      <td>1994</td>\n",
              "      <td>Artist Nice  Smooth Album  Jewel of the Nile S...</td>\n",
              "      <td>0</td>\n",
              "      <td>Artist Nice Smooth Album Jewel of the Nile Son...</td>\n",
              "      <td>0.0734</td>\n",
              "      <td>0.5730</td>\n",
              "      <td>0.3536</td>\n",
              "    </tr>\n",
              "    <tr>\n",
              "      <th>4</th>\n",
              "      <td>4</td>\n",
              "      <td>Well Never Stop</td>\n",
              "      <td>rap</td>\n",
              "      <td>Rakim</td>\n",
              "      <td>1999</td>\n",
              "      <td>We love to flirt To chase the skirts Get to k...</td>\n",
              "      <td>0</td>\n",
              "      <td>We love to flirt To chase the skirts Get to k...</td>\n",
              "      <td>0.3223</td>\n",
              "      <td>0.5714</td>\n",
              "      <td>0.1063</td>\n",
              "    </tr>\n",
              "    <tr>\n",
              "      <th>...</th>\n",
              "      <td>...</td>\n",
              "      <td>...</td>\n",
              "      <td>...</td>\n",
              "      <td>...</td>\n",
              "      <td>...</td>\n",
              "      <td>...</td>\n",
              "      <td>...</td>\n",
              "      <td>...</td>\n",
              "      <td>...</td>\n",
              "      <td>...</td>\n",
              "      <td>...</td>\n",
              "    </tr>\n",
              "    <tr>\n",
              "      <th>11075</th>\n",
              "      <td>11075</td>\n",
              "      <td>Satisfy You</td>\n",
              "      <td>hip hop</td>\n",
              "      <td>Puff Daddy featuring R. Kelly</td>\n",
              "      <td>1999</td>\n",
              "      <td>All I want is somebody whos gonna love me for ...</td>\n",
              "      <td>1</td>\n",
              "      <td>All I want is somebody whos gonna love me for ...</td>\n",
              "      <td>0.1174</td>\n",
              "      <td>0.5791</td>\n",
              "      <td>0.3035</td>\n",
              "    </tr>\n",
              "    <tr>\n",
              "      <th>11076</th>\n",
              "      <td>11076</td>\n",
              "      <td>Big Pimpin'</td>\n",
              "      <td>hip hop</td>\n",
              "      <td>Jay-Z featuring UGK</td>\n",
              "      <td>2000</td>\n",
              "      <td>Uh uh uh uhIts big pimpin baby Its big pimpin ...</td>\n",
              "      <td>1</td>\n",
              "      <td>Uh uh uh uhIts big pimpin baby Its big pimpin ...</td>\n",
              "      <td>0.4372</td>\n",
              "      <td>0.4580</td>\n",
              "      <td>0.1048</td>\n",
              "    </tr>\n",
              "    <tr>\n",
              "      <th>11077</th>\n",
              "      <td>11077</td>\n",
              "      <td>Forgot About Dre</td>\n",
              "      <td>hip hop</td>\n",
              "      <td>Dr. Dre featuring Eminem</td>\n",
              "      <td>2000</td>\n",
              "      <td>Yall know me still the same OGBut I been lowke...</td>\n",
              "      <td>1</td>\n",
              "      <td>Yall know me still the same OGBut I been lowke...</td>\n",
              "      <td>0.6672</td>\n",
              "      <td>0.2988</td>\n",
              "      <td>0.0341</td>\n",
              "    </tr>\n",
              "    <tr>\n",
              "      <th>11078</th>\n",
              "      <td>11078</td>\n",
              "      <td>The Next Episode</td>\n",
              "      <td>hip hop</td>\n",
              "      <td>Dr. Dre featuring Snoop Dogg</td>\n",
              "      <td>2000</td>\n",
              "      <td>LadadadadahIts the motherfuckin DOdoubleG Lada...</td>\n",
              "      <td>1</td>\n",
              "      <td>LadadadadahIts the motherfuckin DOdoubleG Lada...</td>\n",
              "      <td>0.5132</td>\n",
              "      <td>0.4103</td>\n",
              "      <td>0.0765</td>\n",
              "    </tr>\n",
              "    <tr>\n",
              "      <th>11079</th>\n",
              "      <td>11079</td>\n",
              "      <td>What'chu Like</td>\n",
              "      <td>hip hop</td>\n",
              "      <td>Da Brat featuring Tyrese</td>\n",
              "      <td>2000</td>\n",
              "      <td>Oh look outOh uh come onWhatchu like a whole l...</td>\n",
              "      <td>1</td>\n",
              "      <td>Oh look outOh uh come onWhatchu like a whole l...</td>\n",
              "      <td>0.2482</td>\n",
              "      <td>0.5186</td>\n",
              "      <td>0.2331</td>\n",
              "    </tr>\n",
              "  </tbody>\n",
              "</table>\n",
              "<p>11080 rows × 11 columns</p>\n",
              "</div>"
            ],
            "text/plain": [
              "       Unnamed: 0                 title      tag  \\\n",
              "0               0             Killagram      rap   \n",
              "1               1  Riding and Surviving      rap   \n",
              "2               2             Win the G      rap   \n",
              "3               3        Old to the New      rap   \n",
              "4               4       Well Never Stop      rap   \n",
              "...           ...                   ...      ...   \n",
              "11075       11075           Satisfy You  hip hop   \n",
              "11076       11076           Big Pimpin'  hip hop   \n",
              "11077       11077      Forgot About Dre  hip hop   \n",
              "11078       11078      The Next Episode  hip hop   \n",
              "11079       11079         What'chu Like  hip hop   \n",
              "\n",
              "                              artist  year  \\\n",
              "0                              Esham  1996   \n",
              "1                     Prime Minister  2000   \n",
              "2                               O.C.  1997   \n",
              "3                      Nice & Smooth  1994   \n",
              "4                              Rakim  1999   \n",
              "...                              ...   ...   \n",
              "11075  Puff Daddy featuring R. Kelly  1999   \n",
              "11076            Jay-Z featuring UGK  2000   \n",
              "11077       Dr. Dre featuring Eminem  2000   \n",
              "11078   Dr. Dre featuring Snoop Dogg  2000   \n",
              "11079       Da Brat featuring Tyrese  2000   \n",
              "\n",
              "                                                  lyrics  Label  \\\n",
              "0        Its the Mr Unholy sinster Man I murdered you...      0   \n",
              "1       Im kickin this for my Lord and Savior Jesus C...      0   \n",
              "2      OC ft Bumpy Knuckles  Win the G      Yo OC are...      0   \n",
              "3      Artist Nice  Smooth Album  Jewel of the Nile S...      0   \n",
              "4       We love to flirt To chase the skirts Get to k...      0   \n",
              "...                                                  ...    ...   \n",
              "11075  All I want is somebody whos gonna love me for ...      1   \n",
              "11076  Uh uh uh uhIts big pimpin baby Its big pimpin ...      1   \n",
              "11077  Yall know me still the same OGBut I been lowke...      1   \n",
              "11078  LadadadadahIts the motherfuckin DOdoubleG Lada...      1   \n",
              "11079  Oh look outOh uh come onWhatchu like a whole l...      1   \n",
              "\n",
              "                                                    text  negative  neutral  \\\n",
              "0      Its the Mr Unholy sinster Man I murdered your ...    0.8366   0.1525   \n",
              "1      Im kickin this for my Lord and Savior Jesus Ch...    0.1080   0.7115   \n",
              "2      OC ft Bumpy Knuckles Win the G Yo OC are you r...    0.4090   0.5169   \n",
              "3      Artist Nice Smooth Album Jewel of the Nile Son...    0.0734   0.5730   \n",
              "4       We love to flirt To chase the skirts Get to k...    0.3223   0.5714   \n",
              "...                                                  ...       ...      ...   \n",
              "11075  All I want is somebody whos gonna love me for ...    0.1174   0.5791   \n",
              "11076  Uh uh uh uhIts big pimpin baby Its big pimpin ...    0.4372   0.4580   \n",
              "11077  Yall know me still the same OGBut I been lowke...    0.6672   0.2988   \n",
              "11078  LadadadadahIts the motherfuckin DOdoubleG Lada...    0.5132   0.4103   \n",
              "11079  Oh look outOh uh come onWhatchu like a whole l...    0.2482   0.5186   \n",
              "\n",
              "       positive  \n",
              "0        0.0109  \n",
              "1        0.1805  \n",
              "2        0.0740  \n",
              "3        0.3536  \n",
              "4        0.1063  \n",
              "...         ...  \n",
              "11075    0.3035  \n",
              "11076    0.1048  \n",
              "11077    0.0341  \n",
              "11078    0.0765  \n",
              "11079    0.2331  \n",
              "\n",
              "[11080 rows x 11 columns]"
            ]
          },
          "execution_count": 42,
          "metadata": {},
          "output_type": "execute_result"
        }
      ],
      "source": [
        "df_downsampled= pd.read_csv(\"df_downsampled_sent_10000.csv\")\n",
        "df_downsampled"
      ]
    },
    {
      "cell_type": "markdown",
      "metadata": {
        "id": "Q8M6X9dcGGM1"
      },
      "source": [
        "### Labels"
      ]
    },
    {
      "cell_type": "code",
      "execution_count": 23,
      "metadata": {
        "id": "HgzhapBJGGM1",
        "outputId": "30542c37-4d7b-4ef5-b72c-44388ca5525f"
      },
      "outputs": [
        {
          "data": {
            "text/plain": [
              "Label\n",
              "0    0.902256\n",
              "1    0.097744\n",
              "Name: count, dtype: float64"
            ]
          },
          "execution_count": 23,
          "metadata": {},
          "output_type": "execute_result"
        }
      ],
      "source": [
        "labels= df_downsampled['Label'].value_counts()/len(df_downsampled)\n",
        "labels "
      ]
    },
    {
      "cell_type": "code",
      "execution_count": 24,
      "metadata": {
        "id": "3EfO9CB1GGM2",
        "outputId": "6db458a4-d05a-4838-d8e1-59507db85afd"
      },
      "outputs": [
        {
          "data": {
            "image/png": "[encoded data removed]",
            "text/plain": [
              "<Figure size 800x600 with 1 Axes>"
            ]
          },
          "metadata": {},
          "output_type": "display_data"
        }
      ],
      "source": [
        "plt.figure(figsize=(8, 6))\n",
        "labels.plot(kind='bar')\n",
        "plt.title('Value Counts of Labels')\n",
        "plt.xlabel('Label')\n",
        "plt.ylabel('Count')\n",
        "plt.xticks(rotation=0)\n",
        "plt.show()"
      ]
    },
    {
      "cell_type": "markdown",
      "metadata": {},
      "source": [
        "The classes are still imbalanced, but not as much as in the entire dataset."
      ]
    },
    {
      "cell_type": "markdown",
      "metadata": {
        "id": "cOGPR-knGGM2"
      },
      "source": [
        "### Tags"
      ]
    },
    {
      "cell_type": "code",
      "execution_count": 25,
      "metadata": {
        "id": "X_kLr0lHGGM2"
      },
      "outputs": [],
      "source": [
        "tags_total= df_downsampled['tag'].value_counts()/ len(df_downsampled)"
      ]
    },
    {
      "cell_type": "code",
      "execution_count": 26,
      "metadata": {
        "id": "xDhdutkuGGM2",
        "outputId": "9f1f3e29-af22-4c75-9604-86703efb973d"
      },
      "outputs": [
        {
          "data": {
            "image/png": "[encoded data removed]",
            "text/plain": [
              "<Figure size 800x600 with 1 Axes>"
            ]
          },
          "metadata": {},
          "output_type": "display_data"
        }
      ],
      "source": [
        "plt.figure(figsize=(8, 6))\n",
        "tags_total.plot(kind='bar')\n",
        "plt.title('Value Counts of Genres')\n",
        "plt.xlabel('Genre')\n",
        "plt.ylabel('Count')\n",
        "plt.xticks(rotation=0)\n",
        "plt.show()"
      ]
    },
    {
      "cell_type": "markdown",
      "metadata": {},
      "source": [
        "As expected given the period, the three most popular genres in our dataset are pop, rock, and rap, followed by R&B and country."
      ]
    },
    {
      "cell_type": "code",
      "execution_count": 27,
      "metadata": {
        "id": "yvgSsA1hGGM2",
        "outputId": "3673df3e-ddc2-4eb7-8234-00dcda54f1fd"
      },
      "outputs": [
        {
          "data": {
            "image/png": "[encoded data removed]",
            "text/plain": [
              "<Figure size 800x600 with 1 Axes>"
            ]
          },
          "metadata": {},
          "output_type": "display_data"
        }
      ],
      "source": [
        "df_label1= df_downsampled[df_downsampled['Label']==1]\n",
        "tags_1= df_label1['tag'].value_counts() /len(df_label1)\n",
        "\n",
        "plt.figure(figsize=(8, 6))\n",
        "tags_1.plot(kind='bar')\n",
        "plt.title('Value Counts of Top Songs Genres ')\n",
        "plt.xlabel('Genre')\n",
        "plt.ylabel('Count')\n",
        "plt.xticks(rotation=0)\n",
        "plt.show()"
      ]
    },
    {
      "cell_type": "code",
      "execution_count": 28,
      "metadata": {
        "id": "UT5oAeRrGGM3",
        "outputId": "16248439-6719-4512-f9a1-253ead50108b"
      },
      "outputs": [
        {
          "data": {
            "image/png": "[encoded data removed]",
            "text/plain": [
              "<Figure size 800x600 with 1 Axes>"
            ]
          },
          "metadata": {},
          "output_type": "display_data"
        }
      ],
      "source": [
        "df_label0= df_downsampled[df_downsampled['Label']==0]\n",
        "tags_0= df_label0['tag'].value_counts()/len(df_label0)\n",
        "\n",
        "plt.figure(figsize=(8, 6))\n",
        "tags_0.plot(kind='bar')\n",
        "plt.title('Value Counts of Non-Top Songs Genres ')\n",
        "plt.xlabel('Genre')\n",
        "plt.ylabel('Count')\n",
        "plt.xticks(rotation=0)\n",
        "plt.show()"
      ]
    },
    {
      "cell_type": "code",
      "execution_count": 47,
      "metadata": {},
      "outputs": [
        {
          "name": "stderr",
          "output_type": "stream",
          "text": [
            "/Users/ariannazottoli/anaconda3/envs/Python4DataScience/lib/python3.11/site-packages/seaborn/_oldcore.py:1498: FutureWarning: is_categorical_dtype is deprecated and will be removed in a future version. Use isinstance(dtype, CategoricalDtype) instead\n",
            "  if pd.api.types.is_categorical_dtype(vector):\n",
            "/Users/ariannazottoli/anaconda3/envs/Python4DataScience/lib/python3.11/site-packages/seaborn/_oldcore.py:1498: FutureWarning: is_categorical_dtype is deprecated and will be removed in a future version. Use isinstance(dtype, CategoricalDtype) instead\n",
            "  if pd.api.types.is_categorical_dtype(vector):\n",
            "/Users/ariannazottoli/anaconda3/envs/Python4DataScience/lib/python3.11/site-packages/seaborn/_oldcore.py:1498: FutureWarning: is_categorical_dtype is deprecated and will be removed in a future version. Use isinstance(dtype, CategoricalDtype) instead\n",
            "  if pd.api.types.is_categorical_dtype(vector):\n",
            "/Users/ariannazottoli/anaconda3/envs/Python4DataScience/lib/python3.11/site-packages/seaborn/_oldcore.py:1498: FutureWarning: is_categorical_dtype is deprecated and will be removed in a future version. Use isinstance(dtype, CategoricalDtype) instead\n",
            "  if pd.api.types.is_categorical_dtype(vector):\n"
          ]
        },
        {
          "data": {
            "image/png": "[encoded data removed]",
            "text/plain": [
              "<Figure size 1200x800 with 1 Axes>"
            ]
          },
          "metadata": {},
          "output_type": "display_data"
        }
      ],
      "source": [
        "\n",
        "genre_counts = df_downsampled.groupby(['Label', 'tag']).size().reset_index(name='count')\n",
        "genre_totals = genre_counts.groupby('Label')['count'].sum().reset_index(name='total')\n",
        "\n",
        "genre_relative_freq = pd.merge(genre_counts, genre_totals, on='Label')\n",
        "genre_relative_freq['relative_frequency'] = genre_relative_freq['count'] / genre_relative_freq['total']\n",
        "\n",
        "\n",
        "genre_relative_freq['Label'] = genre_relative_freq['Label'].map({1: 'Top Songs', 0: 'Non-Top Songs'})\n",
        "\n",
        "\n",
        "plt.figure(figsize=(12, 8))\n",
        "sns.barplot(x='tag', y='relative_frequency', hue='Label', data=genre_relative_freq)\n",
        "plt.title('Relative Frequency of Genres for Top and Non-Top Songs')\n",
        "plt.xlabel('Genre')\n",
        "plt.ylabel('Relative Frequency')\n",
        "plt.legend(title='Song Type')\n",
        "plt.show()\n",
        "\n"
      ]
    },
    {
      "cell_type": "markdown",
      "metadata": {},
      "source": [
        "Regarding the top songs, the most popular genres are pop, R&B, and rock, while for the non-top songs, they are pop, rock, and rap."
      ]
    },
    {
      "cell_type": "markdown",
      "metadata": {
        "id": "dkQwHroHGGM3"
      },
      "source": [
        "### Artists"
      ]
    },
    {
      "cell_type": "markdown",
      "metadata": {
        "id": "H1hj9-THGGM3"
      },
      "source": [
        "#### Most frent artists in top songs"
      ]
    },
    {
      "cell_type": "code",
      "execution_count": 30,
      "metadata": {
        "id": "t3czDhzXGGM3",
        "outputId": "a5816b57-c97d-400c-c39b-f76e8ccba513"
      },
      "outputs": [
        {
          "data": {
            "image/png": "[encoded data removed]",
            "text/plain": [
              "<Figure size 800x600 with 1 Axes>"
            ]
          },
          "metadata": {},
          "output_type": "display_data"
        }
      ],
      "source": [
        "df_label_1 = df_downsampled[df_downsampled['Label'] == 1]\n",
        "artists_counts= df_label_1['artist'].value_counts()\n",
        "\n",
        "\n",
        "plt.figure(figsize=(8, 6))\n",
        "artists_counts.head(10).plot(kind='bar')\n",
        "plt.title('Value Counts of Top Songs Artists')\n",
        "plt.xlabel('Artist')\n",
        "plt.ylabel('Count')\n",
        "plt.xticks(rotation=45, ha='right')\n",
        "plt.show()"
      ]
    },
    {
      "cell_type": "markdown",
      "metadata": {},
      "source": [
        "Consistent with what we found earlier, the top 10 Billboard artists from the 1990s to the 2000s are mainly from rock, pop, and R&B genres. "
      ]
    },
    {
      "cell_type": "markdown",
      "metadata": {
        "id": "MRAACV2FGGM4"
      },
      "source": [
        "### Average Sentiment Scores"
      ]
    },
    {
      "cell_type": "code",
      "execution_count": null,
      "metadata": {
        "id": "DC52gS-oGGM4",
        "outputId": "7b9635ca-ea7b-4348-faef-006ec8006e6e"
      },
      "outputs": [
        {
          "name": "stdout",
          "output_type": "stream",
          "text": [
            "   Label   neutral  positive  negative\n",
            "0      0  0.442689  0.233328  0.323984\n",
            "1      1  0.449844  0.337137  0.213020\n"
          ]
        },
        {
          "name": "stderr",
          "output_type": "stream",
          "text": [
            "/Users/ariannazottoli/anaconda3/envs/Python4DataScience/lib/python3.11/site-packages/seaborn/_oldcore.py:1498: FutureWarning: is_categorical_dtype is deprecated and will be removed in a future version. Use isinstance(dtype, CategoricalDtype) instead\n",
            "  if pd.api.types.is_categorical_dtype(vector):\n",
            "/Users/ariannazottoli/anaconda3/envs/Python4DataScience/lib/python3.11/site-packages/seaborn/_oldcore.py:1498: FutureWarning: is_categorical_dtype is deprecated and will be removed in a future version. Use isinstance(dtype, CategoricalDtype) instead\n",
            "  if pd.api.types.is_categorical_dtype(vector):\n",
            "/Users/ariannazottoli/anaconda3/envs/Python4DataScience/lib/python3.11/site-packages/seaborn/_oldcore.py:1498: FutureWarning: is_categorical_dtype is deprecated and will be removed in a future version. Use isinstance(dtype, CategoricalDtype) instead\n",
            "  if pd.api.types.is_categorical_dtype(vector):\n",
            "/Users/ariannazottoli/anaconda3/envs/Python4DataScience/lib/python3.11/site-packages/seaborn/_oldcore.py:1498: FutureWarning: is_categorical_dtype is deprecated and will be removed in a future version. Use isinstance(dtype, CategoricalDtype) instead\n",
            "  if pd.api.types.is_categorical_dtype(vector):\n"
          ]
        },
        {
          "data": {
            "image/png": "[encoded data removed]",
            "text/plain": [
              "<Figure size 1000x600 with 1 Axes>"
            ]
          },
          "metadata": {},
          "output_type": "display_data"
        }
      ],
      "source": [
        "\n",
        "average_scores = df_downsampled.groupby('Label')[['neutral', 'positive', 'negative']].mean().reset_index()\n",
        "print(average_scores)\n",
        "\n",
        "average_scores['Label'] = average_scores['Label'].map({1: 'Top Songs', 0: 'Non-Top Songs'})\n",
        "average_scores_melted = average_scores.melt(id_vars='Label', var_name='sentiment', value_name='average_score')\n",
        "\n",
        "plt.figure(figsize=(10, 6))\n",
        "sns.barplot(x='sentiment', y='average_score', hue='Label', data=average_scores_melted)\n",
        "plt.title('Average Sentiment Scores for Top and Non-Top Songs')\n",
        "plt.xlabel('Sentiment')\n",
        "plt.ylabel('Average Score')\n",
        "plt.legend(title='Song Type')\n",
        "plt.show()\n"
      ]
    },
    {
      "cell_type": "markdown",
      "metadata": {},
      "source": [
        "Comparing the average sentiment scores of top and non-top songs, we can see that top songs have higher average positive and neutral scores compared to non-top songs.The average negative score is higher for non-top songs compared to top songs."
      ]
    },
    {
      "cell_type": "markdown",
      "metadata": {},
      "source": [
        "The differences between the two groups (top and non-top songs) in terms of genres and average sentiment scores might suggest that they could be relevant factors in predicting whether a song can be classified as top or not. However, these results are exploratory and require further analysis and modeling."
      ]
    },
    {
      "cell_type": "markdown",
      "metadata": {
        "id": "JAm8y7IkTMVL"
      },
      "source": [
        "## Split the data"
      ]
    },
    {
      "cell_type": "code",
      "execution_count": null,
      "metadata": {},
      "outputs": [],
      "source": [
        "df_downsampled= pd.read_csv(\"df_downsampled_sent_10000.csv\")\n",
        "df_downsampled"
      ]
    },
    {
      "cell_type": "markdown",
      "metadata": {},
      "source": [
        "We split the data into train and test sets. We will use the train set to train the model and the test set to evaluate the model's performance.\n",
        "The response variable are the labels 0 and 1."
      ]
    },
    {
      "cell_type": "code",
      "execution_count": 13,
      "metadata": {
        "id": "o0mYlytVTMVL"
      },
      "outputs": [],
      "source": [
        "X = df_downsampled[['title', 'tag', 'artist', 'year', 'lyrics', 'negative', 'positive']]\n",
        "y = df_downsampled['Label']\n",
        "X_train, X_test, y_train, y_test = train_test_split(X, y, test_size=0.2, random_state=42, stratify=y)\n"
      ]
    },
    {
      "cell_type": "markdown",
      "metadata": {},
      "source": [
        "## Text data vector representations "
      ]
    },
    {
      "cell_type": "markdown",
      "metadata": {},
      "source": [
        "To represent text data, we transformed the lyrics trying two different vector representations: TF-IDF and Sentence Transformers. "
      ]
    },
    {
      "cell_type": "markdown",
      "metadata": {},
      "source": [
        "## TF-IDF"
      ]
    },
    {
      "cell_type": "markdown",
      "metadata": {
        "id": "chx-nLtheXTy"
      },
      "source": [
        "### Pre-processing"
      ]
    },
    {
      "cell_type": "markdown",
      "metadata": {},
      "source": [
        "Before applying the Tf-idf Vectorizer, we pre-process the song lyrics with: \n",
        "- lowercasing\n",
        "- non-word characters removal\n",
        "- tokenization\n",
        "- stopwords removal\n",
        "- lemmatization"
      ]
    },
    {
      "cell_type": "code",
      "execution_count": 6,
      "metadata": {
        "colab": {
          "base_uri": "https://localhost:8080/"
        },
        "id": "EDLeguKZhqUe",
        "outputId": "b99a41be-ba58-486f-b3f0-2d5e672aa62a"
      },
      "outputs": [
        {
          "name": "stderr",
          "output_type": "stream",
          "text": [
            "[nltk_data] Downloading package punkt to /root/nltk_data...\n",
            "[nltk_data]   Unzipping tokenizers/punkt.zip.\n",
            "[nltk_data] Downloading package stopwords to /root/nltk_data...\n",
            "[nltk_data]   Unzipping corpora/stopwords.zip.\n",
            "[nltk_data] Downloading package wordnet to /root/nltk_data...\n"
          ]
        },
        {
          "data": {
            "text/plain": [
              "True"
            ]
          },
          "execution_count": 6,
          "metadata": {},
          "output_type": "execute_result"
        }
      ],
      "source": [
        "import nltk\n",
        "\n",
        "nltk.download('punkt')\n",
        "nltk.download('stopwords')\n",
        "nltk.download('wordnet')"
      ]
    },
    {
      "cell_type": "code",
      "execution_count": 7,
      "metadata": {
        "id": "XyNEePsrTMVM"
      },
      "outputs": [],
      "source": [
        "def preprocess_text(text):\n",
        "    text = text.lower()\n",
        "    text = re.sub(r'\\W', ' ', text)\n",
        "    tokens = word_tokenize(text)\n",
        "    tokens = [word for word in tokens if word not in stopwords.words('english')]\n",
        "    lemmatizer = WordNetLemmatizer()\n",
        "    tokens = [lemmatizer.lemmatize(word) for word in tokens]\n",
        "    return ' '.join(tokens)\n",
        "\n"
      ]
    },
    {
      "cell_type": "code",
      "execution_count": 10,
      "metadata": {
        "id": "Gw4m_tUBTMVM"
      },
      "outputs": [],
      "source": [
        "lyrics_train= X_train['lyrics'].apply(preprocess_text)\n",
        "lyrics_test= X_test['lyrics'].apply(preprocess_text)"
      ]
    },
    {
      "cell_type": "code",
      "execution_count": 11,
      "metadata": {
        "id": "jNj8v2-vTMVN"
      },
      "outputs": [],
      "source": [
        "X_train['lyrics_cleaned']= lyrics_train\n",
        "X_test['lyrics_cleaned']= lyrics_test"
      ]
    },
    {
      "cell_type": "code",
      "execution_count": null,
      "metadata": {
        "id": "9mVdUYVcGGM5"
      },
      "outputs": [],
      "source": [
        "X_train.to_csv('X_train.csv')\n",
        "X_test.to_csv('X_test.csv')\n",
        "y_test.to_csv('y_test.csv')\n",
        "y_train.to_csv('y_train.csv')"
      ]
    },
    {
      "cell_type": "markdown",
      "metadata": {},
      "source": [
        "### TF-IDF"
      ]
    },
    {
      "cell_type": "markdown",
      "metadata": {},
      "source": [
        "The Tf-idf Vectorizer generates both unigrams and bigrams, analyzing the text at the word level. It ignores terms that have a document frequency strictly lower than 1% and strictly higher than 80% across the corpus.\n",
        "\n",
        "Firstly, we train the representation model on the pre-processed training data, which are trasformed into TF-IDF matrix. Then, we trasform the pre-processed song lyrics in the test set into TF-IDF vectors using the TF-IDF vectorizer previously fitted on the training data. "
      ]
    },
    {
      "cell_type": "code",
      "execution_count": 12,
      "metadata": {
        "colab": {
          "base_uri": "https://localhost:8080/"
        },
        "id": "gf6F4D8NSwL5",
        "outputId": "f384a285-fb42-44f6-bd48-65dc008d2091"
      },
      "outputs": [
        {
          "name": "stdout",
          "output_type": "stream",
          "text": [
            "(8864, 1195)\n"
          ]
        }
      ],
      "source": [
        "\n",
        "vectorizer = TfidfVectorizer(ngram_range=(1,2),\n",
        "                             analyzer=\"word\",\n",
        "                             min_df= 0.01,\n",
        "                             max_df= 0.80,\n",
        "                             sublinear_tf= True)\n",
        "\n",
        "train_lyrics_tfidf = vectorizer.fit_transform(X_train['lyrics_cleaned'])\n",
        "\n",
        "print(train_lyrics_tfidf.shape)\n"
      ]
    },
    {
      "cell_type": "code",
      "execution_count": null,
      "metadata": {
        "id": "5KIDsBXPJqI6",
        "outputId": "4ba6a825-72a6-48a4-c8e2-04e2cbdf7bb2"
      },
      "outputs": [
        {
          "data": {
            "text/plain": [
              "['tfidf_vectorizer_10000.joblib']"
            ]
          },
          "execution_count": 26,
          "metadata": {},
          "output_type": "execute_result"
        }
      ],
      "source": [
        "\n",
        "\n",
        "joblib.dump(vectorizer, 'tfidf_vectorizer_10000.joblib')"
      ]
    },
    {
      "cell_type": "code",
      "execution_count": 13,
      "metadata": {
        "id": "sP7WSA6WGtaM"
      },
      "outputs": [],
      "source": [
        "\n",
        "test_lyrics_tfidf = vectorizer.transform(X_test['lyrics_cleaned'])"
      ]
    },
    {
      "cell_type": "markdown",
      "metadata": {},
      "source": [
        "We apply one-hot encoding to the song genre converting the categorical labels into binary vectors. "
      ]
    },
    {
      "cell_type": "code",
      "execution_count": 14,
      "metadata": {
        "id": "g49VVzOfTMVQ"
      },
      "outputs": [],
      "source": [
        "ohe = OneHotEncoder()\n",
        "train_genres_encoded = ohe.fit_transform(X_train[['tag']])\n",
        "test_genres_encoded = ohe.transform(X_test[['tag']])"
      ]
    },
    {
      "cell_type": "markdown",
      "metadata": {},
      "source": [
        "We obtain the matrix  of predictors both for train and test combining the TF-IDF matrix of lyrics, the encoded genre features and negative and positive sentiment scores. We exclude the neutral score to avoid collinearity."
      ]
    },
    {
      "cell_type": "code",
      "execution_count": 15,
      "metadata": {
        "id": "LxtRzU8KTMVQ"
      },
      "outputs": [],
      "source": [
        "X_train_combined_tfidf = hstack([train_lyrics_tfidf, train_genres_encoded, X_train[['negative', 'positive']]])\n",
        "X_test_combined_tfidf = hstack([test_lyrics_tfidf, test_genres_encoded, X_test[['negative', 'positive']]])"
      ]
    },
    {
      "cell_type": "code",
      "execution_count": null,
      "metadata": {
        "id": "PwwMb-MeGGM6"
      },
      "outputs": [],
      "source": [
        "data= pd.DataFrame(X_test_combined_tfidf.toarray())\n",
        "data.to_csv('X_test_combined_tfidf_10000.csv', index=False)"
      ]
    },
    {
      "cell_type": "code",
      "execution_count": null,
      "metadata": {
        "id": "xHRI2q8fGGM6"
      },
      "outputs": [],
      "source": [
        "data= pd.DataFrame(X_train_combined_tfidf.toarray())\n",
        "data.to_csv('X_train_combined_tfidf_10000.csv', index=False)"
      ]
    },
    {
      "cell_type": "markdown",
      "metadata": {
        "id": "lHTu6ebcS6ju"
      },
      "source": [
        "## Sentence Transformer"
      ]
    },
    {
      "cell_type": "markdown",
      "metadata": {},
      "source": [
        "As second attempt of text data vector representation, we use the Sentence Transformer algorithm based on Transformers, which are neural network architectures designed to generate high-quality sentence embeddings. We use the model 'all-MiniLM-L6-v2', a distilled version of larger models like BERT, fine-tuned on various datasets to generate 384-dimensional vectors."
      ]
    },
    {
      "cell_type": "code",
      "execution_count": null,
      "metadata": {},
      "outputs": [],
      "source": [
        "pip install sentence-transformers"
      ]
    },
    {
      "cell_type": "code",
      "execution_count": 15,
      "metadata": {
        "colab": {
          "base_uri": "https://localhost:8080/",
          "height": 589,
          "referenced_widgets": [
            "c086e22c0d584b71884797dc76c85b87",
            "b58eb480b3374e0e89745893930e49da",
            "27ecba5789814cc1b96447ebc1e00f13",
            "f455a370cf01468ab362eb8e3a35609d",
            "3b92126a66594947ba3140c890888ca6",
            "6eeb9da8e05c4481bb37fde9edb7d608",
            "815e771877f04b23aba6839451d1a8c7",
            "c0fe307c90b642af90ea9a49bc5f7303",
            "057aafc7042d4f3db0e27168c8591747",
            "f4b1c6c4e8744be98e4a73585d6abdbf",
            "61d2040662d3457eb8183bda3dd614da",
            "b04d9af871f446cbbfef75c9f534fe6b",
            "8e8f19e6330546259ac808960c148b0e",
            "5f6ef9a105594579bf09572c1f3832f6",
            "bd15636aa64c47fd8033168e6e0857db",
            "1d155ec3eeb64a899ed81ac4946b10cb",
            "66c483c7c6994c919bcbd2bdc357822d",
            "6a432e8a0a1e4840bdc1ee07b53f4128",
            "55c049811bc94cbda4c3b10b65075271",
            "45e661a6c2ae48fd810f3434ec5db726",
            "dbfe251513974f2da5da5acc8b358358",
            "b9dfdf2c04274ad98295650493ab3eed",
            "b4c96690f5954950889164423ebb51a5",
            "274fff29ce73480aac49a6713ae9147c",
            "20e0e0174fd54af596d808b7d048b4de",
            "7b8a5bbe66144f7da52b94ea7fb98294",
            "df5d4768cc984e5985b5be5acde6370a",
            "4897c272b911447a85a3825550c6c116",
            "e5f702c2b6fe4aada4a01dc7872a70f1",
            "410711dd667b438582313f82644ea914",
            "603140a4dd74473fb95ac76a6e8db3f5",
            "cc654970ad0343479d8bc0d27df5f01d",
            "4e91253f68734b40937b6aabc4995a51",
            "02471084f8314e2290ab59a2b1ba04aa",
            "0a5e1b0611b64c629245bcad4af85f89",
            "2827beb16c1e434186f07100f2d67a00",
            "fe1ae93c73af4e5783aca70f90ce14a3",
            "7f82fda529f94d3db7ee86b99991347f",
            "ddd42f9ac2db4bb9b66ba394c048137e",
            "d3b692dcade947ca8e687883ecd0ef57",
            "2ef977a7ae6b4186b2f8873ce922e538",
            "f4ad3ac7d1d74de4be5e13146562b204",
            "1c3328c85c954d3ebb006bcf5256175a",
            "266f00c0901b46ec9d786ead25c0f5ce",
            "4be4b741852d4b45a23436f806f352d6",
            "2c8822e0d919458d9c8e8dc8e488685f",
            "acd717ab7c8d4246aba97938f4a8d8a0",
            "04e044f3a23b45a7a9622f01c684215c",
            "dbdede63a38643a6bb1208626dc877eb",
            "7490aa7a3eec4186a978d3d1cde2c826",
            "598cd2c39a464fd08dc1a959ffa00e8c",
            "b0f00126305d4660857a1187da16e5b4",
            "9249a15d4bee436ea3f370e5aebdae76",
            "9971163e5dc848ada04c192e85ca1605",
            "3a335c9f92f446dea7bd1b544628c8b6",
            "9ddac1f31256400e80651f5b2be14235",
            "7c7c9462f9c1443ba1ea7393c94b198a",
            "4cdb48f9fdeb44ca90a512bf4d39cf0d",
            "1a235a568778401b9eee45e59a6ea18c",
            "4b49d6bbe2ab48b296aa0a52a044cf08",
            "62624871cd9247108ef996f4525a7a40",
            "825635768cc944188108bd8f9c9bd9d4",
            "dfe212b2e9144bde8712fd82513be586",
            "ad51b890f2e94c3ea2a738bfdb0b8516",
            "b94223ccfa4c466882da53c50eb545f5",
            "872562e69bdc46d98187f7f30d863ef7",
            "b9098fca256c42fcb5b4dafa275de91e",
            "6667a0827db94501a58bd3929f03ed32",
            "1963817492c34b5fb9656205f3f2b43a",
            "5d96e717b68c45fd9b2195e603723547",
            "49648caa5d11408a910bc223869d8a51",
            "ed699caddacf4e6da0ec59d9e996a6b4",
            "ba89c83bf9334c56a9e4cc44f477e83c",
            "2d579451513b4854a490a89d248a17b4",
            "737cddf80c9f46c28d623ba147e5eb95",
            "c5bf6798a9c44932b62fe67526b09363",
            "f631d3dc18b546669ebccf751798490a",
            "c882c2b7221a4d61a4a50e66d6323e8a",
            "0443b9995edf4035b9d1f6ba746ef9e8",
            "9b028dbc24d3413aaaf1d21255419c05",
            "595943af7a6946978d2a857fb838ea64",
            "1317b971aa9a46bb9a58843da0affa2c",
            "66378a3c60a94d74af43cb1346af7915",
            "1cfcd0c6d81048749ec5723505509734",
            "007ff9d74a5048b281f0495b1b7af629",
            "157b21fda98f40c2ad182a16d1b06d4f",
            "637ff39105c343a8bc13ba60f55535d8",
            "f68fed8f46fc40f0b08a2eb182add887",
            "b4c7a97da6b84958aa829dae1b290ed4",
            "50a0fd9aa46f4802bd012382ca3341e6",
            "5719afaebacc4f21ac7acca6d87fb21b",
            "568a1ab024384eaeb1f789044fc7a26a",
            "9c6efcc1cb9f4bf785052d84464d562b",
            "aca5b328464f4373af11d554340bf550",
            "10c38bc964604d0385daf4055ddb2326",
            "7803a029c1bd4931ac8f9a354cc048ba",
            "3c64c09168824497956ffd379089b3a7",
            "df8e5093d45448459ad676f19ae9b7d0",
            "1c848e511ae340268099b9e344d377fc",
            "e027f34b1e274c97b079ebb96fd6ff27",
            "f9869e6ee5b74a79a98b82cc48bafa2b",
            "ebca6437b15c48899c13eb95172de493",
            "e06b97f8fca3417ea9cbda49783e4795",
            "f7d88b3d28ea47e084296121d449e41c",
            "5bd57f40100e4f0885bd20a6030ce440",
            "e6171eb07f2245b2bc3d75db98582090",
            "a6eef535957a4e988fb9b9a7e0a8c574",
            "e919a2d9e7bd4727886dad149ff09778",
            "5807be98dfea4af39614b2705a6eb333",
            "8cd605e97adc4ddba8fdd0650392f13d",
            "68fae62e46fb4b5ba825a10368b12361",
            "608fe0e2e77f4fea835a070cbb96b8af",
            "0841d53feff942a2802806f2253077ec",
            "04cfd1b3412b4d709d61bc4d965fb647",
            "38168aeb528147be872d7168d93979c6",
            "e365a1618a504395b7c0dfad865130dd",
            "04a05e80c11a4f00862bcfcd079c925b",
            "52065d0cd3c74108acbe9076d53e5519",
            "7e6472f8ddad43c8a559d1503f8de968",
            "2ff09db57515491eb2fc5d47ed1f2bee",
            "2c1efa5354ce46cfa551cc0f6588288b",
            "5aa7052ee5a942708e59cf81141b7009",
            "28533b3222444f8a838d0bab5661346e",
            "3b4310b3bbaf43a5a4ba2bc1dfc4a4da",
            "8465fa0506204bbdb8b66f6efa9dba4c",
            "9f37f5b157184817a6031874caae0374",
            "090c99d13eed46adac6ed2fe03213cf2",
            "b9365f832ccf4541a8931c07ab06e4e5",
            "5730bab1dece48cc8515d97a7e82cecf",
            "f8507aff4a1b4f61b57edacc8cad814c",
            "6a47b0ec86ff44e1847bef7cd0edd15d",
            "d01f7b2853a64fbeb88a854fbad3e339",
            "a9c4d5d78d6544e2bf65d19e15151788",
            "9e2c61b4d46747e5ba0f1e4833cff5c5",
            "3c1b5bfd34e84ca59dd95865a683fc6b",
            "7b56d852c716445b9238ee764a7174f1",
            "9037ba243c6343fb9f688f5ac2282107",
            "22ce783304bd464f82fff347833f587d",
            "45aa439a560f470aad1029c71f28a909",
            "390aa773168b42b6ba9ce7466e1c14a0",
            "bbc17963126a4c5bbc2372281a188026",
            "111be6721faf4126b02909125f573e4a",
            "1074ba1934d34d6b886d65fb92dfa66e"
          ]
        },
        "id": "PM8F4x8QTMVO",
        "outputId": "09096468-9d2f-4bd2-a40e-2345a01746da"
      },
      "outputs": [
        {
          "name": "stderr",
          "output_type": "stream",
          "text": [
            "/Users/ariannazottoli/anaconda3/envs/Python4DataScience/lib/python3.11/site-packages/tqdm/auto.py:21: TqdmWarning: IProgress not found. Please update jupyter and ipywidgets. See https://ipywidgets.readthedocs.io/en/stable/user_install.html\n",
            "  from .autonotebook import tqdm as notebook_tqdm\n",
            "/Users/ariannazottoli/anaconda3/envs/Python4DataScience/lib/python3.11/site-packages/huggingface_hub/file_download.py:1132: FutureWarning: `resume_download` is deprecated and will be removed in version 1.0.0. Downloads always resume when possible. If you want to force a new download, use `force_download=True`.\n",
            "  warnings.warn(\n",
            "Batches: 100%|██████████| 277/277 [02:38<00:00,  1.75it/s]\n",
            "Batches: 100%|██████████| 70/70 [00:35<00:00,  2.00it/s]\n"
          ]
        }
      ],
      "source": [
        "from sentence_transformers import SentenceTransformer\n",
        "os.environ[\"TOKENIZERS_PARALLELISM\"] = \"false\"\n",
        "\n",
        "model = SentenceTransformer('all-MiniLM-L6-v2')\n",
        "train_embeddings = model.encode(X_train['lyrics'].tolist(), show_progress_bar=True)\n",
        "test_embeddings = model.encode(X_test['lyrics'].tolist(), show_progress_bar=True)"
      ]
    },
    {
      "cell_type": "markdown",
      "metadata": {},
      "source": [
        "As before, we apply one-hot encoding to the song genre converting the categorical labels into binary vectors.\n",
        "\n",
        "We obtain a second matrix of predictors both for train and test combining the lyrics embeddings, the encoded genre features and negative and positive sentiment scores. We exclude the neutral score to avoid collinearity."
      ]
    },
    {
      "cell_type": "code",
      "execution_count": null,
      "metadata": {
        "id": "NFExw8B6VhCw"
      },
      "outputs": [],
      "source": [
        "ohe = OneHotEncoder()\n",
        "train_genres_encoded = ohe.fit_transform(X_train[['tag']])\n",
        "test_genres_encoded = ohe.transform(X_test[['tag']])"
      ]
    },
    {
      "cell_type": "code",
      "execution_count": null,
      "metadata": {
        "id": "h7WNzJdDViyK"
      },
      "outputs": [],
      "source": [
        "X_train_combined_st = hstack([train_embeddings, train_genres_encoded, X_train[['negative', 'positive']]])\n",
        "X_test_combined_st = hstack([test_embeddings, test_genres_encoded, X_test[['negative', 'positive']]])"
      ]
    },
    {
      "cell_type": "markdown",
      "metadata": {},
      "source": [
        "For each classifier tested (Logistic Regression, Random Forest and XGBoost), we use the two matrices of predictors previously built.\n",
        "We train each model on the training set and compare the models' performance using precision, recall, F1-score, accuracy, and the confusion matrix on the test set. \n",
        "The best hyperparameters are selected using the 5-Fold Cross Validation.\n",
        "\n",
        "In each model, we add higher weights to top songs, to improve perfomance on them given the class imbalance.\n"
      ]
    },
    {
      "cell_type": "markdown",
      "metadata": {
        "id": "LqTCxFmOegcD"
      },
      "source": [
        "# 1. Baseline: Logistic Regression"
      ]
    },
    {
      "cell_type": "markdown",
      "metadata": {
        "id": "_99nlq0lTtac"
      },
      "source": [
        "## TF-IDF"
      ]
    },
    {
      "cell_type": "code",
      "execution_count": null,
      "metadata": {
        "colab": {
          "base_uri": "https://localhost:8080/"
        },
        "id": "PFPjEBhVTMVQ",
        "outputId": "30a3e42e-1248-4c5e-e7bc-3098bfd2d639"
      },
      "outputs": [
        {
          "name": "stderr",
          "output_type": "stream",
          "text": [
            "/usr/local/lib/python3.10/dist-packages/joblib/externals/loky/backend/fork_exec.py:38: RuntimeWarning: os.fork() was called. os.fork() is incompatible with multithreaded code, and JAX is multithreaded, so this will likely lead to a deadlock.\n",
            "  pid = os.fork()\n",
            "/usr/local/lib/python3.10/dist-packages/joblib/externals/loky/backend/fork_exec.py:38: RuntimeWarning: os.fork() was called. os.fork() is incompatible with multithreaded code, and JAX is multithreaded, so this will likely lead to a deadlock.\n",
            "  pid = os.fork()\n"
          ]
        },
        {
          "name": "stdout",
          "output_type": "stream",
          "text": [
            "Best F1 score: 0.6803886098249359\n",
            "Best parameters: {'C': 1}\n"
          ]
        }
      ],
      "source": [
        "\n",
        "\n",
        "logistic_balanced = LogisticRegression(class_weight=\"balanced\",solver='lbfgs', max_iter=1000, n_jobs=-1)\n",
        "\n",
        "#We perform the 5-Fold Cross Validation to choose the L2 regularization parameter, using the \n",
        "#F1-score as metric\n",
        "param_grid = {\n",
        "    'C': [10, 5, 1, 0.01]\n",
        "}\n",
        "\n",
        "grid_search = GridSearchCV(logistic_balanced, param_grid, cv=5, scoring='f1_macro', n_jobs=-1)\n",
        "grid_search.fit(X_train_combined_tfidf, y_train)\n",
        "print(\"Best F1 score:\", grid_search.best_score_)\n",
        "print(\"Best parameters:\", grid_search.best_params_)\n",
        "\n",
        "\n",
        "best_model = grid_search.best_estimator_"
      ]
    },
    {
      "cell_type": "code",
      "execution_count": null,
      "metadata": {
        "colab": {
          "base_uri": "https://localhost:8080/",
          "height": 751
        },
        "id": "JATIfgwWSwL7",
        "outputId": "d49be45c-e8e3-4a10-e516-27c213bba9d2"
      },
      "outputs": [
        {
          "name": "stdout",
          "output_type": "stream",
          "text": [
            "              precision    recall  f1-score   support\n",
            "\n",
            "           0       0.96      0.87      0.91      1999\n",
            "           1       0.37      0.71      0.49       217\n",
            "\n",
            "    accuracy                           0.85      2216\n",
            "   macro avg       0.67      0.79      0.70      2216\n",
            "weighted avg       0.91      0.85      0.87      2216\n",
            "\n",
            "[[1735  264]\n",
            " [  63  154]]\n"
          ]
        },
        {
          "data": {
            "image/png": "[encoded data removed]",
            "text/plain": [
              "<Figure size 800x600 with 2 Axes>"
            ]
          },
          "metadata": {},
          "output_type": "display_data"
        }
      ],
      "source": [
        "best_model.fit(X_train_combined_tfidf, y_train)\n",
        "predictions = best_model.predict(X_test_combined_tfidf)\n",
        "\n",
        "classification_report1= classification_report(y_test, predictions, output_dict= True)\n",
        "print(classification_report(y_test, predictions))\n",
        "cm = confusion_matrix(y_test, predictions, labels= best_model.classes_)\n",
        "print(cm)\n",
        "fig, ax = plt.subplots(figsize=(8, 6))\n",
        "sns.heatmap(cm, annot=True, ax=ax, cmap='Blues', fmt='g')\n",
        "ax.set_title('Confusion Matrix')\n",
        "ax.set_xlabel('Predicted Labels')\n",
        "ax.set_ylabel('True Labels')\n",
        "ax.xaxis.set_ticklabels(best_model.classes_)\n",
        "ax.yaxis.set_ticklabels(best_model.classes_)\n",
        "plt.show()"
      ]
    },
    {
      "cell_type": "markdown",
      "metadata": {
        "id": "MYSARL4IT-Tf"
      },
      "source": [
        "## Sentence Trasformer"
      ]
    },
    {
      "cell_type": "code",
      "execution_count": null,
      "metadata": {
        "colab": {
          "base_uri": "https://localhost:8080/"
        },
        "id": "LaQjbYHTSwL-",
        "outputId": "b2cc8437-9747-4e48-f47a-752f833fd285"
      },
      "outputs": [
        {
          "data": {
            "text/plain": [
              "(8864, 384)"
            ]
          },
          "execution_count": 29,
          "metadata": {},
          "output_type": "execute_result"
        }
      ],
      "source": [
        "train_embeddings.shape"
      ]
    },
    {
      "cell_type": "code",
      "execution_count": null,
      "metadata": {
        "colab": {
          "base_uri": "https://localhost:8080/"
        },
        "id": "53pyo6rATMVO",
        "outputId": "2db913c1-5de8-4e00-c709-844b6c8f8377"
      },
      "outputs": [
        {
          "name": "stdout",
          "output_type": "stream",
          "text": [
            "Best F1 score: 0.665719878127653\n",
            "Best parameters: {'C': 1}\n"
          ]
        }
      ],
      "source": [
        "logistic_balanced = LogisticRegression(class_weight='balanced', solver='lbfgs', max_iter=1000, n_jobs=-1)\n",
        "\n",
        "#We perform the 5-Fold Cross Validation to choose the L2 regularization parameter, using the \n",
        "#F1-score as metric\n",
        "\n",
        "param_grid = {\n",
        "    'C': [10, 5, 1, 0.01]\n",
        "}\n",
        "\n",
        "grid_search = GridSearchCV(logistic_balanced, param_grid, cv=5, scoring='f1_macro', n_jobs=-1)\n",
        "grid_search.fit(X_train_combined_st, y_train)\n",
        "print(\"Best F1 score:\", grid_search.best_score_)\n",
        "print(\"Best parameters:\", grid_search.best_params_)\n",
        "\n",
        "\n",
        "best_model_transformer = grid_search.best_estimator_"
      ]
    },
    {
      "cell_type": "code",
      "execution_count": null,
      "metadata": {
        "colab": {
          "base_uri": "https://localhost:8080/",
          "height": 751
        },
        "id": "1-x4kqdKTMVO",
        "outputId": "91c72989-e96d-40c4-960a-906621d664d8"
      },
      "outputs": [
        {
          "name": "stdout",
          "output_type": "stream",
          "text": [
            "              precision    recall  f1-score   support\n",
            "\n",
            "           0       0.97      0.82      0.88      1999\n",
            "           1       0.30      0.73      0.42       217\n",
            "\n",
            "    accuracy                           0.81      2216\n",
            "   macro avg       0.63      0.77      0.65      2216\n",
            "weighted avg       0.90      0.81      0.84      2216\n",
            "\n",
            "[[1630  369]\n",
            " [  59  158]]\n"
          ]
        },
        {
          "data": {
            "image/png": "[encoded data removed]",
            "text/plain": [
              "<Figure size 800x600 with 2 Axes>"
            ]
          },
          "metadata": {},
          "output_type": "display_data"
        }
      ],
      "source": [
        "best_model_transformer.fit(X_train_combined_st, y_train)\n",
        "predictions = best_model_transformer.predict(X_test_combined_st)\n",
        "\n",
        "classification_report2= classification_report(y_test, predictions, output_dict=True)\n",
        "print(classification_report(y_test, predictions))\n",
        "cm = confusion_matrix(y_test, predictions, labels= best_model_transformer.classes_)\n",
        "print(cm)\n",
        "fig, ax = plt.subplots(figsize=(8, 6))\n",
        "sns.heatmap(cm, annot=True, ax=ax, cmap='Blues', fmt='g')\n",
        "ax.set_title('Confusion Matrix')\n",
        "ax.set_xlabel('Predicted Labels')\n",
        "ax.set_ylabel('True Labels')\n",
        "ax.xaxis.set_ticklabels(best_model.classes_)\n",
        "ax.yaxis.set_ticklabels(best_model.classes_)\n",
        "plt.show()"
      ]
    },
    {
      "cell_type": "markdown",
      "metadata": {
        "id": "SXlndTp1TMVR"
      },
      "source": [
        "# 2. Random Forest"
      ]
    },
    {
      "cell_type": "markdown",
      "metadata": {
        "id": "M6JTfVIKUZRd"
      },
      "source": [
        "## TF-IDF"
      ]
    },
    {
      "cell_type": "code",
      "execution_count": 16,
      "metadata": {
        "colab": {
          "base_uri": "https://localhost:8080/"
        },
        "id": "PEYBV70FmO9-",
        "outputId": "ae8e92da-8583-4fbf-dcbe-53447876d6e9"
      },
      "outputs": [
        {
          "data": {
            "text/plain": [
              "(8864, 1205)"
            ]
          },
          "execution_count": 16,
          "metadata": {},
          "output_type": "execute_result"
        }
      ],
      "source": [
        "X_train_combined_tfidf.shape"
      ]
    },
    {
      "cell_type": "code",
      "execution_count": 17,
      "metadata": {
        "colab": {
          "base_uri": "https://localhost:8080/",
          "height": 805
        },
        "id": "RMjTdWq_TMVT",
        "outputId": "423d4065-8381-40c0-f7fa-d9cde5de2fbd"
      },
      "outputs": [
        {
          "name": "stdout",
          "output_type": "stream",
          "text": [
            "Best parameters found:  {'bootstrap': True, 'max_depth': 10, 'max_features': 'sqrt', 'min_samples_leaf': 4, 'min_samples_split': 10, 'n_estimators': 300}\n",
            "Best F1 score:  0.6982280480327903\n",
            "              precision    recall  f1-score   support\n",
            "\n",
            "           0       0.96      0.93      0.94      1999\n",
            "           1       0.48      0.61      0.54       217\n",
            "\n",
            "    accuracy                           0.90      2216\n",
            "   macro avg       0.72      0.77      0.74      2216\n",
            "weighted avg       0.91      0.90      0.90      2216\n",
            "\n",
            "[[1854  145]\n",
            " [  84  133]]\n"
          ]
        },
        {
          "data": {
            "image/png": "[encoded data removed]",
            "text/plain": [
              "<Figure size 800x600 with 2 Axes>"
            ]
          },
          "metadata": {},
          "output_type": "display_data"
        }
      ],
      "source": [
        "#We perform the 5-Fold Cross Validation to choose the best hyperparameters for the Random Forest Classifier, \n",
        "#using the F1-score as metric\n",
        "\n",
        "param_grid = {\n",
        "    'n_estimators': [100, 200, 300],\n",
        "    'max_depth': [None, 10, 20, 30],\n",
        "    'max_features': ['sqrt', 'log2'],\n",
        "    'min_samples_split': [2, 5, 10],\n",
        "    'min_samples_leaf': [1, 2, 4],\n",
        "    'bootstrap': [True, False]\n",
        "}\n",
        "\n",
        "\n",
        "rf = RandomForestClassifier(random_state=80, class_weight='balanced')\n",
        "grid_search = GridSearchCV(estimator=rf, param_grid=param_grid,\n",
        "                           cv=5, n_jobs=-1, scoring='f1_macro')\n",
        "grid_search.fit(X_train_combined_tfidf, y_train)\n",
        "\n",
        "\n",
        "print(\"Best parameters found: \", grid_search.best_params_)\n",
        "print(\"Best F1 score: \", grid_search.best_score_)\n",
        "\n",
        "\n",
        "best_rf = grid_search.best_estimator_\n",
        "best_rf.fit(X_train_combined_tfidf, y_train)\n",
        "\n",
        "y_pred = best_rf.predict(X_test_combined_tfidf)\n",
        "\n",
        "\n",
        "classification_report3= classification_report(y_test, y_pred, output_dict= True)\n",
        "print(classification_report(y_test, y_pred))\n",
        "cm = confusion_matrix(y_test, y_pred, labels=best_rf.classes_)\n",
        "print(cm)\n",
        "\n",
        "\n",
        "fig, ax = plt.subplots(figsize=(8, 6))\n",
        "sns.heatmap(cm, annot=True, ax=ax, cmap='Blues', fmt='g')\n",
        "ax.set_title('Confusion Matrix')\n",
        "ax.set_xlabel('Predicted Labels')\n",
        "ax.set_ylabel('True Labels')\n",
        "ax.xaxis.set_ticklabels(best_rf.classes_)\n",
        "ax.yaxis.set_ticklabels(best_rf.classes_)\n",
        "plt.show()\n"
      ]
    },
    {
      "cell_type": "markdown",
      "metadata": {
        "id": "ZWTW3DxDU5xL"
      },
      "source": [
        "## Sentence Trasformer"
      ]
    },
    {
      "cell_type": "code",
      "execution_count": null,
      "metadata": {
        "colab": {
          "base_uri": "https://localhost:8080/",
          "height": 805
        },
        "id": "MQudcCQAVHC4",
        "outputId": "24522a7e-1324-470b-ca92-24312a310fa1"
      },
      "outputs": [
        {
          "name": "stdout",
          "output_type": "stream",
          "text": [
            "Best parameters found:  {'bootstrap': False, 'max_depth': 10, 'max_features': 'sqrt', 'min_samples_leaf': 2, 'min_samples_split': 10, 'n_estimators': 100}\n",
            "Best F1 score:  0.6734603940815522\n",
            "              precision    recall  f1-score   support\n",
            "\n",
            "           0       0.94      0.92      0.93      1999\n",
            "           1       0.41      0.48      0.44       217\n",
            "\n",
            "    accuracy                           0.88      2216\n",
            "   macro avg       0.68      0.70      0.69      2216\n",
            "weighted avg       0.89      0.88      0.89      2216\n",
            "\n",
            "[[1847  152]\n",
            " [ 112  105]]\n"
          ]
        },
        {
          "data": {
            "image/png": "[encoded data removed]",
            "text/plain": [
              "<Figure size 800x600 with 2 Axes>"
            ]
          },
          "metadata": {},
          "output_type": "display_data"
        }
      ],
      "source": [
        "#We perform the 5-Fold Cross Validation to choose the best hyperparameters for the Random Forest Classifier, \n",
        "#using the F1-score as metric\n",
        "\n",
        "param_grid = {\n",
        "    'n_estimators': [100, 200, 300],\n",
        "    'max_depth': [None, 10, 20, 30],\n",
        "    'max_features': ['sqrt', 'log2'],\n",
        "    'min_samples_split': [2, 5, 10],\n",
        "    'min_samples_leaf': [1, 2, 4],\n",
        "    'bootstrap': [True, False]\n",
        "}\n",
        "\n",
        "\n",
        "rf = RandomForestClassifier(random_state=80, class_weight='balanced')\n",
        "grid_search = GridSearchCV(estimator=rf, param_grid=param_grid,\n",
        "                           cv=5, n_jobs=-1, scoring='f1_macro')\n",
        "\n",
        "grid_search.fit(X_train_combined_st, y_train)\n",
        "\n",
        "print(\"Best parameters found: \", grid_search.best_params_)\n",
        "print(\"Best F1 score: \", grid_search.best_score_)\n",
        "\n",
        "\n",
        "best_rf_st= grid_search.best_estimator_\n",
        "best_rf_st.fit(X_train_combined_st, y_train)\n",
        "y_pred = best_rf.predict(X_test_combined_st)\n",
        "classification_report4= classification_report(y_test, y_pred, output_dict=True)\n",
        "print(classification_report(y_test, y_pred))\n",
        "cm = confusion_matrix(y_test, y_pred, labels=best_rf_st.classes_)\n",
        "print(cm)\n",
        "\n",
        "\n",
        "fig, ax = plt.subplots(figsize=(8, 6))\n",
        "sns.heatmap(cm, annot=True, ax=ax, cmap='Blues', fmt='g')\n",
        "ax.set_title('Confusion Matrix')\n",
        "ax.set_xlabel('Predicted Labels')\n",
        "ax.set_ylabel('True Labels')\n",
        "ax.xaxis.set_ticklabels(best_rf_st.classes_)\n",
        "ax.yaxis.set_ticklabels(best_rf_st.classes_)\n",
        "plt.show()"
      ]
    },
    {
      "cell_type": "markdown",
      "metadata": {
        "id": "dhL0MtLbTMVT"
      },
      "source": [
        "# 4. XGBoost"
      ]
    },
    {
      "cell_type": "markdown",
      "metadata": {
        "id": "feYOVN4rey-N"
      },
      "source": [
        "## TF-IDF"
      ]
    },
    {
      "cell_type": "code",
      "execution_count": null,
      "metadata": {
        "colab": {
          "base_uri": "https://localhost:8080/",
          "height": 751
        },
        "id": "lSDO3c_KYO-x",
        "outputId": "928fa326-723b-4388-824c-32eb37fcd350"
      },
      "outputs": [
        {
          "name": "stdout",
          "output_type": "stream",
          "text": [
            "              precision    recall  f1-score   support\n",
            "\n",
            "           0       0.95      0.95      0.95      1999\n",
            "           1       0.51      0.51      0.51       217\n",
            "\n",
            "    accuracy                           0.90      2216\n",
            "   macro avg       0.73      0.73      0.73      2216\n",
            "weighted avg       0.90      0.90      0.90      2216\n",
            "\n",
            "[[1894  105]\n",
            " [ 106  111]]\n"
          ]
        },
        {
          "data": {
            "image/png": "[encoded data removed]",
            "text/plain": [
              "<Figure size 800x600 with 2 Axes>"
            ]
          },
          "metadata": {},
          "output_type": "display_data"
        }
      ],
      "source": [
        "class_counts = np.bincount(y_train)\n",
        "weights = class_counts[0] / class_counts[1]\n",
        "\n",
        "\n",
        "fixed_params = {\n",
        "    'n_estimators': 300,\n",
        "    'max_depth': 6,\n",
        "    'learning_rate': 0.1,\n",
        "    'subsample': 0.8,\n",
        "    'colsample_bytree': 0.8,\n",
        "    'gamma': 0.1,\n",
        "    'min_child_weight': 1,\n",
        "    'random_state': 80,\n",
        "    'scale_pos_weight': weights\n",
        "}\n",
        "\n",
        "\n",
        "xgb = XGBClassifier(**fixed_params)\n",
        "xgb.fit(X_train_combined_tfidf, y_train)\n",
        "y_pred = xgb.predict(X_test_combined_tfidf)\n",
        "\n",
        "\n",
        "classification_report5= classification_report(y_test, y_pred, output_dict=True)\n",
        "print(classification_report(y_test, y_pred))\n",
        "cm = confusion_matrix(y_test, y_pred, labels=xgb.classes_)\n",
        "print(cm)\n",
        "\n",
        "\n",
        "\n",
        "fig, ax = plt.subplots(figsize=(8, 6))\n",
        "sns.heatmap(cm, annot=True, ax=ax, cmap='Blues', fmt='g')\n",
        "ax.set_title('Confusion Matrix')\n",
        "ax.set_xlabel('Predicted Labels')\n",
        "ax.set_ylabel('True Labels')\n",
        "ax.xaxis.set_ticklabels(xgb.classes_)\n",
        "ax.yaxis.set_ticklabels(xgb.classes_)\n",
        "plt.show()\n",
        "\n"
      ]
    },
    {
      "cell_type": "markdown",
      "metadata": {
        "id": "_am7-ni8gCul"
      },
      "source": [
        "## Sentence Trasformer"
      ]
    },
    {
      "cell_type": "code",
      "execution_count": null,
      "metadata": {
        "colab": {
          "base_uri": "https://localhost:8080/",
          "height": 751
        },
        "id": "mUbEWwBDgEun",
        "outputId": "3df5699b-60be-45a1-8979-b3bfbdd2fc67"
      },
      "outputs": [
        {
          "name": "stdout",
          "output_type": "stream",
          "text": [
            "              precision    recall  f1-score   support\n",
            "\n",
            "           0       0.94      0.97      0.95      1999\n",
            "           1       0.61      0.40      0.48       217\n",
            "\n",
            "    accuracy                           0.92      2216\n",
            "   macro avg       0.77      0.68      0.72      2216\n",
            "weighted avg       0.90      0.92      0.91      2216\n",
            "\n",
            "[[1944   55]\n",
            " [ 131   86]]\n"
          ]
        },
        {
          "data": {
            "image/png": "[encoded data removed]",
            "text/plain": [
              "<Figure size 800x600 with 2 Axes>"
            ]
          },
          "metadata": {},
          "output_type": "display_data"
        }
      ],
      "source": [
        "class_counts = np.bincount(y_train)\n",
        "weights = class_counts[0] / class_counts[1]\n",
        "\n",
        "\n",
        "fixed_params = {\n",
        "    'n_estimators': 300,\n",
        "    'max_depth': 6,\n",
        "    'learning_rate': 0.1,\n",
        "    'subsample': 0.8,\n",
        "    'colsample_bytree': 0.8,\n",
        "    'gamma': 0.1,\n",
        "    'min_child_weight': 1,\n",
        "    'random_state': 80,\n",
        "    'scale_pos_weight': weights\n",
        "}\n",
        "\n",
        "\n",
        "xgb = XGBClassifier(**fixed_params)\n",
        "xgb.fit(X_train_combined_st, y_train)\n",
        "y_pred = xgb.predict(X_test_combined_st)\n",
        "\n",
        "\n",
        "classification_report6= classification_report(y_test, y_pred, output_dict=True)\n",
        "print(classification_report(y_test, y_pred))\n",
        "cm = confusion_matrix(y_test, y_pred, labels=xgb.classes_)\n",
        "print(cm)\n",
        "\n",
        "\n",
        "fig, ax = plt.subplots(figsize=(8, 6))\n",
        "sns.heatmap(cm, annot=True, ax=ax, cmap='Blues', fmt='g')\n",
        "ax.set_title('Confusion Matrix')\n",
        "ax.set_xlabel('Predicted Labels')\n",
        "ax.set_ylabel('True Labels')\n",
        "ax.xaxis.set_ticklabels(xgb.classes_)\n",
        "ax.yaxis.set_ticklabels(xgb.classes_)\n",
        "plt.show()"
      ]
    },
    {
      "cell_type": "markdown",
      "metadata": {
        "id": "WGkObwEidjok"
      },
      "source": [
        "# SUMMARY"
      ]
    },
    {
      "cell_type": "markdown",
      "metadata": {},
      "source": [
        "In the following table, we sum up the models' performance in terms of average F1-score, precision, recall and accuracy on the test set. We consider the macro average and not the weighted average to ensure we are not ignoring the models' performance on the minority class, given the imbalanced nature of the dataset."
      ]
    },
    {
      "cell_type": "code",
      "execution_count": null,
      "metadata": {
        "colab": {
          "base_uri": "https://localhost:8080/",
          "height": 235
        },
        "id": "foykodzkqvmC",
        "outputId": "72c4cd97-f16c-4736-cd5f-a3f45cef5533"
      },
      "outputs": [
        {
          "data": {
            "application/vnd.google.colaboratory.intrinsic+json": {
              "summary": "{\n  \"name\": \"summary\",\n  \"rows\": 6,\n  \"fields\": [\n    {\n      \"column\": \"precision\",\n      \"properties\": {\n        \"dtype\": \"number\",\n        \"std\": 0.050762259561515796,\n        \"min\": 0.6324391671525655,\n        \"max\": 0.7733982739468512,\n        \"num_unique_values\": 6,\n        \"samples\": [\n          0.6666910602423746,\n          0.6324391671525655,\n          0.7733982739468512\n        ],\n        \"semantic_type\": \"\",\n        \"description\": \"\"\n      }\n    },\n    {\n      \"column\": \"recall\",\n      \"properties\": {\n        \"dtype\": \"number\",\n        \"std\": 0.04193608222226474,\n        \"min\": 0.6843998035884301,\n        \"max\": 0.7888056931691653,\n        \"num_unique_values\": 6,\n        \"samples\": [\n          0.7888056931691653,\n          0.7717591514651334,\n          0.6843998035884301\n        ],\n        \"semantic_type\": \"\",\n        \"description\": \"\"\n      }\n    },\n    {\n      \"column\": \"f1-score\",\n      \"properties\": {\n        \"dtype\": \"number\",\n        \"std\": 0.031160331297934656,\n        \"min\": 0.6543395610290859,\n        \"max\": 0.7396038105207524,\n        \"num_unique_values\": 6,\n        \"samples\": [\n          0.6994593742677082,\n          0.6543395610290859,\n          0.7173957759110093\n        ],\n        \"semantic_type\": \"\",\n        \"description\": \"\"\n      }\n    },\n    {\n      \"column\": \"support\",\n      \"properties\": {\n        \"dtype\": \"number\",\n        \"std\": 0,\n        \"min\": 2216,\n        \"max\": 2216,\n        \"num_unique_values\": 1,\n        \"samples\": [\n          2216\n        ],\n        \"semantic_type\": \"\",\n        \"description\": \"\"\n      }\n    }\n  ]\n}",
              "type": "dataframe",
              "variable_name": "summary"
            },
            "text/html": [
              "\n",
              "  <div id=\"df-c0eb8369-d614-460c-8ea7-3a97fb034e3a\" class=\"colab-df-container\">\n",
              "    <div>\n",
              "<style scoped>\n",
              "    .dataframe tbody tr th:only-of-type {\n",
              "        vertical-align: middle;\n",
              "    }\n",
              "\n",
              "    .dataframe tbody tr th {\n",
              "        vertical-align: top;\n",
              "    }\n",
              "\n",
              "    .dataframe thead th {\n",
              "        text-align: right;\n",
              "    }\n",
              "</style>\n",
              "<table border=\"1\" class=\"dataframe\">\n",
              "  <thead>\n",
              "    <tr style=\"text-align: right;\">\n",
              "      <th></th>\n",
              "      <th>precision</th>\n",
              "      <th>recall</th>\n",
              "      <th>f1-score</th>\n",
              "      <th>support</th>\n",
              "    </tr>\n",
              "  </thead>\n",
              "  <tbody>\n",
              "    <tr>\n",
              "      <th>Logistic + TF-IDF</th>\n",
              "      <td>0.666691</td>\n",
              "      <td>0.788806</td>\n",
              "      <td>0.699459</td>\n",
              "      <td>2216</td>\n",
              "    </tr>\n",
              "    <tr>\n",
              "      <th>Logistic + SentenceTransformer</th>\n",
              "      <td>0.632439</td>\n",
              "      <td>0.771759</td>\n",
              "      <td>0.654340</td>\n",
              "      <td>2216</td>\n",
              "    </tr>\n",
              "    <tr>\n",
              "      <th>RF + TF-IDF</th>\n",
              "      <td>0.717537</td>\n",
              "      <td>0.770183</td>\n",
              "      <td>0.739604</td>\n",
              "      <td>2216</td>\n",
              "    </tr>\n",
              "    <tr>\n",
              "      <th>RF + SentenceTransformer</th>\n",
              "      <td>0.675694</td>\n",
              "      <td>0.703916</td>\n",
              "      <td>0.688169</td>\n",
              "      <td>2216</td>\n",
              "    </tr>\n",
              "    <tr>\n",
              "      <th>XGBoost + TF-IDF</th>\n",
              "      <td>0.730444</td>\n",
              "      <td>0.729497</td>\n",
              "      <td>0.729969</td>\n",
              "      <td>2216</td>\n",
              "    </tr>\n",
              "    <tr>\n",
              "      <th>XGBoost + SentenceTransformer</th>\n",
              "      <td>0.773398</td>\n",
              "      <td>0.684400</td>\n",
              "      <td>0.717396</td>\n",
              "      <td>2216</td>\n",
              "    </tr>\n",
              "  </tbody>\n",
              "</table>\n",
              "</div>\n",
              "    <div class=\"colab-df-buttons\">\n",
              "\n",
              "  <div class=\"colab-df-container\">\n",
              "    <button class=\"colab-df-convert\" onclick=\"convertToInteractive('df-c0eb8369-d614-460c-8ea7-3a97fb034e3a')\"\n",
              "            title=\"Convert this dataframe to an interactive table.\"\n",
              "            style=\"display:none;\">\n",
              "\n",
              "  <svg xmlns=\"http://www.w3.org/2000/svg\" height=\"24px\" viewBox=\"0 -960 960 960\">\n",
              "    <path d=\"M120-120v-720h720v720H120Zm60-500h600v-160H180v160Zm220 220h160v-160H400v160Zm0 220h160v-160H400v160ZM180-400h160v-160H180v160Zm440 0h160v-160H620v160ZM180-180h160v-160H180v160Zm440 0h160v-160H620v160Z\"/>\n",
              "  </svg>\n",
              "    </button>\n",
              "\n",
              "  <style>\n",
              "    .colab-df-container {\n",
              "      display:flex;\n",
              "      gap: 12px;\n",
              "    }\n",
              "\n",
              "    .colab-df-convert {\n",
              "      background-color: #E8F0FE;\n",
              "      border: none;\n",
              "      border-radius: 50%;\n",
              "      cursor: pointer;\n",
              "      display: none;\n",
              "      fill: #1967D2;\n",
              "      height: 32px;\n",
              "      padding: 0 0 0 0;\n",
              "      width: 32px;\n",
              "    }\n",
              "\n",
              "    .colab-df-convert:hover {\n",
              "      background-color: #E2EBFA;\n",
              "      box-shadow: 0px 1px 2px rgba(60, 64, 67, 0.3), 0px 1px 3px 1px rgba(60, 64, 67, 0.15);\n",
              "      fill: #174EA6;\n",
              "    }\n",
              "\n",
              "    .colab-df-buttons div {\n",
              "      margin-bottom: 4px;\n",
              "    }\n",
              "\n",
              "    [theme=dark] .colab-df-convert {\n",
              "      background-color: #3B4455;\n",
              "      fill: #D2E3FC;\n",
              "    }\n",
              "\n",
              "    [theme=dark] .colab-df-convert:hover {\n",
              "      background-color: #434B5C;\n",
              "      box-shadow: 0px 1px 3px 1px rgba(0, 0, 0, 0.15);\n",
              "      filter: drop-shadow(0px 1px 2px rgba(0, 0, 0, 0.3));\n",
              "      fill: #FFFFFF;\n",
              "    }\n",
              "  </style>\n",
              "\n",
              "    <script>\n",
              "      const buttonEl =\n",
              "        document.querySelector('#df-c0eb8369-d614-460c-8ea7-3a97fb034e3a button.colab-df-convert');\n",
              "      buttonEl.style.display =\n",
              "        google.colab.kernel.accessAllowed ? 'block' : 'none';\n",
              "\n",
              "      async function convertToInteractive(key) {\n",
              "        const element = document.querySelector('#df-c0eb8369-d614-460c-8ea7-3a97fb034e3a');\n",
              "        const dataTable =\n",
              "          await google.colab.kernel.invokeFunction('convertToInteractive',\n",
              "                                                    [key], {});\n",
              "        if (!dataTable) return;\n",
              "\n",
              "        const docLinkHtml = 'Like what you see? Visit the ' +\n",
              "          '<a target=\"_blank\" href=https://colab.research.google.com/notebooks/data_table.ipynb>data table notebook</a>'\n",
              "          + ' to learn more about interactive tables.';\n",
              "        element.innerHTML = '';\n",
              "        dataTable['output_type'] = 'display_data';\n",
              "        await google.colab.output.renderOutput(dataTable, element);\n",
              "        const docLink = document.createElement('div');\n",
              "        docLink.innerHTML = docLinkHtml;\n",
              "        element.appendChild(docLink);\n",
              "      }\n",
              "    </script>\n",
              "  </div>\n",
              "\n",
              "\n",
              "<div id=\"df-77f1edf0-9807-45ca-b59f-9b3fa9de1175\">\n",
              "  <button class=\"colab-df-quickchart\" onclick=\"quickchart('df-77f1edf0-9807-45ca-b59f-9b3fa9de1175')\"\n",
              "            title=\"Suggest charts\"\n",
              "            style=\"display:none;\">\n",
              "\n",
              "<svg xmlns=\"http://www.w3.org/2000/svg\" height=\"24px\"viewBox=\"0 0 24 24\"\n",
              "     width=\"24px\">\n",
              "    <g>\n",
              "        <path d=\"M19 3H5c-1.1 0-2 .9-2 2v14c0 1.1.9 2 2 2h14c1.1 0 2-.9 2-2V5c0-1.1-.9-2-2-2zM9 17H7v-7h2v7zm4 0h-2V7h2v10zm4 0h-2v-4h2v4z\"/>\n",
              "    </g>\n",
              "</svg>\n",
              "  </button>\n",
              "\n",
              "<style>\n",
              "  .colab-df-quickchart {\n",
              "      --bg-color: #E8F0FE;\n",
              "      --fill-color: #1967D2;\n",
              "      --hover-bg-color: #E2EBFA;\n",
              "      --hover-fill-color: #174EA6;\n",
              "      --disabled-fill-color: #AAA;\n",
              "      --disabled-bg-color: #DDD;\n",
              "  }\n",
              "\n",
              "  [theme=dark] .colab-df-quickchart {\n",
              "      --bg-color: #3B4455;\n",
              "      --fill-color: #D2E3FC;\n",
              "      --hover-bg-color: #434B5C;\n",
              "      --hover-fill-color: #FFFFFF;\n",
              "      --disabled-bg-color: #3B4455;\n",
              "      --disabled-fill-color: #666;\n",
              "  }\n",
              "\n",
              "  .colab-df-quickchart {\n",
              "    background-color: var(--bg-color);\n",
              "    border: none;\n",
              "    border-radius: 50%;\n",
              "    cursor: pointer;\n",
              "    display: none;\n",
              "    fill: var(--fill-color);\n",
              "    height: 32px;\n",
              "    padding: 0;\n",
              "    width: 32px;\n",
              "  }\n",
              "\n",
              "  .colab-df-quickchart:hover {\n",
              "    background-color: var(--hover-bg-color);\n",
              "    box-shadow: 0 1px 2px rgba(60, 64, 67, 0.3), 0 1px 3px 1px rgba(60, 64, 67, 0.15);\n",
              "    fill: var(--button-hover-fill-color);\n",
              "  }\n",
              "\n",
              "  .colab-df-quickchart-complete:disabled,\n",
              "  .colab-df-quickchart-complete:disabled:hover {\n",
              "    background-color: var(--disabled-bg-color);\n",
              "    fill: var(--disabled-fill-color);\n",
              "    box-shadow: none;\n",
              "  }\n",
              "\n",
              "  .colab-df-spinner {\n",
              "    border: 2px solid var(--fill-color);\n",
              "    border-color: transparent;\n",
              "    border-bottom-color: var(--fill-color);\n",
              "    animation:\n",
              "      spin 1s steps(1) infinite;\n",
              "  }\n",
              "\n",
              "  @keyframes spin {\n",
              "    0% {\n",
              "      border-color: transparent;\n",
              "      border-bottom-color: var(--fill-color);\n",
              "      border-left-color: var(--fill-color);\n",
              "    }\n",
              "    20% {\n",
              "      border-color: transparent;\n",
              "      border-left-color: var(--fill-color);\n",
              "      border-top-color: var(--fill-color);\n",
              "    }\n",
              "    30% {\n",
              "      border-color: transparent;\n",
              "      border-left-color: var(--fill-color);\n",
              "      border-top-color: var(--fill-color);\n",
              "      border-right-color: var(--fill-color);\n",
              "    }\n",
              "    40% {\n",
              "      border-color: transparent;\n",
              "      border-right-color: var(--fill-color);\n",
              "      border-top-color: var(--fill-color);\n",
              "    }\n",
              "    60% {\n",
              "      border-color: transparent;\n",
              "      border-right-color: var(--fill-color);\n",
              "    }\n",
              "    80% {\n",
              "      border-color: transparent;\n",
              "      border-right-color: var(--fill-color);\n",
              "      border-bottom-color: var(--fill-color);\n",
              "    }\n",
              "    90% {\n",
              "      border-color: transparent;\n",
              "      border-bottom-color: var(--fill-color);\n",
              "    }\n",
              "  }\n",
              "</style>\n",
              "\n",
              "  <script>\n",
              "    async function quickchart(key) {\n",
              "      const quickchartButtonEl =\n",
              "        document.querySelector('#' + key + ' button');\n",
              "      quickchartButtonEl.disabled = true;  // To prevent multiple clicks.\n",
              "      quickchartButtonEl.classList.add('colab-df-spinner');\n",
              "      try {\n",
              "        const charts = await google.colab.kernel.invokeFunction(\n",
              "            'suggestCharts', [key], {});\n",
              "      } catch (error) {\n",
              "        console.error('Error during call to suggestCharts:', error);\n",
              "      }\n",
              "      quickchartButtonEl.classList.remove('colab-df-spinner');\n",
              "      quickchartButtonEl.classList.add('colab-df-quickchart-complete');\n",
              "    }\n",
              "    (() => {\n",
              "      let quickchartButtonEl =\n",
              "        document.querySelector('#df-77f1edf0-9807-45ca-b59f-9b3fa9de1175 button');\n",
              "      quickchartButtonEl.style.display =\n",
              "        google.colab.kernel.accessAllowed ? 'block' : 'none';\n",
              "    })();\n",
              "  </script>\n",
              "</div>\n",
              "    </div>\n",
              "  </div>\n"
            ],
            "text/plain": [
              "                                precision    recall  f1-score  support\n",
              "Logistic + TF-IDF                0.666691  0.788806  0.699459     2216\n",
              "Logistic + SentenceTransformer   0.632439  0.771759  0.654340     2216\n",
              "RF + TF-IDF                      0.717537  0.770183  0.739604     2216\n",
              "RF + SentenceTransformer         0.675694  0.703916  0.688169     2216\n",
              "XGBoost + TF-IDF                 0.730444  0.729497  0.729969     2216\n",
              "XGBoost + SentenceTransformer    0.773398  0.684400  0.717396     2216"
            ]
          },
          "execution_count": 75,
          "metadata": {},
          "output_type": "execute_result"
        }
      ],
      "source": [
        "list_dicts= [classification_report1['macro avg'], classification_report2['macro avg'], classification_report3['macro avg'],\n",
        "             classification_report4['macro avg'], classification_report5['macro avg'], classification_report6['macro avg']]\n",
        "row_names= [\"Logistic + TF-IDF\", \"Logistic + SentenceTransformer\", \"RF + TF-IDF\", \"RF + SentenceTransformer\",\n",
        "            \"XGBoost + TF-IDF\", \"XGBoost + SentenceTransformer\"]\n",
        "summary= pd.DataFrame(list_dicts, index= row_names)\n",
        "summary"
      ]
    },
    {
      "cell_type": "markdown",
      "metadata": {
        "id": "_n4d85F8spLX"
      },
      "source": [
        "The models show similar performances.\n",
        "We focus particularly on the average F1-score because it balances precision and recall, providing a better measure of the classifier’s performance in the presence of class imbalances. The best classification model is Random Forest, which uses the genre, sentiment scores, and TF-IDF vector representation of the lyrics as predictors. "
      ]
    },
    {
      "cell_type": "code",
      "execution_count": 18,
      "metadata": {
        "colab": {
          "base_uri": "https://localhost:8080/"
        },
        "id": "l6lGdXk4tYv6",
        "outputId": "91fe6ffd-3757-4fff-a6e1-9f9f5ea7b714"
      },
      "outputs": [
        {
          "data": {
            "text/plain": [
              "['random_forest_textgenresent.joblib']"
            ]
          },
          "execution_count": 18,
          "metadata": {},
          "output_type": "execute_result"
        }
      ],
      "source": [
        "joblib.dump(best_rf, \"random_forest_textgenresent.joblib\")"
      ]
    },
    {
      "cell_type": "markdown",
      "metadata": {},
      "source": [
        "Now we evaluate whether dimensionality reduction through Truncated Singular Value Decomposition and the inclusion of genre and sentiment scores as predictors improve the models' performance or not."
      ]
    },
    {
      "cell_type": "markdown",
      "metadata": {
        "id": "vRbUDVjxGGM-"
      },
      "source": [
        "## Dimensionality reduction"
      ]
    },
    {
      "cell_type": "code",
      "execution_count": 19,
      "metadata": {
        "colab": {
          "base_uri": "https://localhost:8080/"
        },
        "id": "_JdLcrJQGGM_",
        "outputId": "b6960c5d-c46e-4e5d-8233-659e259b212d"
      },
      "outputs": [
        {
          "name": "stdout",
          "output_type": "stream",
          "text": [
            "0.7185692975966773 TruncatedSVD(n_components=400)\n"
          ]
        }
      ],
      "source": [
        "\n",
        "pipe = Pipeline([\n",
        "    ('reduction', 'passthrough'),\n",
        "    ('classifier', best_rf)\n",
        "])\n",
        "\n",
        "param_grid = [\n",
        "    {\n",
        "        'reduction': [TruncatedSVD()],\n",
        "        'reduction__n_components': [500, 400, 300, 200, 100, 50, 25]\n",
        "    },\n",
        "]\n",
        "\n",
        "grid = GridSearchCV(pipe,\n",
        "                    param_grid=param_grid,\n",
        "                    cv=5,\n",
        "                    scoring='f1_macro',\n",
        "                    n_jobs=-1,\n",
        "                   )\n",
        "grid.fit(X_train_combined_tfidf, y_train)\n",
        "print(grid.best_score_, grid.best_params_['reduction'])\n",
        "\n",
        "reductor = grid.best_params_['reduction'].fit(X_train_combined_tfidf, y_train)\n",
        "X_train_sel = reductor.transform(X_train_combined_tfidf)\n",
        "X_test_sel = reductor.transform(X_test_combined_tfidf)"
      ]
    },
    {
      "cell_type": "code",
      "execution_count": 20,
      "metadata": {
        "colab": {
          "base_uri": "https://localhost:8080/",
          "height": 751
        },
        "id": "csRPYTZYOO2Z",
        "outputId": "80ba6a00-d6eb-47a2-9025-f6e824fab969"
      },
      "outputs": [
        {
          "name": "stdout",
          "output_type": "stream",
          "text": [
            "              precision    recall  f1-score   support\n",
            "\n",
            "           0       0.94      0.97      0.95      1999\n",
            "           1       0.60      0.44      0.51       217\n",
            "\n",
            "    accuracy                           0.92      2216\n",
            "   macro avg       0.77      0.71      0.73      2216\n",
            "weighted avg       0.91      0.92      0.91      2216\n",
            "\n",
            "[[1936   63]\n",
            " [ 121   96]]\n"
          ]
        },
        {
          "data": {
            "image/png": "[encoded data removed]",
            "text/plain": [
              "<Figure size 800x600 with 2 Axes>"
            ]
          },
          "metadata": {},
          "output_type": "display_data"
        }
      ],
      "source": [
        "best_rf.fit(X_train_sel, y_train)\n",
        "predictions = best_rf.predict(X_test_sel)\n",
        "\n",
        "print(classification_report(y_test, predictions))\n",
        "cm = confusion_matrix(y_test, predictions, labels= best_rf.classes_)\n",
        "print(cm)\n",
        "fig, ax = plt.subplots(figsize=(8, 6))\n",
        "sns.heatmap(cm, annot=True, ax=ax, cmap='Blues', fmt='g')\n",
        "ax.set_title('Confusion Matrix')\n",
        "ax.set_xlabel('Predicted Labels')\n",
        "ax.set_ylabel('True Labels')\n",
        "ax.xaxis.set_ticklabels(best_rf.classes_)\n",
        "ax.yaxis.set_ticklabels(best_rf.classes_)\n",
        "plt.show()"
      ]
    },
    {
      "cell_type": "markdown",
      "metadata": {
        "id": "8c_MTTOAtC13"
      },
      "source": [
        "## RF without genres and sentiment"
      ]
    },
    {
      "cell_type": "code",
      "execution_count": null,
      "metadata": {
        "colab": {
          "base_uri": "https://localhost:8080/",
          "height": 839
        },
        "id": "_kfXOFAlSwL8",
        "outputId": "38722977-675e-4c31-b346-d61fb343176d"
      },
      "outputs": [
        {
          "name": "stderr",
          "output_type": "stream",
          "text": [
            "/usr/local/lib/python3.10/dist-packages/joblib/externals/loky/backend/fork_exec.py:38: RuntimeWarning: os.fork() was called. os.fork() is incompatible with multithreaded code, and JAX is multithreaded, so this will likely lead to a deadlock.\n",
            "  pid = os.fork()\n"
          ]
        },
        {
          "name": "stdout",
          "output_type": "stream",
          "text": [
            "Best parameters found:  {'bootstrap': True, 'max_depth': 10, 'max_features': 'sqrt', 'min_samples_leaf': 2, 'min_samples_split': 5, 'n_estimators': 300}\n",
            "Best F1 score:  0.6481242611480793\n",
            "              precision    recall  f1-score   support\n",
            "\n",
            "           0       0.94      0.91      0.92      1999\n",
            "           1       0.35      0.43      0.38       217\n",
            "\n",
            "    accuracy                           0.87      2216\n",
            "   macro avg       0.64      0.67      0.65      2216\n",
            "weighted avg       0.88      0.87      0.87      2216\n",
            "\n",
            "[[1825  174]\n",
            " [ 124   93]]\n"
          ]
        },
        {
          "data": {
            "image/png": "[encoded data removed]",
            "text/plain": [
              "<Figure size 800x600 with 2 Axes>"
            ]
          },
          "metadata": {},
          "output_type": "display_data"
        }
      ],
      "source": [
        "param_grid = {\n",
        "    'n_estimators': [100, 200, 300],\n",
        "    'max_depth': [None, 10, 20, 30],\n",
        "    'max_features': ['sqrt', 'log2'],\n",
        "    'min_samples_split': [2, 5, 10],\n",
        "    'min_samples_leaf': [1, 2, 4],\n",
        "    'bootstrap': [True, False]\n",
        "}\n",
        "\n",
        "\n",
        "rf = RandomForestClassifier(random_state=80, class_weight='balanced')\n",
        "grid_search = GridSearchCV(estimator=rf, param_grid=param_grid,\n",
        "                           cv=5, n_jobs=-1, scoring='f1_macro')\n",
        "grid_search.fit(train_lyrics_tfidf, y_train)\n",
        "\n",
        "\n",
        "print(\"Best parameters found: \", grid_search.best_params_)\n",
        "print(\"Best F1 score: \", grid_search.best_score_)\n",
        "\n",
        "\n",
        "best_rf = grid_search.best_estimator_\n",
        "best_rf.fit(train_lyrics_tfidf, y_train)\n",
        "joblib.dump(best_rf, 'random_forest_model_text.joblib')\n",
        "y_pred = best_rf.predict(test_lyrics_tfidf)\n",
        "\n",
        "\n",
        "\n",
        "print(classification_report(y_test, y_pred))\n",
        "cm = confusion_matrix(y_test, y_pred, labels=best_rf.classes_)\n",
        "print(cm)\n",
        "\n",
        "\n",
        "fig, ax = plt.subplots(figsize=(8, 6))\n",
        "sns.heatmap(cm, annot=True, ax=ax, cmap='Blues', fmt='g')\n",
        "ax.set_title('Confusion Matrix')\n",
        "ax.set_xlabel('Predicted Labels')\n",
        "ax.set_ylabel('True Labels')\n",
        "ax.xaxis.set_ticklabels(best_rf.classes_)\n",
        "ax.yaxis.set_ticklabels(best_rf.classes_)\n",
        "plt.show()\n"
      ]
    },
    {
      "cell_type": "markdown",
      "metadata": {
        "id": "vKRCcXEsgkdf"
      },
      "source": [
        "## RF without genres"
      ]
    },
    {
      "cell_type": "code",
      "execution_count": null,
      "metadata": {
        "id": "AVi6ZJUASwL8"
      },
      "outputs": [],
      "source": [
        "X_train_combined = hstack([train_lyrics_tfidf, X_train[['negative', 'positive']]])\n",
        "X_test_combined = hstack([test_lyrics_tfidf, X_test[['negative', 'positive']]])"
      ]
    },
    {
      "cell_type": "code",
      "execution_count": null,
      "metadata": {
        "colab": {
          "base_uri": "https://localhost:8080/",
          "height": 805
        },
        "id": "UjhtT0gnjds7",
        "outputId": "f5af685d-f932-4454-a7a3-78b13622a6e7"
      },
      "outputs": [
        {
          "name": "stdout",
          "output_type": "stream",
          "text": [
            "Best parameters found:  {'bootstrap': True, 'max_depth': 10, 'max_features': 'log2', 'min_samples_leaf': 2, 'min_samples_split': 5, 'n_estimators': 200}\n",
            "Best F1 score:  0.6487773994118061\n",
            "              precision    recall  f1-score   support\n",
            "\n",
            "           0       0.94      0.90      0.92      1999\n",
            "           1       0.33      0.46      0.39       217\n",
            "\n",
            "    accuracy                           0.86      2216\n",
            "   macro avg       0.64      0.68      0.65      2216\n",
            "weighted avg       0.88      0.86      0.87      2216\n",
            "\n",
            "[[1798  201]\n",
            " [ 117  100]]\n"
          ]
        },
        {
          "data": {
            "image/png": "[encoded data removed]",
            "text/plain": [
              "<Figure size 800x600 with 2 Axes>"
            ]
          },
          "metadata": {},
          "output_type": "display_data"
        }
      ],
      "source": [
        "param_grid = {\n",
        "    'n_estimators': [100, 200, 300],\n",
        "    'max_depth': [None, 10, 20, 30],\n",
        "    'max_features': ['sqrt', 'log2'],\n",
        "    'min_samples_split': [2, 5, 10],\n",
        "    'min_samples_leaf': [1, 2, 4],\n",
        "    'bootstrap': [True, False]\n",
        "}\n",
        "\n",
        "\n",
        "rf = RandomForestClassifier(random_state=80, class_weight='balanced')\n",
        "grid_search = GridSearchCV(estimator=rf, param_grid=param_grid,\n",
        "                           cv=5, n_jobs=-1, scoring='f1_macro')\n",
        "grid_search.fit(X_train_combined, y_train)\n",
        "\n",
        "\n",
        "print(\"Best parameters found: \", grid_search.best_params_)\n",
        "print(\"Best F1 score: \", grid_search.best_score_)\n",
        "\n",
        "\n",
        "best_rf = grid_search.best_estimator_\n",
        "best_rf.fit(X_train_combined, y_train)\n",
        "joblib.dump(best_rf, 'random_forest_model_textsent.joblib')\n",
        "y_pred = best_rf.predict(X_test_combined)\n",
        "\n",
        "\n",
        "\n",
        "print(classification_report(y_test, y_pred))\n",
        "cm = confusion_matrix(y_test, y_pred, labels=best_rf.classes_)\n",
        "print(cm)\n",
        "\n",
        "\n",
        "fig, ax = plt.subplots(figsize=(8, 6))\n",
        "sns.heatmap(cm, annot=True, ax=ax, cmap='Blues', fmt='g')\n",
        "ax.set_title('Confusion Matrix')\n",
        "ax.set_xlabel('Predicted Labels')\n",
        "ax.set_ylabel('True Labels')\n",
        "ax.xaxis.set_ticklabels(best_rf.classes_)\n",
        "ax.yaxis.set_ticklabels(best_rf.classes_)\n",
        "plt.show()"
      ]
    },
    {
      "cell_type": "markdown",
      "metadata": {
        "id": "l0Kl22OytUyF"
      },
      "source": [
        "## RF without sentiment"
      ]
    },
    {
      "cell_type": "code",
      "execution_count": null,
      "metadata": {
        "colab": {
          "base_uri": "https://localhost:8080/",
          "height": 839
        },
        "id": "1aVf74hPtX_8",
        "outputId": "03a60547-6392-4801-df90-89d3edcb1f54"
      },
      "outputs": [
        {
          "name": "stderr",
          "output_type": "stream",
          "text": [
            "/usr/local/lib/python3.10/dist-packages/joblib/externals/loky/backend/fork_exec.py:38: RuntimeWarning: os.fork() was called. os.fork() is incompatible with multithreaded code, and JAX is multithreaded, so this will likely lead to a deadlock.\n",
            "  pid = os.fork()\n"
          ]
        },
        {
          "name": "stdout",
          "output_type": "stream",
          "text": [
            "Best parameters found:  {'bootstrap': True, 'max_depth': 10, 'max_features': 'sqrt', 'min_samples_leaf': 4, 'min_samples_split': 2, 'n_estimators': 200}\n",
            "Best F1 score:  0.7090383273303098\n",
            "              precision    recall  f1-score   support\n",
            "\n",
            "           0       0.95      0.93      0.94      1999\n",
            "           1       0.46      0.57      0.51       217\n",
            "\n",
            "    accuracy                           0.89      2216\n",
            "   macro avg       0.71      0.75      0.73      2216\n",
            "weighted avg       0.90      0.89      0.90      2216\n",
            "\n",
            "[[1855  144]\n",
            " [  93  124]]\n"
          ]
        },
        {
          "data": {
            "image/png": "[encoded data removed]",
            "text/plain": [
              "<Figure size 800x600 with 2 Axes>"
            ]
          },
          "metadata": {},
          "output_type": "display_data"
        }
      ],
      "source": [
        "X_train_combined = hstack([train_lyrics_tfidf, train_genres_encoded])\n",
        "X_test_combined = hstack([test_lyrics_tfidf, test_genres_encoded])\n",
        "\n",
        "param_grid = {\n",
        "    'n_estimators': [100, 200, 300],\n",
        "    'max_depth': [None, 10, 20, 30],\n",
        "    'max_features': ['sqrt', 'log2'],\n",
        "    'min_samples_split': [2, 5, 10],\n",
        "    'min_samples_leaf': [1, 2, 4],\n",
        "    'bootstrap': [True, False]\n",
        "}\n",
        "\n",
        "\n",
        "rf = RandomForestClassifier(random_state=80, class_weight='balanced')\n",
        "grid_search = GridSearchCV(estimator=rf, param_grid=param_grid,\n",
        "                           cv=5, n_jobs=-1, scoring='f1_macro')\n",
        "grid_search.fit(X_train_combined, y_train)\n",
        "\n",
        "\n",
        "print(\"Best parameters found: \", grid_search.best_params_)\n",
        "print(\"Best F1 score: \", grid_search.best_score_)\n",
        "\n",
        "\n",
        "best_rf = grid_search.best_estimator_\n",
        "best_rf.fit(X_train_combined, y_train)\n",
        "joblib.dump(best_rf, 'random_forest_model_textgenre.joblib')\n",
        "y_pred = best_rf.predict(X_test_combined)\n",
        "\n",
        "\n",
        "\n",
        "print(classification_report(y_test, y_pred))\n",
        "cm = confusion_matrix(y_test, y_pred, labels=best_rf.classes_)\n",
        "print(cm)\n",
        "\n",
        "\n",
        "fig, ax = plt.subplots(figsize=(8, 6))\n",
        "sns.heatmap(cm, annot=True, ax=ax, cmap='Blues', fmt='g')\n",
        "ax.set_title('Confusion Matrix')\n",
        "ax.set_xlabel('Predicted Labels')\n",
        "ax.set_ylabel('True Labels')\n",
        "ax.xaxis.set_ticklabels(best_rf.classes_)\n",
        "ax.yaxis.set_ticklabels(best_rf.classes_)\n",
        "plt.show()"
      ]
    },
    {
      "cell_type": "markdown",
      "metadata": {
        "id": "nhh6DIJkGGM_"
      },
      "source": [
        "## Conclusions"
      ]
    },
    {
      "cell_type": "markdown",
      "metadata": {
        "id": "-pWlwTzJuwdd"
      },
      "source": [
        "These results reveal that the inclusion of the genres and sentiment improves predictions. Dimensionality reduction, instead, does not improve the model's perfomance."
      ]
    }
  ],
  "metadata": {
    "accelerator": "TPU",
    "colab": {
      "collapsed_sections": [
        "FiyG-MT3TMVM",
        "pdhPx5K3SwL8",
        "a8Y1R_TSTMVT"
      ],
      "gpuType": "V28",
      "machine_shape": "hm",
      "provenance": []
    },
    "kernelspec": {
      "display_name": "Python 3",
      "name": "python3"
    },
    "language_info": {
      "codemirror_mode": {
        "name": "ipython",
        "version": 3
      },
      "file_extension": ".py",
      "mimetype": "text/x-python",
      "name": "python",
      "nbconvert_exporter": "python",
      "pygments_lexer": "ipython3",
      "version": "3.11.5"
    },
    "widgets": {
      "application/vnd.jupyter.widget-state+json": {
        "007ff9d74a5048b281f0495b1b7af629": {
          "model_module": "@jupyter-widgets/base",
          "model_module_version": "1.2.0",
          "model_name": "LayoutModel",
          "state": {
            "_model_module": "@jupyter-widgets/base",
            "_model_module_version": "1.2.0",
            "_model_name": "LayoutModel",
            "_view_count": null,
            "_view_module": "@jupyter-widgets/base",
            "_view_module_version": "1.2.0",
            "_view_name": "LayoutView",
            "align_content": null,
            "align_items": null,
            "align_self": null,
            "border": null,
            "bottom": null,
            "display": null,
            "flex": null,
            "flex_flow": null,
            "grid_area": null,
            "grid_auto_columns": null,
            "grid_auto_flow": null,
            "grid_auto_rows": null,
            "grid_column": null,
            "grid_gap": null,
            "grid_row": null,
            "grid_template_areas": null,
            "grid_template_columns": null,
            "grid_template_rows": null,
            "height": null,
            "justify_content": null,
            "justify_items": null,
            "left": null,
            "margin": null,
            "max_height": null,
            "max_width": null,
            "min_height": null,
            "min_width": null,
            "object_fit": null,
            "object_position": null,
            "order": null,
            "overflow": null,
            "overflow_x": null,
            "overflow_y": null,
            "padding": null,
            "right": null,
            "top": null,
            "visibility": null,
            "width": null
          }
        },
        "02471084f8314e2290ab59a2b1ba04aa": {
          "model_module": "@jupyter-widgets/controls",
          "model_module_version": "1.5.0",
          "model_name": "HBoxModel",
          "state": {
            "_dom_classes": [],
            "_model_module": "@jupyter-widgets/controls",
            "_model_module_version": "1.5.0",
            "_model_name": "HBoxModel",
            "_view_count": null,
            "_view_module": "@jupyter-widgets/controls",
            "_view_module_version": "1.5.0",
            "_view_name": "HBoxView",
            "box_style": "",
            "children": [
              "IPY_MODEL_0a5e1b0611b64c629245bcad4af85f89",
              "IPY_MODEL_2827beb16c1e434186f07100f2d67a00",
              "IPY_MODEL_fe1ae93c73af4e5783aca70f90ce14a3"
            ],
            "layout": "IPY_MODEL_7f82fda529f94d3db7ee86b99991347f"
          }
        },
        "0443b9995edf4035b9d1f6ba746ef9e8": {
          "model_module": "@jupyter-widgets/controls",
          "model_module_version": "1.5.0",
          "model_name": "HTMLModel",
          "state": {
            "_dom_classes": [],
            "_model_module": "@jupyter-widgets/controls",
            "_model_module_version": "1.5.0",
            "_model_name": "HTMLModel",
            "_view_count": null,
            "_view_module": "@jupyter-widgets/controls",
            "_view_module_version": "1.5.0",
            "_view_name": "HTMLView",
            "description": "",
            "description_tooltip": null,
            "layout": "IPY_MODEL_66378a3c60a94d74af43cb1346af7915",
            "placeholder": "​",
            "style": "IPY_MODEL_1cfcd0c6d81048749ec5723505509734",
            "value": "vocab.txt: 100%"
          }
        },
        "04a05e80c11a4f00862bcfcd079c925b": {
          "model_module": "@jupyter-widgets/controls",
          "model_module_version": "1.5.0",
          "model_name": "DescriptionStyleModel",
          "state": {
            "_model_module": "@jupyter-widgets/controls",
            "_model_module_version": "1.5.0",
            "_model_name": "DescriptionStyleModel",
            "_view_count": null,
            "_view_module": "@jupyter-widgets/base",
            "_view_module_version": "1.2.0",
            "_view_name": "StyleView",
            "description_width": ""
          }
        },
        "04cfd1b3412b4d709d61bc4d965fb647": {
          "model_module": "@jupyter-widgets/controls",
          "model_module_version": "1.5.0",
          "model_name": "HTMLModel",
          "state": {
            "_dom_classes": [],
            "_model_module": "@jupyter-widgets/controls",
            "_model_module_version": "1.5.0",
            "_model_name": "HTMLModel",
            "_view_count": null,
            "_view_module": "@jupyter-widgets/controls",
            "_view_module_version": "1.5.0",
            "_view_name": "HTMLView",
            "description": "",
            "description_tooltip": null,
            "layout": "IPY_MODEL_2ff09db57515491eb2fc5d47ed1f2bee",
            "placeholder": "​",
            "style": "IPY_MODEL_2c1efa5354ce46cfa551cc0f6588288b",
            "value": " 190/190 [00:00&lt;00:00, 19.4kB/s]"
          }
        },
        "04e044f3a23b45a7a9622f01c684215c": {
          "model_module": "@jupyter-widgets/controls",
          "model_module_version": "1.5.0",
          "model_name": "HTMLModel",
          "state": {
            "_dom_classes": [],
            "_model_module": "@jupyter-widgets/controls",
            "_model_module_version": "1.5.0",
            "_model_name": "HTMLModel",
            "_view_count": null,
            "_view_module": "@jupyter-widgets/controls",
            "_view_module_version": "1.5.0",
            "_view_name": "HTMLView",
            "description": "",
            "description_tooltip": null,
            "layout": "IPY_MODEL_9971163e5dc848ada04c192e85ca1605",
            "placeholder": "​",
            "style": "IPY_MODEL_3a335c9f92f446dea7bd1b544628c8b6",
            "value": " 612/612 [00:00&lt;00:00, 68.2kB/s]"
          }
        },
        "057aafc7042d4f3db0e27168c8591747": {
          "model_module": "@jupyter-widgets/controls",
          "model_module_version": "1.5.0",
          "model_name": "ProgressStyleModel",
          "state": {
            "_model_module": "@jupyter-widgets/controls",
            "_model_module_version": "1.5.0",
            "_model_name": "ProgressStyleModel",
            "_view_count": null,
            "_view_module": "@jupyter-widgets/base",
            "_view_module_version": "1.2.0",
            "_view_name": "StyleView",
            "bar_color": null,
            "description_width": ""
          }
        },
        "0841d53feff942a2802806f2253077ec": {
          "model_module": "@jupyter-widgets/controls",
          "model_module_version": "1.5.0",
          "model_name": "FloatProgressModel",
          "state": {
            "_dom_classes": [],
            "_model_module": "@jupyter-widgets/controls",
            "_model_module_version": "1.5.0",
            "_model_name": "FloatProgressModel",
            "_view_count": null,
            "_view_module": "@jupyter-widgets/controls",
            "_view_module_version": "1.5.0",
            "_view_name": "ProgressView",
            "bar_style": "success",
            "description": "",
            "description_tooltip": null,
            "layout": "IPY_MODEL_52065d0cd3c74108acbe9076d53e5519",
            "max": 190,
            "min": 0,
            "orientation": "horizontal",
            "style": "IPY_MODEL_7e6472f8ddad43c8a559d1503f8de968",
            "value": 190
          }
        },
        "090c99d13eed46adac6ed2fe03213cf2": {
          "model_module": "@jupyter-widgets/base",
          "model_module_version": "1.2.0",
          "model_name": "LayoutModel",
          "state": {
            "_model_module": "@jupyter-widgets/base",
            "_model_module_version": "1.2.0",
            "_model_name": "LayoutModel",
            "_view_count": null,
            "_view_module": "@jupyter-widgets/base",
            "_view_module_version": "1.2.0",
            "_view_name": "LayoutView",
            "align_content": null,
            "align_items": null,
            "align_self": null,
            "border": null,
            "bottom": null,
            "display": null,
            "flex": null,
            "flex_flow": null,
            "grid_area": null,
            "grid_auto_columns": null,
            "grid_auto_flow": null,
            "grid_auto_rows": null,
            "grid_column": null,
            "grid_gap": null,
            "grid_row": null,
            "grid_template_areas": null,
            "grid_template_columns": null,
            "grid_template_rows": null,
            "height": null,
            "justify_content": null,
            "justify_items": null,
            "left": null,
            "margin": null,
            "max_height": null,
            "max_width": null,
            "min_height": null,
            "min_width": null,
            "object_fit": null,
            "object_position": null,
            "order": null,
            "overflow": null,
            "overflow_x": null,
            "overflow_y": null,
            "padding": null,
            "right": null,
            "top": null,
            "visibility": null,
            "width": null
          }
        },
        "0a5e1b0611b64c629245bcad4af85f89": {
          "model_module": "@jupyter-widgets/controls",
          "model_module_version": "1.5.0",
          "model_name": "HTMLModel",
          "state": {
            "_dom_classes": [],
            "_model_module": "@jupyter-widgets/controls",
            "_model_module_version": "1.5.0",
            "_model_name": "HTMLModel",
            "_view_count": null,
            "_view_module": "@jupyter-widgets/controls",
            "_view_module_version": "1.5.0",
            "_view_name": "HTMLView",
            "description": "",
            "description_tooltip": null,
            "layout": "IPY_MODEL_ddd42f9ac2db4bb9b66ba394c048137e",
            "placeholder": "​",
            "style": "IPY_MODEL_d3b692dcade947ca8e687883ecd0ef57",
            "value": "sentence_bert_config.json: 100%"
          }
        },
        "1074ba1934d34d6b886d65fb92dfa66e": {
          "model_module": "@jupyter-widgets/controls",
          "model_module_version": "1.5.0",
          "model_name": "DescriptionStyleModel",
          "state": {
            "_model_module": "@jupyter-widgets/controls",
            "_model_module_version": "1.5.0",
            "_model_name": "DescriptionStyleModel",
            "_view_count": null,
            "_view_module": "@jupyter-widgets/base",
            "_view_module_version": "1.2.0",
            "_view_name": "StyleView",
            "description_width": ""
          }
        },
        "10c38bc964604d0385daf4055ddb2326": {
          "model_module": "@jupyter-widgets/controls",
          "model_module_version": "1.5.0",
          "model_name": "DescriptionStyleModel",
          "state": {
            "_model_module": "@jupyter-widgets/controls",
            "_model_module_version": "1.5.0",
            "_model_name": "DescriptionStyleModel",
            "_view_count": null,
            "_view_module": "@jupyter-widgets/base",
            "_view_module_version": "1.2.0",
            "_view_name": "StyleView",
            "description_width": ""
          }
        },
        "111be6721faf4126b02909125f573e4a": {
          "model_module": "@jupyter-widgets/base",
          "model_module_version": "1.2.0",
          "model_name": "LayoutModel",
          "state": {
            "_model_module": "@jupyter-widgets/base",
            "_model_module_version": "1.2.0",
            "_model_name": "LayoutModel",
            "_view_count": null,
            "_view_module": "@jupyter-widgets/base",
            "_view_module_version": "1.2.0",
            "_view_name": "LayoutView",
            "align_content": null,
            "align_items": null,
            "align_self": null,
            "border": null,
            "bottom": null,
            "display": null,
            "flex": null,
            "flex_flow": null,
            "grid_area": null,
            "grid_auto_columns": null,
            "grid_auto_flow": null,
            "grid_auto_rows": null,
            "grid_column": null,
            "grid_gap": null,
            "grid_row": null,
            "grid_template_areas": null,
            "grid_template_columns": null,
            "grid_template_rows": null,
            "height": null,
            "justify_content": null,
            "justify_items": null,
            "left": null,
            "margin": null,
            "max_height": null,
            "max_width": null,
            "min_height": null,
            "min_width": null,
            "object_fit": null,
            "object_position": null,
            "order": null,
            "overflow": null,
            "overflow_x": null,
            "overflow_y": null,
            "padding": null,
            "right": null,
            "top": null,
            "visibility": null,
            "width": null
          }
        },
        "1317b971aa9a46bb9a58843da0affa2c": {
          "model_module": "@jupyter-widgets/base",
          "model_module_version": "1.2.0",
          "model_name": "LayoutModel",
          "state": {
            "_model_module": "@jupyter-widgets/base",
            "_model_module_version": "1.2.0",
            "_model_name": "LayoutModel",
            "_view_count": null,
            "_view_module": "@jupyter-widgets/base",
            "_view_module_version": "1.2.0",
            "_view_name": "LayoutView",
            "align_content": null,
            "align_items": null,
            "align_self": null,
            "border": null,
            "bottom": null,
            "display": null,
            "flex": null,
            "flex_flow": null,
            "grid_area": null,
            "grid_auto_columns": null,
            "grid_auto_flow": null,
            "grid_auto_rows": null,
            "grid_column": null,
            "grid_gap": null,
            "grid_row": null,
            "grid_template_areas": null,
            "grid_template_columns": null,
            "grid_template_rows": null,
            "height": null,
            "justify_content": null,
            "justify_items": null,
            "left": null,
            "margin": null,
            "max_height": null,
            "max_width": null,
            "min_height": null,
            "min_width": null,
            "object_fit": null,
            "object_position": null,
            "order": null,
            "overflow": null,
            "overflow_x": null,
            "overflow_y": null,
            "padding": null,
            "right": null,
            "top": null,
            "visibility": null,
            "width": null
          }
        },
        "157b21fda98f40c2ad182a16d1b06d4f": {
          "model_module": "@jupyter-widgets/controls",
          "model_module_version": "1.5.0",
          "model_name": "ProgressStyleModel",
          "state": {
            "_model_module": "@jupyter-widgets/controls",
            "_model_module_version": "1.5.0",
            "_model_name": "ProgressStyleModel",
            "_view_count": null,
            "_view_module": "@jupyter-widgets/base",
            "_view_module_version": "1.2.0",
            "_view_name": "StyleView",
            "bar_color": null,
            "description_width": ""
          }
        },
        "1963817492c34b5fb9656205f3f2b43a": {
          "model_module": "@jupyter-widgets/controls",
          "model_module_version": "1.5.0",
          "model_name": "FloatProgressModel",
          "state": {
            "_dom_classes": [],
            "_model_module": "@jupyter-widgets/controls",
            "_model_module_version": "1.5.0",
            "_model_name": "FloatProgressModel",
            "_view_count": null,
            "_view_module": "@jupyter-widgets/controls",
            "_view_module_version": "1.5.0",
            "_view_name": "ProgressView",
            "bar_style": "success",
            "description": "",
            "description_tooltip": null,
            "layout": "IPY_MODEL_2d579451513b4854a490a89d248a17b4",
            "max": 350,
            "min": 0,
            "orientation": "horizontal",
            "style": "IPY_MODEL_737cddf80c9f46c28d623ba147e5eb95",
            "value": 350
          }
        },
        "1a235a568778401b9eee45e59a6ea18c": {
          "model_module": "@jupyter-widgets/controls",
          "model_module_version": "1.5.0",
          "model_name": "HTMLModel",
          "state": {
            "_dom_classes": [],
            "_model_module": "@jupyter-widgets/controls",
            "_model_module_version": "1.5.0",
            "_model_name": "HTMLModel",
            "_view_count": null,
            "_view_module": "@jupyter-widgets/controls",
            "_view_module_version": "1.5.0",
            "_view_name": "HTMLView",
            "description": "",
            "description_tooltip": null,
            "layout": "IPY_MODEL_b94223ccfa4c466882da53c50eb545f5",
            "placeholder": "​",
            "style": "IPY_MODEL_872562e69bdc46d98187f7f30d863ef7",
            "value": " 90.9M/90.9M [00:00&lt;00:00, 219MB/s]"
          }
        },
        "1c3328c85c954d3ebb006bcf5256175a": {
          "model_module": "@jupyter-widgets/base",
          "model_module_version": "1.2.0",
          "model_name": "LayoutModel",
          "state": {
            "_model_module": "@jupyter-widgets/base",
            "_model_module_version": "1.2.0",
            "_model_name": "LayoutModel",
            "_view_count": null,
            "_view_module": "@jupyter-widgets/base",
            "_view_module_version": "1.2.0",
            "_view_name": "LayoutView",
            "align_content": null,
            "align_items": null,
            "align_self": null,
            "border": null,
            "bottom": null,
            "display": null,
            "flex": null,
            "flex_flow": null,
            "grid_area": null,
            "grid_auto_columns": null,
            "grid_auto_flow": null,
            "grid_auto_rows": null,
            "grid_column": null,
            "grid_gap": null,
            "grid_row": null,
            "grid_template_areas": null,
            "grid_template_columns": null,
            "grid_template_rows": null,
            "height": null,
            "justify_content": null,
            "justify_items": null,
            "left": null,
            "margin": null,
            "max_height": null,
            "max_width": null,
            "min_height": null,
            "min_width": null,
            "object_fit": null,
            "object_position": null,
            "order": null,
            "overflow": null,
            "overflow_x": null,
            "overflow_y": null,
            "padding": null,
            "right": null,
            "top": null,
            "visibility": null,
            "width": null
          }
        },
        "1c848e511ae340268099b9e344d377fc": {
          "model_module": "@jupyter-widgets/controls",
          "model_module_version": "1.5.0",
          "model_name": "DescriptionStyleModel",
          "state": {
            "_model_module": "@jupyter-widgets/controls",
            "_model_module_version": "1.5.0",
            "_model_name": "DescriptionStyleModel",
            "_view_count": null,
            "_view_module": "@jupyter-widgets/base",
            "_view_module_version": "1.2.0",
            "_view_name": "StyleView",
            "description_width": ""
          }
        },
        "1cfcd0c6d81048749ec5723505509734": {
          "model_module": "@jupyter-widgets/controls",
          "model_module_version": "1.5.0",
          "model_name": "DescriptionStyleModel",
          "state": {
            "_model_module": "@jupyter-widgets/controls",
            "_model_module_version": "1.5.0",
            "_model_name": "DescriptionStyleModel",
            "_view_count": null,
            "_view_module": "@jupyter-widgets/base",
            "_view_module_version": "1.2.0",
            "_view_name": "StyleView",
            "description_width": ""
          }
        },
        "1d155ec3eeb64a899ed81ac4946b10cb": {
          "model_module": "@jupyter-widgets/base",
          "model_module_version": "1.2.0",
          "model_name": "LayoutModel",
          "state": {
            "_model_module": "@jupyter-widgets/base",
            "_model_module_version": "1.2.0",
            "_model_name": "LayoutModel",
            "_view_count": null,
            "_view_module": "@jupyter-widgets/base",
            "_view_module_version": "1.2.0",
            "_view_name": "LayoutView",
            "align_content": null,
            "align_items": null,
            "align_self": null,
            "border": null,
            "bottom": null,
            "display": null,
            "flex": null,
            "flex_flow": null,
            "grid_area": null,
            "grid_auto_columns": null,
            "grid_auto_flow": null,
            "grid_auto_rows": null,
            "grid_column": null,
            "grid_gap": null,
            "grid_row": null,
            "grid_template_areas": null,
            "grid_template_columns": null,
            "grid_template_rows": null,
            "height": null,
            "justify_content": null,
            "justify_items": null,
            "left": null,
            "margin": null,
            "max_height": null,
            "max_width": null,
            "min_height": null,
            "min_width": null,
            "object_fit": null,
            "object_position": null,
            "order": null,
            "overflow": null,
            "overflow_x": null,
            "overflow_y": null,
            "padding": null,
            "right": null,
            "top": null,
            "visibility": null,
            "width": null
          }
        },
        "20e0e0174fd54af596d808b7d048b4de": {
          "model_module": "@jupyter-widgets/controls",
          "model_module_version": "1.5.0",
          "model_name": "FloatProgressModel",
          "state": {
            "_dom_classes": [],
            "_model_module": "@jupyter-widgets/controls",
            "_model_module_version": "1.5.0",
            "_model_name": "FloatProgressModel",
            "_view_count": null,
            "_view_module": "@jupyter-widgets/controls",
            "_view_module_version": "1.5.0",
            "_view_name": "ProgressView",
            "bar_style": "success",
            "description": "",
            "description_tooltip": null,
            "layout": "IPY_MODEL_410711dd667b438582313f82644ea914",
            "max": 10659,
            "min": 0,
            "orientation": "horizontal",
            "style": "IPY_MODEL_603140a4dd74473fb95ac76a6e8db3f5",
            "value": 10659
          }
        },
        "22ce783304bd464f82fff347833f587d": {
          "model_module": "@jupyter-widgets/base",
          "model_module_version": "1.2.0",
          "model_name": "LayoutModel",
          "state": {
            "_model_module": "@jupyter-widgets/base",
            "_model_module_version": "1.2.0",
            "_model_name": "LayoutModel",
            "_view_count": null,
            "_view_module": "@jupyter-widgets/base",
            "_view_module_version": "1.2.0",
            "_view_name": "LayoutView",
            "align_content": null,
            "align_items": null,
            "align_self": null,
            "border": null,
            "bottom": null,
            "display": null,
            "flex": null,
            "flex_flow": null,
            "grid_area": null,
            "grid_auto_columns": null,
            "grid_auto_flow": null,
            "grid_auto_rows": null,
            "grid_column": null,
            "grid_gap": null,
            "grid_row": null,
            "grid_template_areas": null,
            "grid_template_columns": null,
            "grid_template_rows": null,
            "height": null,
            "justify_content": null,
            "justify_items": null,
            "left": null,
            "margin": null,
            "max_height": null,
            "max_width": null,
            "min_height": null,
            "min_width": null,
            "object_fit": null,
            "object_position": null,
            "order": null,
            "overflow": null,
            "overflow_x": null,
            "overflow_y": null,
            "padding": null,
            "right": null,
            "top": null,
            "visibility": null,
            "width": null
          }
        },
        "266f00c0901b46ec9d786ead25c0f5ce": {
          "model_module": "@jupyter-widgets/controls",
          "model_module_version": "1.5.0",
          "model_name": "DescriptionStyleModel",
          "state": {
            "_model_module": "@jupyter-widgets/controls",
            "_model_module_version": "1.5.0",
            "_model_name": "DescriptionStyleModel",
            "_view_count": null,
            "_view_module": "@jupyter-widgets/base",
            "_view_module_version": "1.2.0",
            "_view_name": "StyleView",
            "description_width": ""
          }
        },
        "274fff29ce73480aac49a6713ae9147c": {
          "model_module": "@jupyter-widgets/controls",
          "model_module_version": "1.5.0",
          "model_name": "HTMLModel",
          "state": {
            "_dom_classes": [],
            "_model_module": "@jupyter-widgets/controls",
            "_model_module_version": "1.5.0",
            "_model_name": "HTMLModel",
            "_view_count": null,
            "_view_module": "@jupyter-widgets/controls",
            "_view_module_version": "1.5.0",
            "_view_name": "HTMLView",
            "description": "",
            "description_tooltip": null,
            "layout": "IPY_MODEL_4897c272b911447a85a3825550c6c116",
            "placeholder": "​",
            "style": "IPY_MODEL_e5f702c2b6fe4aada4a01dc7872a70f1",
            "value": "README.md: 100%"
          }
        },
        "27ecba5789814cc1b96447ebc1e00f13": {
          "model_module": "@jupyter-widgets/controls",
          "model_module_version": "1.5.0",
          "model_name": "FloatProgressModel",
          "state": {
            "_dom_classes": [],
            "_model_module": "@jupyter-widgets/controls",
            "_model_module_version": "1.5.0",
            "_model_name": "FloatProgressModel",
            "_view_count": null,
            "_view_module": "@jupyter-widgets/controls",
            "_view_module_version": "1.5.0",
            "_view_name": "ProgressView",
            "bar_style": "success",
            "description": "",
            "description_tooltip": null,
            "layout": "IPY_MODEL_c0fe307c90b642af90ea9a49bc5f7303",
            "max": 349,
            "min": 0,
            "orientation": "horizontal",
            "style": "IPY_MODEL_057aafc7042d4f3db0e27168c8591747",
            "value": 349
          }
        },
        "2827beb16c1e434186f07100f2d67a00": {
          "model_module": "@jupyter-widgets/controls",
          "model_module_version": "1.5.0",
          "model_name": "FloatProgressModel",
          "state": {
            "_dom_classes": [],
            "_model_module": "@jupyter-widgets/controls",
            "_model_module_version": "1.5.0",
            "_model_name": "FloatProgressModel",
            "_view_count": null,
            "_view_module": "@jupyter-widgets/controls",
            "_view_module_version": "1.5.0",
            "_view_name": "ProgressView",
            "bar_style": "success",
            "description": "",
            "description_tooltip": null,
            "layout": "IPY_MODEL_2ef977a7ae6b4186b2f8873ce922e538",
            "max": 53,
            "min": 0,
            "orientation": "horizontal",
            "style": "IPY_MODEL_f4ad3ac7d1d74de4be5e13146562b204",
            "value": 53
          }
        },
        "28533b3222444f8a838d0bab5661346e": {
          "model_module": "@jupyter-widgets/controls",
          "model_module_version": "1.5.0",
          "model_name": "HTMLModel",
          "state": {
            "_dom_classes": [],
            "_model_module": "@jupyter-widgets/controls",
            "_model_module_version": "1.5.0",
            "_model_name": "HTMLModel",
            "_view_count": null,
            "_view_module": "@jupyter-widgets/controls",
            "_view_module_version": "1.5.0",
            "_view_name": "HTMLView",
            "description": "",
            "description_tooltip": null,
            "layout": "IPY_MODEL_090c99d13eed46adac6ed2fe03213cf2",
            "placeholder": "​",
            "style": "IPY_MODEL_b9365f832ccf4541a8931c07ab06e4e5",
            "value": "Batches: 100%"
          }
        },
        "2c1efa5354ce46cfa551cc0f6588288b": {
          "model_module": "@jupyter-widgets/controls",
          "model_module_version": "1.5.0",
          "model_name": "DescriptionStyleModel",
          "state": {
            "_model_module": "@jupyter-widgets/controls",
            "_model_module_version": "1.5.0",
            "_model_name": "DescriptionStyleModel",
            "_view_count": null,
            "_view_module": "@jupyter-widgets/base",
            "_view_module_version": "1.2.0",
            "_view_name": "StyleView",
            "description_width": ""
          }
        },
        "2c8822e0d919458d9c8e8dc8e488685f": {
          "model_module": "@jupyter-widgets/controls",
          "model_module_version": "1.5.0",
          "model_name": "HTMLModel",
          "state": {
            "_dom_classes": [],
            "_model_module": "@jupyter-widgets/controls",
            "_model_module_version": "1.5.0",
            "_model_name": "HTMLModel",
            "_view_count": null,
            "_view_module": "@jupyter-widgets/controls",
            "_view_module_version": "1.5.0",
            "_view_name": "HTMLView",
            "description": "",
            "description_tooltip": null,
            "layout": "IPY_MODEL_7490aa7a3eec4186a978d3d1cde2c826",
            "placeholder": "​",
            "style": "IPY_MODEL_598cd2c39a464fd08dc1a959ffa00e8c",
            "value": "config.json: 100%"
          }
        },
        "2d579451513b4854a490a89d248a17b4": {
          "model_module": "@jupyter-widgets/base",
          "model_module_version": "1.2.0",
          "model_name": "LayoutModel",
          "state": {
            "_model_module": "@jupyter-widgets/base",
            "_model_module_version": "1.2.0",
            "_model_name": "LayoutModel",
            "_view_count": null,
            "_view_module": "@jupyter-widgets/base",
            "_view_module_version": "1.2.0",
            "_view_name": "LayoutView",
            "align_content": null,
            "align_items": null,
            "align_self": null,
            "border": null,
            "bottom": null,
            "display": null,
            "flex": null,
            "flex_flow": null,
            "grid_area": null,
            "grid_auto_columns": null,
            "grid_auto_flow": null,
            "grid_auto_rows": null,
            "grid_column": null,
            "grid_gap": null,
            "grid_row": null,
            "grid_template_areas": null,
            "grid_template_columns": null,
            "grid_template_rows": null,
            "height": null,
            "justify_content": null,
            "justify_items": null,
            "left": null,
            "margin": null,
            "max_height": null,
            "max_width": null,
            "min_height": null,
            "min_width": null,
            "object_fit": null,
            "object_position": null,
            "order": null,
            "overflow": null,
            "overflow_x": null,
            "overflow_y": null,
            "padding": null,
            "right": null,
            "top": null,
            "visibility": null,
            "width": null
          }
        },
        "2ef977a7ae6b4186b2f8873ce922e538": {
          "model_module": "@jupyter-widgets/base",
          "model_module_version": "1.2.0",
          "model_name": "LayoutModel",
          "state": {
            "_model_module": "@jupyter-widgets/base",
            "_model_module_version": "1.2.0",
            "_model_name": "LayoutModel",
            "_view_count": null,
            "_view_module": "@jupyter-widgets/base",
            "_view_module_version": "1.2.0",
            "_view_name": "LayoutView",
            "align_content": null,
            "align_items": null,
            "align_self": null,
            "border": null,
            "bottom": null,
            "display": null,
            "flex": null,
            "flex_flow": null,
            "grid_area": null,
            "grid_auto_columns": null,
            "grid_auto_flow": null,
            "grid_auto_rows": null,
            "grid_column": null,
            "grid_gap": null,
            "grid_row": null,
            "grid_template_areas": null,
            "grid_template_columns": null,
            "grid_template_rows": null,
            "height": null,
            "justify_content": null,
            "justify_items": null,
            "left": null,
            "margin": null,
            "max_height": null,
            "max_width": null,
            "min_height": null,
            "min_width": null,
            "object_fit": null,
            "object_position": null,
            "order": null,
            "overflow": null,
            "overflow_x": null,
            "overflow_y": null,
            "padding": null,
            "right": null,
            "top": null,
            "visibility": null,
            "width": null
          }
        },
        "2ff09db57515491eb2fc5d47ed1f2bee": {
          "model_module": "@jupyter-widgets/base",
          "model_module_version": "1.2.0",
          "model_name": "LayoutModel",
          "state": {
            "_model_module": "@jupyter-widgets/base",
            "_model_module_version": "1.2.0",
            "_model_name": "LayoutModel",
            "_view_count": null,
            "_view_module": "@jupyter-widgets/base",
            "_view_module_version": "1.2.0",
            "_view_name": "LayoutView",
            "align_content": null,
            "align_items": null,
            "align_self": null,
            "border": null,
            "bottom": null,
            "display": null,
            "flex": null,
            "flex_flow": null,
            "grid_area": null,
            "grid_auto_columns": null,
            "grid_auto_flow": null,
            "grid_auto_rows": null,
            "grid_column": null,
            "grid_gap": null,
            "grid_row": null,
            "grid_template_areas": null,
            "grid_template_columns": null,
            "grid_template_rows": null,
            "height": null,
            "justify_content": null,
            "justify_items": null,
            "left": null,
            "margin": null,
            "max_height": null,
            "max_width": null,
            "min_height": null,
            "min_width": null,
            "object_fit": null,
            "object_position": null,
            "order": null,
            "overflow": null,
            "overflow_x": null,
            "overflow_y": null,
            "padding": null,
            "right": null,
            "top": null,
            "visibility": null,
            "width": null
          }
        },
        "38168aeb528147be872d7168d93979c6": {
          "model_module": "@jupyter-widgets/base",
          "model_module_version": "1.2.0",
          "model_name": "LayoutModel",
          "state": {
            "_model_module": "@jupyter-widgets/base",
            "_model_module_version": "1.2.0",
            "_model_name": "LayoutModel",
            "_view_count": null,
            "_view_module": "@jupyter-widgets/base",
            "_view_module_version": "1.2.0",
            "_view_name": "LayoutView",
            "align_content": null,
            "align_items": null,
            "align_self": null,
            "border": null,
            "bottom": null,
            "display": null,
            "flex": null,
            "flex_flow": null,
            "grid_area": null,
            "grid_auto_columns": null,
            "grid_auto_flow": null,
            "grid_auto_rows": null,
            "grid_column": null,
            "grid_gap": null,
            "grid_row": null,
            "grid_template_areas": null,
            "grid_template_columns": null,
            "grid_template_rows": null,
            "height": null,
            "justify_content": null,
            "justify_items": null,
            "left": null,
            "margin": null,
            "max_height": null,
            "max_width": null,
            "min_height": null,
            "min_width": null,
            "object_fit": null,
            "object_position": null,
            "order": null,
            "overflow": null,
            "overflow_x": null,
            "overflow_y": null,
            "padding": null,
            "right": null,
            "top": null,
            "visibility": null,
            "width": null
          }
        },
        "390aa773168b42b6ba9ce7466e1c14a0": {
          "model_module": "@jupyter-widgets/base",
          "model_module_version": "1.2.0",
          "model_name": "LayoutModel",
          "state": {
            "_model_module": "@jupyter-widgets/base",
            "_model_module_version": "1.2.0",
            "_model_name": "LayoutModel",
            "_view_count": null,
            "_view_module": "@jupyter-widgets/base",
            "_view_module_version": "1.2.0",
            "_view_name": "LayoutView",
            "align_content": null,
            "align_items": null,
            "align_self": null,
            "border": null,
            "bottom": null,
            "display": null,
            "flex": null,
            "flex_flow": null,
            "grid_area": null,
            "grid_auto_columns": null,
            "grid_auto_flow": null,
            "grid_auto_rows": null,
            "grid_column": null,
            "grid_gap": null,
            "grid_row": null,
            "grid_template_areas": null,
            "grid_template_columns": null,
            "grid_template_rows": null,
            "height": null,
            "justify_content": null,
            "justify_items": null,
            "left": null,
            "margin": null,
            "max_height": null,
            "max_width": null,
            "min_height": null,
            "min_width": null,
            "object_fit": null,
            "object_position": null,
            "order": null,
            "overflow": null,
            "overflow_x": null,
            "overflow_y": null,
            "padding": null,
            "right": null,
            "top": null,
            "visibility": null,
            "width": null
          }
        },
        "3a335c9f92f446dea7bd1b544628c8b6": {
          "model_module": "@jupyter-widgets/controls",
          "model_module_version": "1.5.0",
          "model_name": "DescriptionStyleModel",
          "state": {
            "_model_module": "@jupyter-widgets/controls",
            "_model_module_version": "1.5.0",
            "_model_name": "DescriptionStyleModel",
            "_view_count": null,
            "_view_module": "@jupyter-widgets/base",
            "_view_module_version": "1.2.0",
            "_view_name": "StyleView",
            "description_width": ""
          }
        },
        "3b4310b3bbaf43a5a4ba2bc1dfc4a4da": {
          "model_module": "@jupyter-widgets/controls",
          "model_module_version": "1.5.0",
          "model_name": "FloatProgressModel",
          "state": {
            "_dom_classes": [],
            "_model_module": "@jupyter-widgets/controls",
            "_model_module_version": "1.5.0",
            "_model_name": "FloatProgressModel",
            "_view_count": null,
            "_view_module": "@jupyter-widgets/controls",
            "_view_module_version": "1.5.0",
            "_view_name": "ProgressView",
            "bar_style": "success",
            "description": "",
            "description_tooltip": null,
            "layout": "IPY_MODEL_5730bab1dece48cc8515d97a7e82cecf",
            "max": 277,
            "min": 0,
            "orientation": "horizontal",
            "style": "IPY_MODEL_f8507aff4a1b4f61b57edacc8cad814c",
            "value": 277
          }
        },
        "3b92126a66594947ba3140c890888ca6": {
          "model_module": "@jupyter-widgets/base",
          "model_module_version": "1.2.0",
          "model_name": "LayoutModel",
          "state": {
            "_model_module": "@jupyter-widgets/base",
            "_model_module_version": "1.2.0",
            "_model_name": "LayoutModel",
            "_view_count": null,
            "_view_module": "@jupyter-widgets/base",
            "_view_module_version": "1.2.0",
            "_view_name": "LayoutView",
            "align_content": null,
            "align_items": null,
            "align_self": null,
            "border": null,
            "bottom": null,
            "display": null,
            "flex": null,
            "flex_flow": null,
            "grid_area": null,
            "grid_auto_columns": null,
            "grid_auto_flow": null,
            "grid_auto_rows": null,
            "grid_column": null,
            "grid_gap": null,
            "grid_row": null,
            "grid_template_areas": null,
            "grid_template_columns": null,
            "grid_template_rows": null,
            "height": null,
            "justify_content": null,
            "justify_items": null,
            "left": null,
            "margin": null,
            "max_height": null,
            "max_width": null,
            "min_height": null,
            "min_width": null,
            "object_fit": null,
            "object_position": null,
            "order": null,
            "overflow": null,
            "overflow_x": null,
            "overflow_y": null,
            "padding": null,
            "right": null,
            "top": null,
            "visibility": null,
            "width": null
          }
        },
        "3c1b5bfd34e84ca59dd95865a683fc6b": {
          "model_module": "@jupyter-widgets/controls",
          "model_module_version": "1.5.0",
          "model_name": "FloatProgressModel",
          "state": {
            "_dom_classes": [],
            "_model_module": "@jupyter-widgets/controls",
            "_model_module_version": "1.5.0",
            "_model_name": "FloatProgressModel",
            "_view_count": null,
            "_view_module": "@jupyter-widgets/controls",
            "_view_module_version": "1.5.0",
            "_view_name": "ProgressView",
            "bar_style": "success",
            "description": "",
            "description_tooltip": null,
            "layout": "IPY_MODEL_390aa773168b42b6ba9ce7466e1c14a0",
            "max": 70,
            "min": 0,
            "orientation": "horizontal",
            "style": "IPY_MODEL_bbc17963126a4c5bbc2372281a188026",
            "value": 70
          }
        },
        "3c64c09168824497956ffd379089b3a7": {
          "model_module": "@jupyter-widgets/controls",
          "model_module_version": "1.5.0",
          "model_name": "ProgressStyleModel",
          "state": {
            "_model_module": "@jupyter-widgets/controls",
            "_model_module_version": "1.5.0",
            "_model_name": "ProgressStyleModel",
            "_view_count": null,
            "_view_module": "@jupyter-widgets/base",
            "_view_module_version": "1.2.0",
            "_view_name": "StyleView",
            "bar_color": null,
            "description_width": ""
          }
        },
        "410711dd667b438582313f82644ea914": {
          "model_module": "@jupyter-widgets/base",
          "model_module_version": "1.2.0",
          "model_name": "LayoutModel",
          "state": {
            "_model_module": "@jupyter-widgets/base",
            "_model_module_version": "1.2.0",
            "_model_name": "LayoutModel",
            "_view_count": null,
            "_view_module": "@jupyter-widgets/base",
            "_view_module_version": "1.2.0",
            "_view_name": "LayoutView",
            "align_content": null,
            "align_items": null,
            "align_self": null,
            "border": null,
            "bottom": null,
            "display": null,
            "flex": null,
            "flex_flow": null,
            "grid_area": null,
            "grid_auto_columns": null,
            "grid_auto_flow": null,
            "grid_auto_rows": null,
            "grid_column": null,
            "grid_gap": null,
            "grid_row": null,
            "grid_template_areas": null,
            "grid_template_columns": null,
            "grid_template_rows": null,
            "height": null,
            "justify_content": null,
            "justify_items": null,
            "left": null,
            "margin": null,
            "max_height": null,
            "max_width": null,
            "min_height": null,
            "min_width": null,
            "object_fit": null,
            "object_position": null,
            "order": null,
            "overflow": null,
            "overflow_x": null,
            "overflow_y": null,
            "padding": null,
            "right": null,
            "top": null,
            "visibility": null,
            "width": null
          }
        },
        "45aa439a560f470aad1029c71f28a909": {
          "model_module": "@jupyter-widgets/controls",
          "model_module_version": "1.5.0",
          "model_name": "DescriptionStyleModel",
          "state": {
            "_model_module": "@jupyter-widgets/controls",
            "_model_module_version": "1.5.0",
            "_model_name": "DescriptionStyleModel",
            "_view_count": null,
            "_view_module": "@jupyter-widgets/base",
            "_view_module_version": "1.2.0",
            "_view_name": "StyleView",
            "description_width": ""
          }
        },
        "45e661a6c2ae48fd810f3434ec5db726": {
          "model_module": "@jupyter-widgets/controls",
          "model_module_version": "1.5.0",
          "model_name": "ProgressStyleModel",
          "state": {
            "_model_module": "@jupyter-widgets/controls",
            "_model_module_version": "1.5.0",
            "_model_name": "ProgressStyleModel",
            "_view_count": null,
            "_view_module": "@jupyter-widgets/base",
            "_view_module_version": "1.2.0",
            "_view_name": "StyleView",
            "bar_color": null,
            "description_width": ""
          }
        },
        "4897c272b911447a85a3825550c6c116": {
          "model_module": "@jupyter-widgets/base",
          "model_module_version": "1.2.0",
          "model_name": "LayoutModel",
          "state": {
            "_model_module": "@jupyter-widgets/base",
            "_model_module_version": "1.2.0",
            "_model_name": "LayoutModel",
            "_view_count": null,
            "_view_module": "@jupyter-widgets/base",
            "_view_module_version": "1.2.0",
            "_view_name": "LayoutView",
            "align_content": null,
            "align_items": null,
            "align_self": null,
            "border": null,
            "bottom": null,
            "display": null,
            "flex": null,
            "flex_flow": null,
            "grid_area": null,
            "grid_auto_columns": null,
            "grid_auto_flow": null,
            "grid_auto_rows": null,
            "grid_column": null,
            "grid_gap": null,
            "grid_row": null,
            "grid_template_areas": null,
            "grid_template_columns": null,
            "grid_template_rows": null,
            "height": null,
            "justify_content": null,
            "justify_items": null,
            "left": null,
            "margin": null,
            "max_height": null,
            "max_width": null,
            "min_height": null,
            "min_width": null,
            "object_fit": null,
            "object_position": null,
            "order": null,
            "overflow": null,
            "overflow_x": null,
            "overflow_y": null,
            "padding": null,
            "right": null,
            "top": null,
            "visibility": null,
            "width": null
          }
        },
        "49648caa5d11408a910bc223869d8a51": {
          "model_module": "@jupyter-widgets/base",
          "model_module_version": "1.2.0",
          "model_name": "LayoutModel",
          "state": {
            "_model_module": "@jupyter-widgets/base",
            "_model_module_version": "1.2.0",
            "_model_name": "LayoutModel",
            "_view_count": null,
            "_view_module": "@jupyter-widgets/base",
            "_view_module_version": "1.2.0",
            "_view_name": "LayoutView",
            "align_content": null,
            "align_items": null,
            "align_self": null,
            "border": null,
            "bottom": null,
            "display": null,
            "flex": null,
            "flex_flow": null,
            "grid_area": null,
            "grid_auto_columns": null,
            "grid_auto_flow": null,
            "grid_auto_rows": null,
            "grid_column": null,
            "grid_gap": null,
            "grid_row": null,
            "grid_template_areas": null,
            "grid_template_columns": null,
            "grid_template_rows": null,
            "height": null,
            "justify_content": null,
            "justify_items": null,
            "left": null,
            "margin": null,
            "max_height": null,
            "max_width": null,
            "min_height": null,
            "min_width": null,
            "object_fit": null,
            "object_position": null,
            "order": null,
            "overflow": null,
            "overflow_x": null,
            "overflow_y": null,
            "padding": null,
            "right": null,
            "top": null,
            "visibility": null,
            "width": null
          }
        },
        "4b49d6bbe2ab48b296aa0a52a044cf08": {
          "model_module": "@jupyter-widgets/base",
          "model_module_version": "1.2.0",
          "model_name": "LayoutModel",
          "state": {
            "_model_module": "@jupyter-widgets/base",
            "_model_module_version": "1.2.0",
            "_model_name": "LayoutModel",
            "_view_count": null,
            "_view_module": "@jupyter-widgets/base",
            "_view_module_version": "1.2.0",
            "_view_name": "LayoutView",
            "align_content": null,
            "align_items": null,
            "align_self": null,
            "border": null,
            "bottom": null,
            "display": null,
            "flex": null,
            "flex_flow": null,
            "grid_area": null,
            "grid_auto_columns": null,
            "grid_auto_flow": null,
            "grid_auto_rows": null,
            "grid_column": null,
            "grid_gap": null,
            "grid_row": null,
            "grid_template_areas": null,
            "grid_template_columns": null,
            "grid_template_rows": null,
            "height": null,
            "justify_content": null,
            "justify_items": null,
            "left": null,
            "margin": null,
            "max_height": null,
            "max_width": null,
            "min_height": null,
            "min_width": null,
            "object_fit": null,
            "object_position": null,
            "order": null,
            "overflow": null,
            "overflow_x": null,
            "overflow_y": null,
            "padding": null,
            "right": null,
            "top": null,
            "visibility": null,
            "width": null
          }
        },
        "4be4b741852d4b45a23436f806f352d6": {
          "model_module": "@jupyter-widgets/controls",
          "model_module_version": "1.5.0",
          "model_name": "HBoxModel",
          "state": {
            "_dom_classes": [],
            "_model_module": "@jupyter-widgets/controls",
            "_model_module_version": "1.5.0",
            "_model_name": "HBoxModel",
            "_view_count": null,
            "_view_module": "@jupyter-widgets/controls",
            "_view_module_version": "1.5.0",
            "_view_name": "HBoxView",
            "box_style": "",
            "children": [
              "IPY_MODEL_2c8822e0d919458d9c8e8dc8e488685f",
              "IPY_MODEL_acd717ab7c8d4246aba97938f4a8d8a0",
              "IPY_MODEL_04e044f3a23b45a7a9622f01c684215c"
            ],
            "layout": "IPY_MODEL_dbdede63a38643a6bb1208626dc877eb"
          }
        },
        "4cdb48f9fdeb44ca90a512bf4d39cf0d": {
          "model_module": "@jupyter-widgets/controls",
          "model_module_version": "1.5.0",
          "model_name": "FloatProgressModel",
          "state": {
            "_dom_classes": [],
            "_model_module": "@jupyter-widgets/controls",
            "_model_module_version": "1.5.0",
            "_model_name": "FloatProgressModel",
            "_view_count": null,
            "_view_module": "@jupyter-widgets/controls",
            "_view_module_version": "1.5.0",
            "_view_name": "ProgressView",
            "bar_style": "success",
            "description": "",
            "description_tooltip": null,
            "layout": "IPY_MODEL_dfe212b2e9144bde8712fd82513be586",
            "max": 90868376,
            "min": 0,
            "orientation": "horizontal",
            "style": "IPY_MODEL_ad51b890f2e94c3ea2a738bfdb0b8516",
            "value": 90868376
          }
        },
        "4e91253f68734b40937b6aabc4995a51": {
          "model_module": "@jupyter-widgets/controls",
          "model_module_version": "1.5.0",
          "model_name": "DescriptionStyleModel",
          "state": {
            "_model_module": "@jupyter-widgets/controls",
            "_model_module_version": "1.5.0",
            "_model_name": "DescriptionStyleModel",
            "_view_count": null,
            "_view_module": "@jupyter-widgets/base",
            "_view_module_version": "1.2.0",
            "_view_name": "StyleView",
            "description_width": ""
          }
        },
        "50a0fd9aa46f4802bd012382ca3341e6": {
          "model_module": "@jupyter-widgets/controls",
          "model_module_version": "1.5.0",
          "model_name": "HTMLModel",
          "state": {
            "_dom_classes": [],
            "_model_module": "@jupyter-widgets/controls",
            "_model_module_version": "1.5.0",
            "_model_name": "HTMLModel",
            "_view_count": null,
            "_view_module": "@jupyter-widgets/controls",
            "_view_module_version": "1.5.0",
            "_view_name": "HTMLView",
            "description": "",
            "description_tooltip": null,
            "layout": "IPY_MODEL_aca5b328464f4373af11d554340bf550",
            "placeholder": "​",
            "style": "IPY_MODEL_10c38bc964604d0385daf4055ddb2326",
            "value": "tokenizer.json: 100%"
          }
        },
        "52065d0cd3c74108acbe9076d53e5519": {
          "model_module": "@jupyter-widgets/base",
          "model_module_version": "1.2.0",
          "model_name": "LayoutModel",
          "state": {
            "_model_module": "@jupyter-widgets/base",
            "_model_module_version": "1.2.0",
            "_model_name": "LayoutModel",
            "_view_count": null,
            "_view_module": "@jupyter-widgets/base",
            "_view_module_version": "1.2.0",
            "_view_name": "LayoutView",
            "align_content": null,
            "align_items": null,
            "align_self": null,
            "border": null,
            "bottom": null,
            "display": null,
            "flex": null,
            "flex_flow": null,
            "grid_area": null,
            "grid_auto_columns": null,
            "grid_auto_flow": null,
            "grid_auto_rows": null,
            "grid_column": null,
            "grid_gap": null,
            "grid_row": null,
            "grid_template_areas": null,
            "grid_template_columns": null,
            "grid_template_rows": null,
            "height": null,
            "justify_content": null,
            "justify_items": null,
            "left": null,
            "margin": null,
            "max_height": null,
            "max_width": null,
            "min_height": null,
            "min_width": null,
            "object_fit": null,
            "object_position": null,
            "order": null,
            "overflow": null,
            "overflow_x": null,
            "overflow_y": null,
            "padding": null,
            "right": null,
            "top": null,
            "visibility": null,
            "width": null
          }
        },
        "55c049811bc94cbda4c3b10b65075271": {
          "model_module": "@jupyter-widgets/base",
          "model_module_version": "1.2.0",
          "model_name": "LayoutModel",
          "state": {
            "_model_module": "@jupyter-widgets/base",
            "_model_module_version": "1.2.0",
            "_model_name": "LayoutModel",
            "_view_count": null,
            "_view_module": "@jupyter-widgets/base",
            "_view_module_version": "1.2.0",
            "_view_name": "LayoutView",
            "align_content": null,
            "align_items": null,
            "align_self": null,
            "border": null,
            "bottom": null,
            "display": null,
            "flex": null,
            "flex_flow": null,
            "grid_area": null,
            "grid_auto_columns": null,
            "grid_auto_flow": null,
            "grid_auto_rows": null,
            "grid_column": null,
            "grid_gap": null,
            "grid_row": null,
            "grid_template_areas": null,
            "grid_template_columns": null,
            "grid_template_rows": null,
            "height": null,
            "justify_content": null,
            "justify_items": null,
            "left": null,
            "margin": null,
            "max_height": null,
            "max_width": null,
            "min_height": null,
            "min_width": null,
            "object_fit": null,
            "object_position": null,
            "order": null,
            "overflow": null,
            "overflow_x": null,
            "overflow_y": null,
            "padding": null,
            "right": null,
            "top": null,
            "visibility": null,
            "width": null
          }
        },
        "568a1ab024384eaeb1f789044fc7a26a": {
          "model_module": "@jupyter-widgets/controls",
          "model_module_version": "1.5.0",
          "model_name": "HTMLModel",
          "state": {
            "_dom_classes": [],
            "_model_module": "@jupyter-widgets/controls",
            "_model_module_version": "1.5.0",
            "_model_name": "HTMLModel",
            "_view_count": null,
            "_view_module": "@jupyter-widgets/controls",
            "_view_module_version": "1.5.0",
            "_view_name": "HTMLView",
            "description": "",
            "description_tooltip": null,
            "layout": "IPY_MODEL_df8e5093d45448459ad676f19ae9b7d0",
            "placeholder": "​",
            "style": "IPY_MODEL_1c848e511ae340268099b9e344d377fc",
            "value": " 466k/466k [00:00&lt;00:00, 19.3MB/s]"
          }
        },
        "5719afaebacc4f21ac7acca6d87fb21b": {
          "model_module": "@jupyter-widgets/controls",
          "model_module_version": "1.5.0",
          "model_name": "FloatProgressModel",
          "state": {
            "_dom_classes": [],
            "_model_module": "@jupyter-widgets/controls",
            "_model_module_version": "1.5.0",
            "_model_name": "FloatProgressModel",
            "_view_count": null,
            "_view_module": "@jupyter-widgets/controls",
            "_view_module_version": "1.5.0",
            "_view_name": "ProgressView",
            "bar_style": "success",
            "description": "",
            "description_tooltip": null,
            "layout": "IPY_MODEL_7803a029c1bd4931ac8f9a354cc048ba",
            "max": 466247,
            "min": 0,
            "orientation": "horizontal",
            "style": "IPY_MODEL_3c64c09168824497956ffd379089b3a7",
            "value": 466247
          }
        },
        "5730bab1dece48cc8515d97a7e82cecf": {
          "model_module": "@jupyter-widgets/base",
          "model_module_version": "1.2.0",
          "model_name": "LayoutModel",
          "state": {
            "_model_module": "@jupyter-widgets/base",
            "_model_module_version": "1.2.0",
            "_model_name": "LayoutModel",
            "_view_count": null,
            "_view_module": "@jupyter-widgets/base",
            "_view_module_version": "1.2.0",
            "_view_name": "LayoutView",
            "align_content": null,
            "align_items": null,
            "align_self": null,
            "border": null,
            "bottom": null,
            "display": null,
            "flex": null,
            "flex_flow": null,
            "grid_area": null,
            "grid_auto_columns": null,
            "grid_auto_flow": null,
            "grid_auto_rows": null,
            "grid_column": null,
            "grid_gap": null,
            "grid_row": null,
            "grid_template_areas": null,
            "grid_template_columns": null,
            "grid_template_rows": null,
            "height": null,
            "justify_content": null,
            "justify_items": null,
            "left": null,
            "margin": null,
            "max_height": null,
            "max_width": null,
            "min_height": null,
            "min_width": null,
            "object_fit": null,
            "object_position": null,
            "order": null,
            "overflow": null,
            "overflow_x": null,
            "overflow_y": null,
            "padding": null,
            "right": null,
            "top": null,
            "visibility": null,
            "width": null
          }
        },
        "5807be98dfea4af39614b2705a6eb333": {
          "model_module": "@jupyter-widgets/base",
          "model_module_version": "1.2.0",
          "model_name": "LayoutModel",
          "state": {
            "_model_module": "@jupyter-widgets/base",
            "_model_module_version": "1.2.0",
            "_model_name": "LayoutModel",
            "_view_count": null,
            "_view_module": "@jupyter-widgets/base",
            "_view_module_version": "1.2.0",
            "_view_name": "LayoutView",
            "align_content": null,
            "align_items": null,
            "align_self": null,
            "border": null,
            "bottom": null,
            "display": null,
            "flex": null,
            "flex_flow": null,
            "grid_area": null,
            "grid_auto_columns": null,
            "grid_auto_flow": null,
            "grid_auto_rows": null,
            "grid_column": null,
            "grid_gap": null,
            "grid_row": null,
            "grid_template_areas": null,
            "grid_template_columns": null,
            "grid_template_rows": null,
            "height": null,
            "justify_content": null,
            "justify_items": null,
            "left": null,
            "margin": null,
            "max_height": null,
            "max_width": null,
            "min_height": null,
            "min_width": null,
            "object_fit": null,
            "object_position": null,
            "order": null,
            "overflow": null,
            "overflow_x": null,
            "overflow_y": null,
            "padding": null,
            "right": null,
            "top": null,
            "visibility": null,
            "width": null
          }
        },
        "595943af7a6946978d2a857fb838ea64": {
          "model_module": "@jupyter-widgets/controls",
          "model_module_version": "1.5.0",
          "model_name": "HTMLModel",
          "state": {
            "_dom_classes": [],
            "_model_module": "@jupyter-widgets/controls",
            "_model_module_version": "1.5.0",
            "_model_name": "HTMLModel",
            "_view_count": null,
            "_view_module": "@jupyter-widgets/controls",
            "_view_module_version": "1.5.0",
            "_view_name": "HTMLView",
            "description": "",
            "description_tooltip": null,
            "layout": "IPY_MODEL_637ff39105c343a8bc13ba60f55535d8",
            "placeholder": "​",
            "style": "IPY_MODEL_f68fed8f46fc40f0b08a2eb182add887",
            "value": " 232k/232k [00:00&lt;00:00, 5.66MB/s]"
          }
        },
        "598cd2c39a464fd08dc1a959ffa00e8c": {
          "model_module": "@jupyter-widgets/controls",
          "model_module_version": "1.5.0",
          "model_name": "DescriptionStyleModel",
          "state": {
            "_model_module": "@jupyter-widgets/controls",
            "_model_module_version": "1.5.0",
            "_model_name": "DescriptionStyleModel",
            "_view_count": null,
            "_view_module": "@jupyter-widgets/base",
            "_view_module_version": "1.2.0",
            "_view_name": "StyleView",
            "description_width": ""
          }
        },
        "5aa7052ee5a942708e59cf81141b7009": {
          "model_module": "@jupyter-widgets/controls",
          "model_module_version": "1.5.0",
          "model_name": "HBoxModel",
          "state": {
            "_dom_classes": [],
            "_model_module": "@jupyter-widgets/controls",
            "_model_module_version": "1.5.0",
            "_model_name": "HBoxModel",
            "_view_count": null,
            "_view_module": "@jupyter-widgets/controls",
            "_view_module_version": "1.5.0",
            "_view_name": "HBoxView",
            "box_style": "",
            "children": [
              "IPY_MODEL_28533b3222444f8a838d0bab5661346e",
              "IPY_MODEL_3b4310b3bbaf43a5a4ba2bc1dfc4a4da",
              "IPY_MODEL_8465fa0506204bbdb8b66f6efa9dba4c"
            ],
            "layout": "IPY_MODEL_9f37f5b157184817a6031874caae0374"
          }
        },
        "5bd57f40100e4f0885bd20a6030ce440": {
          "model_module": "@jupyter-widgets/base",
          "model_module_version": "1.2.0",
          "model_name": "LayoutModel",
          "state": {
            "_model_module": "@jupyter-widgets/base",
            "_model_module_version": "1.2.0",
            "_model_name": "LayoutModel",
            "_view_count": null,
            "_view_module": "@jupyter-widgets/base",
            "_view_module_version": "1.2.0",
            "_view_name": "LayoutView",
            "align_content": null,
            "align_items": null,
            "align_self": null,
            "border": null,
            "bottom": null,
            "display": null,
            "flex": null,
            "flex_flow": null,
            "grid_area": null,
            "grid_auto_columns": null,
            "grid_auto_flow": null,
            "grid_auto_rows": null,
            "grid_column": null,
            "grid_gap": null,
            "grid_row": null,
            "grid_template_areas": null,
            "grid_template_columns": null,
            "grid_template_rows": null,
            "height": null,
            "justify_content": null,
            "justify_items": null,
            "left": null,
            "margin": null,
            "max_height": null,
            "max_width": null,
            "min_height": null,
            "min_width": null,
            "object_fit": null,
            "object_position": null,
            "order": null,
            "overflow": null,
            "overflow_x": null,
            "overflow_y": null,
            "padding": null,
            "right": null,
            "top": null,
            "visibility": null,
            "width": null
          }
        },
        "5d96e717b68c45fd9b2195e603723547": {
          "model_module": "@jupyter-widgets/controls",
          "model_module_version": "1.5.0",
          "model_name": "HTMLModel",
          "state": {
            "_dom_classes": [],
            "_model_module": "@jupyter-widgets/controls",
            "_model_module_version": "1.5.0",
            "_model_name": "HTMLModel",
            "_view_count": null,
            "_view_module": "@jupyter-widgets/controls",
            "_view_module_version": "1.5.0",
            "_view_name": "HTMLView",
            "description": "",
            "description_tooltip": null,
            "layout": "IPY_MODEL_c5bf6798a9c44932b62fe67526b09363",
            "placeholder": "​",
            "style": "IPY_MODEL_f631d3dc18b546669ebccf751798490a",
            "value": " 350/350 [00:00&lt;00:00, 24.5kB/s]"
          }
        },
        "5f6ef9a105594579bf09572c1f3832f6": {
          "model_module": "@jupyter-widgets/controls",
          "model_module_version": "1.5.0",
          "model_name": "FloatProgressModel",
          "state": {
            "_dom_classes": [],
            "_model_module": "@jupyter-widgets/controls",
            "_model_module_version": "1.5.0",
            "_model_name": "FloatProgressModel",
            "_view_count": null,
            "_view_module": "@jupyter-widgets/controls",
            "_view_module_version": "1.5.0",
            "_view_name": "ProgressView",
            "bar_style": "success",
            "description": "",
            "description_tooltip": null,
            "layout": "IPY_MODEL_55c049811bc94cbda4c3b10b65075271",
            "max": 116,
            "min": 0,
            "orientation": "horizontal",
            "style": "IPY_MODEL_45e661a6c2ae48fd810f3434ec5db726",
            "value": 116
          }
        },
        "603140a4dd74473fb95ac76a6e8db3f5": {
          "model_module": "@jupyter-widgets/controls",
          "model_module_version": "1.5.0",
          "model_name": "ProgressStyleModel",
          "state": {
            "_model_module": "@jupyter-widgets/controls",
            "_model_module_version": "1.5.0",
            "_model_name": "ProgressStyleModel",
            "_view_count": null,
            "_view_module": "@jupyter-widgets/base",
            "_view_module_version": "1.2.0",
            "_view_name": "StyleView",
            "bar_color": null,
            "description_width": ""
          }
        },
        "608fe0e2e77f4fea835a070cbb96b8af": {
          "model_module": "@jupyter-widgets/controls",
          "model_module_version": "1.5.0",
          "model_name": "HTMLModel",
          "state": {
            "_dom_classes": [],
            "_model_module": "@jupyter-widgets/controls",
            "_model_module_version": "1.5.0",
            "_model_name": "HTMLModel",
            "_view_count": null,
            "_view_module": "@jupyter-widgets/controls",
            "_view_module_version": "1.5.0",
            "_view_name": "HTMLView",
            "description": "",
            "description_tooltip": null,
            "layout": "IPY_MODEL_e365a1618a504395b7c0dfad865130dd",
            "placeholder": "​",
            "style": "IPY_MODEL_04a05e80c11a4f00862bcfcd079c925b",
            "value": "1_Pooling/config.json: 100%"
          }
        },
        "61d2040662d3457eb8183bda3dd614da": {
          "model_module": "@jupyter-widgets/controls",
          "model_module_version": "1.5.0",
          "model_name": "DescriptionStyleModel",
          "state": {
            "_model_module": "@jupyter-widgets/controls",
            "_model_module_version": "1.5.0",
            "_model_name": "DescriptionStyleModel",
            "_view_count": null,
            "_view_module": "@jupyter-widgets/base",
            "_view_module_version": "1.2.0",
            "_view_name": "StyleView",
            "description_width": ""
          }
        },
        "62624871cd9247108ef996f4525a7a40": {
          "model_module": "@jupyter-widgets/base",
          "model_module_version": "1.2.0",
          "model_name": "LayoutModel",
          "state": {
            "_model_module": "@jupyter-widgets/base",
            "_model_module_version": "1.2.0",
            "_model_name": "LayoutModel",
            "_view_count": null,
            "_view_module": "@jupyter-widgets/base",
            "_view_module_version": "1.2.0",
            "_view_name": "LayoutView",
            "align_content": null,
            "align_items": null,
            "align_self": null,
            "border": null,
            "bottom": null,
            "display": null,
            "flex": null,
            "flex_flow": null,
            "grid_area": null,
            "grid_auto_columns": null,
            "grid_auto_flow": null,
            "grid_auto_rows": null,
            "grid_column": null,
            "grid_gap": null,
            "grid_row": null,
            "grid_template_areas": null,
            "grid_template_columns": null,
            "grid_template_rows": null,
            "height": null,
            "justify_content": null,
            "justify_items": null,
            "left": null,
            "margin": null,
            "max_height": null,
            "max_width": null,
            "min_height": null,
            "min_width": null,
            "object_fit": null,
            "object_position": null,
            "order": null,
            "overflow": null,
            "overflow_x": null,
            "overflow_y": null,
            "padding": null,
            "right": null,
            "top": null,
            "visibility": null,
            "width": null
          }
        },
        "637ff39105c343a8bc13ba60f55535d8": {
          "model_module": "@jupyter-widgets/base",
          "model_module_version": "1.2.0",
          "model_name": "LayoutModel",
          "state": {
            "_model_module": "@jupyter-widgets/base",
            "_model_module_version": "1.2.0",
            "_model_name": "LayoutModel",
            "_view_count": null,
            "_view_module": "@jupyter-widgets/base",
            "_view_module_version": "1.2.0",
            "_view_name": "LayoutView",
            "align_content": null,
            "align_items": null,
            "align_self": null,
            "border": null,
            "bottom": null,
            "display": null,
            "flex": null,
            "flex_flow": null,
            "grid_area": null,
            "grid_auto_columns": null,
            "grid_auto_flow": null,
            "grid_auto_rows": null,
            "grid_column": null,
            "grid_gap": null,
            "grid_row": null,
            "grid_template_areas": null,
            "grid_template_columns": null,
            "grid_template_rows": null,
            "height": null,
            "justify_content": null,
            "justify_items": null,
            "left": null,
            "margin": null,
            "max_height": null,
            "max_width": null,
            "min_height": null,
            "min_width": null,
            "object_fit": null,
            "object_position": null,
            "order": null,
            "overflow": null,
            "overflow_x": null,
            "overflow_y": null,
            "padding": null,
            "right": null,
            "top": null,
            "visibility": null,
            "width": null
          }
        },
        "66378a3c60a94d74af43cb1346af7915": {
          "model_module": "@jupyter-widgets/base",
          "model_module_version": "1.2.0",
          "model_name": "LayoutModel",
          "state": {
            "_model_module": "@jupyter-widgets/base",
            "_model_module_version": "1.2.0",
            "_model_name": "LayoutModel",
            "_view_count": null,
            "_view_module": "@jupyter-widgets/base",
            "_view_module_version": "1.2.0",
            "_view_name": "LayoutView",
            "align_content": null,
            "align_items": null,
            "align_self": null,
            "border": null,
            "bottom": null,
            "display": null,
            "flex": null,
            "flex_flow": null,
            "grid_area": null,
            "grid_auto_columns": null,
            "grid_auto_flow": null,
            "grid_auto_rows": null,
            "grid_column": null,
            "grid_gap": null,
            "grid_row": null,
            "grid_template_areas": null,
            "grid_template_columns": null,
            "grid_template_rows": null,
            "height": null,
            "justify_content": null,
            "justify_items": null,
            "left": null,
            "margin": null,
            "max_height": null,
            "max_width": null,
            "min_height": null,
            "min_width": null,
            "object_fit": null,
            "object_position": null,
            "order": null,
            "overflow": null,
            "overflow_x": null,
            "overflow_y": null,
            "padding": null,
            "right": null,
            "top": null,
            "visibility": null,
            "width": null
          }
        },
        "6667a0827db94501a58bd3929f03ed32": {
          "model_module": "@jupyter-widgets/controls",
          "model_module_version": "1.5.0",
          "model_name": "HTMLModel",
          "state": {
            "_dom_classes": [],
            "_model_module": "@jupyter-widgets/controls",
            "_model_module_version": "1.5.0",
            "_model_name": "HTMLModel",
            "_view_count": null,
            "_view_module": "@jupyter-widgets/controls",
            "_view_module_version": "1.5.0",
            "_view_name": "HTMLView",
            "description": "",
            "description_tooltip": null,
            "layout": "IPY_MODEL_ed699caddacf4e6da0ec59d9e996a6b4",
            "placeholder": "​",
            "style": "IPY_MODEL_ba89c83bf9334c56a9e4cc44f477e83c",
            "value": "tokenizer_config.json: 100%"
          }
        },
        "66c483c7c6994c919bcbd2bdc357822d": {
          "model_module": "@jupyter-widgets/base",
          "model_module_version": "1.2.0",
          "model_name": "LayoutModel",
          "state": {
            "_model_module": "@jupyter-widgets/base",
            "_model_module_version": "1.2.0",
            "_model_name": "LayoutModel",
            "_view_count": null,
            "_view_module": "@jupyter-widgets/base",
            "_view_module_version": "1.2.0",
            "_view_name": "LayoutView",
            "align_content": null,
            "align_items": null,
            "align_self": null,
            "border": null,
            "bottom": null,
            "display": null,
            "flex": null,
            "flex_flow": null,
            "grid_area": null,
            "grid_auto_columns": null,
            "grid_auto_flow": null,
            "grid_auto_rows": null,
            "grid_column": null,
            "grid_gap": null,
            "grid_row": null,
            "grid_template_areas": null,
            "grid_template_columns": null,
            "grid_template_rows": null,
            "height": null,
            "justify_content": null,
            "justify_items": null,
            "left": null,
            "margin": null,
            "max_height": null,
            "max_width": null,
            "min_height": null,
            "min_width": null,
            "object_fit": null,
            "object_position": null,
            "order": null,
            "overflow": null,
            "overflow_x": null,
            "overflow_y": null,
            "padding": null,
            "right": null,
            "top": null,
            "visibility": null,
            "width": null
          }
        },
        "68fae62e46fb4b5ba825a10368b12361": {
          "model_module": "@jupyter-widgets/controls",
          "model_module_version": "1.5.0",
          "model_name": "HBoxModel",
          "state": {
            "_dom_classes": [],
            "_model_module": "@jupyter-widgets/controls",
            "_model_module_version": "1.5.0",
            "_model_name": "HBoxModel",
            "_view_count": null,
            "_view_module": "@jupyter-widgets/controls",
            "_view_module_version": "1.5.0",
            "_view_name": "HBoxView",
            "box_style": "",
            "children": [
              "IPY_MODEL_608fe0e2e77f4fea835a070cbb96b8af",
              "IPY_MODEL_0841d53feff942a2802806f2253077ec",
              "IPY_MODEL_04cfd1b3412b4d709d61bc4d965fb647"
            ],
            "layout": "IPY_MODEL_38168aeb528147be872d7168d93979c6"
          }
        },
        "6a432e8a0a1e4840bdc1ee07b53f4128": {
          "model_module": "@jupyter-widgets/controls",
          "model_module_version": "1.5.0",
          "model_name": "DescriptionStyleModel",
          "state": {
            "_model_module": "@jupyter-widgets/controls",
            "_model_module_version": "1.5.0",
            "_model_name": "DescriptionStyleModel",
            "_view_count": null,
            "_view_module": "@jupyter-widgets/base",
            "_view_module_version": "1.2.0",
            "_view_name": "StyleView",
            "description_width": ""
          }
        },
        "6a47b0ec86ff44e1847bef7cd0edd15d": {
          "model_module": "@jupyter-widgets/base",
          "model_module_version": "1.2.0",
          "model_name": "LayoutModel",
          "state": {
            "_model_module": "@jupyter-widgets/base",
            "_model_module_version": "1.2.0",
            "_model_name": "LayoutModel",
            "_view_count": null,
            "_view_module": "@jupyter-widgets/base",
            "_view_module_version": "1.2.0",
            "_view_name": "LayoutView",
            "align_content": null,
            "align_items": null,
            "align_self": null,
            "border": null,
            "bottom": null,
            "display": null,
            "flex": null,
            "flex_flow": null,
            "grid_area": null,
            "grid_auto_columns": null,
            "grid_auto_flow": null,
            "grid_auto_rows": null,
            "grid_column": null,
            "grid_gap": null,
            "grid_row": null,
            "grid_template_areas": null,
            "grid_template_columns": null,
            "grid_template_rows": null,
            "height": null,
            "justify_content": null,
            "justify_items": null,
            "left": null,
            "margin": null,
            "max_height": null,
            "max_width": null,
            "min_height": null,
            "min_width": null,
            "object_fit": null,
            "object_position": null,
            "order": null,
            "overflow": null,
            "overflow_x": null,
            "overflow_y": null,
            "padding": null,
            "right": null,
            "top": null,
            "visibility": null,
            "width": null
          }
        },
        "6eeb9da8e05c4481bb37fde9edb7d608": {
          "model_module": "@jupyter-widgets/base",
          "model_module_version": "1.2.0",
          "model_name": "LayoutModel",
          "state": {
            "_model_module": "@jupyter-widgets/base",
            "_model_module_version": "1.2.0",
            "_model_name": "LayoutModel",
            "_view_count": null,
            "_view_module": "@jupyter-widgets/base",
            "_view_module_version": "1.2.0",
            "_view_name": "LayoutView",
            "align_content": null,
            "align_items": null,
            "align_self": null,
            "border": null,
            "bottom": null,
            "display": null,
            "flex": null,
            "flex_flow": null,
            "grid_area": null,
            "grid_auto_columns": null,
            "grid_auto_flow": null,
            "grid_auto_rows": null,
            "grid_column": null,
            "grid_gap": null,
            "grid_row": null,
            "grid_template_areas": null,
            "grid_template_columns": null,
            "grid_template_rows": null,
            "height": null,
            "justify_content": null,
            "justify_items": null,
            "left": null,
            "margin": null,
            "max_height": null,
            "max_width": null,
            "min_height": null,
            "min_width": null,
            "object_fit": null,
            "object_position": null,
            "order": null,
            "overflow": null,
            "overflow_x": null,
            "overflow_y": null,
            "padding": null,
            "right": null,
            "top": null,
            "visibility": null,
            "width": null
          }
        },
        "737cddf80c9f46c28d623ba147e5eb95": {
          "model_module": "@jupyter-widgets/controls",
          "model_module_version": "1.5.0",
          "model_name": "ProgressStyleModel",
          "state": {
            "_model_module": "@jupyter-widgets/controls",
            "_model_module_version": "1.5.0",
            "_model_name": "ProgressStyleModel",
            "_view_count": null,
            "_view_module": "@jupyter-widgets/base",
            "_view_module_version": "1.2.0",
            "_view_name": "StyleView",
            "bar_color": null,
            "description_width": ""
          }
        },
        "7490aa7a3eec4186a978d3d1cde2c826": {
          "model_module": "@jupyter-widgets/base",
          "model_module_version": "1.2.0",
          "model_name": "LayoutModel",
          "state": {
            "_model_module": "@jupyter-widgets/base",
            "_model_module_version": "1.2.0",
            "_model_name": "LayoutModel",
            "_view_count": null,
            "_view_module": "@jupyter-widgets/base",
            "_view_module_version": "1.2.0",
            "_view_name": "LayoutView",
            "align_content": null,
            "align_items": null,
            "align_self": null,
            "border": null,
            "bottom": null,
            "display": null,
            "flex": null,
            "flex_flow": null,
            "grid_area": null,
            "grid_auto_columns": null,
            "grid_auto_flow": null,
            "grid_auto_rows": null,
            "grid_column": null,
            "grid_gap": null,
            "grid_row": null,
            "grid_template_areas": null,
            "grid_template_columns": null,
            "grid_template_rows": null,
            "height": null,
            "justify_content": null,
            "justify_items": null,
            "left": null,
            "margin": null,
            "max_height": null,
            "max_width": null,
            "min_height": null,
            "min_width": null,
            "object_fit": null,
            "object_position": null,
            "order": null,
            "overflow": null,
            "overflow_x": null,
            "overflow_y": null,
            "padding": null,
            "right": null,
            "top": null,
            "visibility": null,
            "width": null
          }
        },
        "7803a029c1bd4931ac8f9a354cc048ba": {
          "model_module": "@jupyter-widgets/base",
          "model_module_version": "1.2.0",
          "model_name": "LayoutModel",
          "state": {
            "_model_module": "@jupyter-widgets/base",
            "_model_module_version": "1.2.0",
            "_model_name": "LayoutModel",
            "_view_count": null,
            "_view_module": "@jupyter-widgets/base",
            "_view_module_version": "1.2.0",
            "_view_name": "LayoutView",
            "align_content": null,
            "align_items": null,
            "align_self": null,
            "border": null,
            "bottom": null,
            "display": null,
            "flex": null,
            "flex_flow": null,
            "grid_area": null,
            "grid_auto_columns": null,
            "grid_auto_flow": null,
            "grid_auto_rows": null,
            "grid_column": null,
            "grid_gap": null,
            "grid_row": null,
            "grid_template_areas": null,
            "grid_template_columns": null,
            "grid_template_rows": null,
            "height": null,
            "justify_content": null,
            "justify_items": null,
            "left": null,
            "margin": null,
            "max_height": null,
            "max_width": null,
            "min_height": null,
            "min_width": null,
            "object_fit": null,
            "object_position": null,
            "order": null,
            "overflow": null,
            "overflow_x": null,
            "overflow_y": null,
            "padding": null,
            "right": null,
            "top": null,
            "visibility": null,
            "width": null
          }
        },
        "7b56d852c716445b9238ee764a7174f1": {
          "model_module": "@jupyter-widgets/controls",
          "model_module_version": "1.5.0",
          "model_name": "HTMLModel",
          "state": {
            "_dom_classes": [],
            "_model_module": "@jupyter-widgets/controls",
            "_model_module_version": "1.5.0",
            "_model_name": "HTMLModel",
            "_view_count": null,
            "_view_module": "@jupyter-widgets/controls",
            "_view_module_version": "1.5.0",
            "_view_name": "HTMLView",
            "description": "",
            "description_tooltip": null,
            "layout": "IPY_MODEL_111be6721faf4126b02909125f573e4a",
            "placeholder": "​",
            "style": "IPY_MODEL_1074ba1934d34d6b886d65fb92dfa66e",
            "value": " 70/70 [00:18&lt;00:00, 14.43it/s]"
          }
        },
        "7b8a5bbe66144f7da52b94ea7fb98294": {
          "model_module": "@jupyter-widgets/controls",
          "model_module_version": "1.5.0",
          "model_name": "HTMLModel",
          "state": {
            "_dom_classes": [],
            "_model_module": "@jupyter-widgets/controls",
            "_model_module_version": "1.5.0",
            "_model_name": "HTMLModel",
            "_view_count": null,
            "_view_module": "@jupyter-widgets/controls",
            "_view_module_version": "1.5.0",
            "_view_name": "HTMLView",
            "description": "",
            "description_tooltip": null,
            "layout": "IPY_MODEL_cc654970ad0343479d8bc0d27df5f01d",
            "placeholder": "​",
            "style": "IPY_MODEL_4e91253f68734b40937b6aabc4995a51",
            "value": " 10.7k/10.7k [00:00&lt;00:00, 1.17MB/s]"
          }
        },
        "7c7c9462f9c1443ba1ea7393c94b198a": {
          "model_module": "@jupyter-widgets/controls",
          "model_module_version": "1.5.0",
          "model_name": "HTMLModel",
          "state": {
            "_dom_classes": [],
            "_model_module": "@jupyter-widgets/controls",
            "_model_module_version": "1.5.0",
            "_model_name": "HTMLModel",
            "_view_count": null,
            "_view_module": "@jupyter-widgets/controls",
            "_view_module_version": "1.5.0",
            "_view_name": "HTMLView",
            "description": "",
            "description_tooltip": null,
            "layout": "IPY_MODEL_62624871cd9247108ef996f4525a7a40",
            "placeholder": "​",
            "style": "IPY_MODEL_825635768cc944188108bd8f9c9bd9d4",
            "value": "model.safetensors: 100%"
          }
        },
        "7e6472f8ddad43c8a559d1503f8de968": {
          "model_module": "@jupyter-widgets/controls",
          "model_module_version": "1.5.0",
          "model_name": "ProgressStyleModel",
          "state": {
            "_model_module": "@jupyter-widgets/controls",
            "_model_module_version": "1.5.0",
            "_model_name": "ProgressStyleModel",
            "_view_count": null,
            "_view_module": "@jupyter-widgets/base",
            "_view_module_version": "1.2.0",
            "_view_name": "StyleView",
            "bar_color": null,
            "description_width": ""
          }
        },
        "7f82fda529f94d3db7ee86b99991347f": {
          "model_module": "@jupyter-widgets/base",
          "model_module_version": "1.2.0",
          "model_name": "LayoutModel",
          "state": {
            "_model_module": "@jupyter-widgets/base",
            "_model_module_version": "1.2.0",
            "_model_name": "LayoutModel",
            "_view_count": null,
            "_view_module": "@jupyter-widgets/base",
            "_view_module_version": "1.2.0",
            "_view_name": "LayoutView",
            "align_content": null,
            "align_items": null,
            "align_self": null,
            "border": null,
            "bottom": null,
            "display": null,
            "flex": null,
            "flex_flow": null,
            "grid_area": null,
            "grid_auto_columns": null,
            "grid_auto_flow": null,
            "grid_auto_rows": null,
            "grid_column": null,
            "grid_gap": null,
            "grid_row": null,
            "grid_template_areas": null,
            "grid_template_columns": null,
            "grid_template_rows": null,
            "height": null,
            "justify_content": null,
            "justify_items": null,
            "left": null,
            "margin": null,
            "max_height": null,
            "max_width": null,
            "min_height": null,
            "min_width": null,
            "object_fit": null,
            "object_position": null,
            "order": null,
            "overflow": null,
            "overflow_x": null,
            "overflow_y": null,
            "padding": null,
            "right": null,
            "top": null,
            "visibility": null,
            "width": null
          }
        },
        "815e771877f04b23aba6839451d1a8c7": {
          "model_module": "@jupyter-widgets/controls",
          "model_module_version": "1.5.0",
          "model_name": "DescriptionStyleModel",
          "state": {
            "_model_module": "@jupyter-widgets/controls",
            "_model_module_version": "1.5.0",
            "_model_name": "DescriptionStyleModel",
            "_view_count": null,
            "_view_module": "@jupyter-widgets/base",
            "_view_module_version": "1.2.0",
            "_view_name": "StyleView",
            "description_width": ""
          }
        },
        "825635768cc944188108bd8f9c9bd9d4": {
          "model_module": "@jupyter-widgets/controls",
          "model_module_version": "1.5.0",
          "model_name": "DescriptionStyleModel",
          "state": {
            "_model_module": "@jupyter-widgets/controls",
            "_model_module_version": "1.5.0",
            "_model_name": "DescriptionStyleModel",
            "_view_count": null,
            "_view_module": "@jupyter-widgets/base",
            "_view_module_version": "1.2.0",
            "_view_name": "StyleView",
            "description_width": ""
          }
        },
        "8465fa0506204bbdb8b66f6efa9dba4c": {
          "model_module": "@jupyter-widgets/controls",
          "model_module_version": "1.5.0",
          "model_name": "HTMLModel",
          "state": {
            "_dom_classes": [],
            "_model_module": "@jupyter-widgets/controls",
            "_model_module_version": "1.5.0",
            "_model_name": "HTMLModel",
            "_view_count": null,
            "_view_module": "@jupyter-widgets/controls",
            "_view_module_version": "1.5.0",
            "_view_name": "HTMLView",
            "description": "",
            "description_tooltip": null,
            "layout": "IPY_MODEL_6a47b0ec86ff44e1847bef7cd0edd15d",
            "placeholder": "​",
            "style": "IPY_MODEL_d01f7b2853a64fbeb88a854fbad3e339",
            "value": " 277/277 [02:05&lt;00:00, 25.38it/s]"
          }
        },
        "872562e69bdc46d98187f7f30d863ef7": {
          "model_module": "@jupyter-widgets/controls",
          "model_module_version": "1.5.0",
          "model_name": "DescriptionStyleModel",
          "state": {
            "_model_module": "@jupyter-widgets/controls",
            "_model_module_version": "1.5.0",
            "_model_name": "DescriptionStyleModel",
            "_view_count": null,
            "_view_module": "@jupyter-widgets/base",
            "_view_module_version": "1.2.0",
            "_view_name": "StyleView",
            "description_width": ""
          }
        },
        "8cd605e97adc4ddba8fdd0650392f13d": {
          "model_module": "@jupyter-widgets/controls",
          "model_module_version": "1.5.0",
          "model_name": "DescriptionStyleModel",
          "state": {
            "_model_module": "@jupyter-widgets/controls",
            "_model_module_version": "1.5.0",
            "_model_name": "DescriptionStyleModel",
            "_view_count": null,
            "_view_module": "@jupyter-widgets/base",
            "_view_module_version": "1.2.0",
            "_view_name": "StyleView",
            "description_width": ""
          }
        },
        "8e8f19e6330546259ac808960c148b0e": {
          "model_module": "@jupyter-widgets/controls",
          "model_module_version": "1.5.0",
          "model_name": "HTMLModel",
          "state": {
            "_dom_classes": [],
            "_model_module": "@jupyter-widgets/controls",
            "_model_module_version": "1.5.0",
            "_model_name": "HTMLModel",
            "_view_count": null,
            "_view_module": "@jupyter-widgets/controls",
            "_view_module_version": "1.5.0",
            "_view_name": "HTMLView",
            "description": "",
            "description_tooltip": null,
            "layout": "IPY_MODEL_66c483c7c6994c919bcbd2bdc357822d",
            "placeholder": "​",
            "style": "IPY_MODEL_6a432e8a0a1e4840bdc1ee07b53f4128",
            "value": "config_sentence_transformers.json: 100%"
          }
        },
        "9037ba243c6343fb9f688f5ac2282107": {
          "model_module": "@jupyter-widgets/base",
          "model_module_version": "1.2.0",
          "model_name": "LayoutModel",
          "state": {
            "_model_module": "@jupyter-widgets/base",
            "_model_module_version": "1.2.0",
            "_model_name": "LayoutModel",
            "_view_count": null,
            "_view_module": "@jupyter-widgets/base",
            "_view_module_version": "1.2.0",
            "_view_name": "LayoutView",
            "align_content": null,
            "align_items": null,
            "align_self": null,
            "border": null,
            "bottom": null,
            "display": null,
            "flex": null,
            "flex_flow": null,
            "grid_area": null,
            "grid_auto_columns": null,
            "grid_auto_flow": null,
            "grid_auto_rows": null,
            "grid_column": null,
            "grid_gap": null,
            "grid_row": null,
            "grid_template_areas": null,
            "grid_template_columns": null,
            "grid_template_rows": null,
            "height": null,
            "justify_content": null,
            "justify_items": null,
            "left": null,
            "margin": null,
            "max_height": null,
            "max_width": null,
            "min_height": null,
            "min_width": null,
            "object_fit": null,
            "object_position": null,
            "order": null,
            "overflow": null,
            "overflow_x": null,
            "overflow_y": null,
            "padding": null,
            "right": null,
            "top": null,
            "visibility": null,
            "width": null
          }
        },
        "9249a15d4bee436ea3f370e5aebdae76": {
          "model_module": "@jupyter-widgets/controls",
          "model_module_version": "1.5.0",
          "model_name": "ProgressStyleModel",
          "state": {
            "_model_module": "@jupyter-widgets/controls",
            "_model_module_version": "1.5.0",
            "_model_name": "ProgressStyleModel",
            "_view_count": null,
            "_view_module": "@jupyter-widgets/base",
            "_view_module_version": "1.2.0",
            "_view_name": "StyleView",
            "bar_color": null,
            "description_width": ""
          }
        },
        "9971163e5dc848ada04c192e85ca1605": {
          "model_module": "@jupyter-widgets/base",
          "model_module_version": "1.2.0",
          "model_name": "LayoutModel",
          "state": {
            "_model_module": "@jupyter-widgets/base",
            "_model_module_version": "1.2.0",
            "_model_name": "LayoutModel",
            "_view_count": null,
            "_view_module": "@jupyter-widgets/base",
            "_view_module_version": "1.2.0",
            "_view_name": "LayoutView",
            "align_content": null,
            "align_items": null,
            "align_self": null,
            "border": null,
            "bottom": null,
            "display": null,
            "flex": null,
            "flex_flow": null,
            "grid_area": null,
            "grid_auto_columns": null,
            "grid_auto_flow": null,
            "grid_auto_rows": null,
            "grid_column": null,
            "grid_gap": null,
            "grid_row": null,
            "grid_template_areas": null,
            "grid_template_columns": null,
            "grid_template_rows": null,
            "height": null,
            "justify_content": null,
            "justify_items": null,
            "left": null,
            "margin": null,
            "max_height": null,
            "max_width": null,
            "min_height": null,
            "min_width": null,
            "object_fit": null,
            "object_position": null,
            "order": null,
            "overflow": null,
            "overflow_x": null,
            "overflow_y": null,
            "padding": null,
            "right": null,
            "top": null,
            "visibility": null,
            "width": null
          }
        },
        "9b028dbc24d3413aaaf1d21255419c05": {
          "model_module": "@jupyter-widgets/controls",
          "model_module_version": "1.5.0",
          "model_name": "FloatProgressModel",
          "state": {
            "_dom_classes": [],
            "_model_module": "@jupyter-widgets/controls",
            "_model_module_version": "1.5.0",
            "_model_name": "FloatProgressModel",
            "_view_count": null,
            "_view_module": "@jupyter-widgets/controls",
            "_view_module_version": "1.5.0",
            "_view_name": "ProgressView",
            "bar_style": "success",
            "description": "",
            "description_tooltip": null,
            "layout": "IPY_MODEL_007ff9d74a5048b281f0495b1b7af629",
            "max": 231508,
            "min": 0,
            "orientation": "horizontal",
            "style": "IPY_MODEL_157b21fda98f40c2ad182a16d1b06d4f",
            "value": 231508
          }
        },
        "9c6efcc1cb9f4bf785052d84464d562b": {
          "model_module": "@jupyter-widgets/base",
          "model_module_version": "1.2.0",
          "model_name": "LayoutModel",
          "state": {
            "_model_module": "@jupyter-widgets/base",
            "_model_module_version": "1.2.0",
            "_model_name": "LayoutModel",
            "_view_count": null,
            "_view_module": "@jupyter-widgets/base",
            "_view_module_version": "1.2.0",
            "_view_name": "LayoutView",
            "align_content": null,
            "align_items": null,
            "align_self": null,
            "border": null,
            "bottom": null,
            "display": null,
            "flex": null,
            "flex_flow": null,
            "grid_area": null,
            "grid_auto_columns": null,
            "grid_auto_flow": null,
            "grid_auto_rows": null,
            "grid_column": null,
            "grid_gap": null,
            "grid_row": null,
            "grid_template_areas": null,
            "grid_template_columns": null,
            "grid_template_rows": null,
            "height": null,
            "justify_content": null,
            "justify_items": null,
            "left": null,
            "margin": null,
            "max_height": null,
            "max_width": null,
            "min_height": null,
            "min_width": null,
            "object_fit": null,
            "object_position": null,
            "order": null,
            "overflow": null,
            "overflow_x": null,
            "overflow_y": null,
            "padding": null,
            "right": null,
            "top": null,
            "visibility": null,
            "width": null
          }
        },
        "9ddac1f31256400e80651f5b2be14235": {
          "model_module": "@jupyter-widgets/controls",
          "model_module_version": "1.5.0",
          "model_name": "HBoxModel",
          "state": {
            "_dom_classes": [],
            "_model_module": "@jupyter-widgets/controls",
            "_model_module_version": "1.5.0",
            "_model_name": "HBoxModel",
            "_view_count": null,
            "_view_module": "@jupyter-widgets/controls",
            "_view_module_version": "1.5.0",
            "_view_name": "HBoxView",
            "box_style": "",
            "children": [
              "IPY_MODEL_7c7c9462f9c1443ba1ea7393c94b198a",
              "IPY_MODEL_4cdb48f9fdeb44ca90a512bf4d39cf0d",
              "IPY_MODEL_1a235a568778401b9eee45e59a6ea18c"
            ],
            "layout": "IPY_MODEL_4b49d6bbe2ab48b296aa0a52a044cf08"
          }
        },
        "9e2c61b4d46747e5ba0f1e4833cff5c5": {
          "model_module": "@jupyter-widgets/controls",
          "model_module_version": "1.5.0",
          "model_name": "HTMLModel",
          "state": {
            "_dom_classes": [],
            "_model_module": "@jupyter-widgets/controls",
            "_model_module_version": "1.5.0",
            "_model_name": "HTMLModel",
            "_view_count": null,
            "_view_module": "@jupyter-widgets/controls",
            "_view_module_version": "1.5.0",
            "_view_name": "HTMLView",
            "description": "",
            "description_tooltip": null,
            "layout": "IPY_MODEL_22ce783304bd464f82fff347833f587d",
            "placeholder": "​",
            "style": "IPY_MODEL_45aa439a560f470aad1029c71f28a909",
            "value": "Batches: 100%"
          }
        },
        "9f37f5b157184817a6031874caae0374": {
          "model_module": "@jupyter-widgets/base",
          "model_module_version": "1.2.0",
          "model_name": "LayoutModel",
          "state": {
            "_model_module": "@jupyter-widgets/base",
            "_model_module_version": "1.2.0",
            "_model_name": "LayoutModel",
            "_view_count": null,
            "_view_module": "@jupyter-widgets/base",
            "_view_module_version": "1.2.0",
            "_view_name": "LayoutView",
            "align_content": null,
            "align_items": null,
            "align_self": null,
            "border": null,
            "bottom": null,
            "display": null,
            "flex": null,
            "flex_flow": null,
            "grid_area": null,
            "grid_auto_columns": null,
            "grid_auto_flow": null,
            "grid_auto_rows": null,
            "grid_column": null,
            "grid_gap": null,
            "grid_row": null,
            "grid_template_areas": null,
            "grid_template_columns": null,
            "grid_template_rows": null,
            "height": null,
            "justify_content": null,
            "justify_items": null,
            "left": null,
            "margin": null,
            "max_height": null,
            "max_width": null,
            "min_height": null,
            "min_width": null,
            "object_fit": null,
            "object_position": null,
            "order": null,
            "overflow": null,
            "overflow_x": null,
            "overflow_y": null,
            "padding": null,
            "right": null,
            "top": null,
            "visibility": null,
            "width": null
          }
        },
        "a6eef535957a4e988fb9b9a7e0a8c574": {
          "model_module": "@jupyter-widgets/base",
          "model_module_version": "1.2.0",
          "model_name": "LayoutModel",
          "state": {
            "_model_module": "@jupyter-widgets/base",
            "_model_module_version": "1.2.0",
            "_model_name": "LayoutModel",
            "_view_count": null,
            "_view_module": "@jupyter-widgets/base",
            "_view_module_version": "1.2.0",
            "_view_name": "LayoutView",
            "align_content": null,
            "align_items": null,
            "align_self": null,
            "border": null,
            "bottom": null,
            "display": null,
            "flex": null,
            "flex_flow": null,
            "grid_area": null,
            "grid_auto_columns": null,
            "grid_auto_flow": null,
            "grid_auto_rows": null,
            "grid_column": null,
            "grid_gap": null,
            "grid_row": null,
            "grid_template_areas": null,
            "grid_template_columns": null,
            "grid_template_rows": null,
            "height": null,
            "justify_content": null,
            "justify_items": null,
            "left": null,
            "margin": null,
            "max_height": null,
            "max_width": null,
            "min_height": null,
            "min_width": null,
            "object_fit": null,
            "object_position": null,
            "order": null,
            "overflow": null,
            "overflow_x": null,
            "overflow_y": null,
            "padding": null,
            "right": null,
            "top": null,
            "visibility": null,
            "width": null
          }
        },
        "a9c4d5d78d6544e2bf65d19e15151788": {
          "model_module": "@jupyter-widgets/controls",
          "model_module_version": "1.5.0",
          "model_name": "HBoxModel",
          "state": {
            "_dom_classes": [],
            "_model_module": "@jupyter-widgets/controls",
            "_model_module_version": "1.5.0",
            "_model_name": "HBoxModel",
            "_view_count": null,
            "_view_module": "@jupyter-widgets/controls",
            "_view_module_version": "1.5.0",
            "_view_name": "HBoxView",
            "box_style": "",
            "children": [
              "IPY_MODEL_9e2c61b4d46747e5ba0f1e4833cff5c5",
              "IPY_MODEL_3c1b5bfd34e84ca59dd95865a683fc6b",
              "IPY_MODEL_7b56d852c716445b9238ee764a7174f1"
            ],
            "layout": "IPY_MODEL_9037ba243c6343fb9f688f5ac2282107"
          }
        },
        "aca5b328464f4373af11d554340bf550": {
          "model_module": "@jupyter-widgets/base",
          "model_module_version": "1.2.0",
          "model_name": "LayoutModel",
          "state": {
            "_model_module": "@jupyter-widgets/base",
            "_model_module_version": "1.2.0",
            "_model_name": "LayoutModel",
            "_view_count": null,
            "_view_module": "@jupyter-widgets/base",
            "_view_module_version": "1.2.0",
            "_view_name": "LayoutView",
            "align_content": null,
            "align_items": null,
            "align_self": null,
            "border": null,
            "bottom": null,
            "display": null,
            "flex": null,
            "flex_flow": null,
            "grid_area": null,
            "grid_auto_columns": null,
            "grid_auto_flow": null,
            "grid_auto_rows": null,
            "grid_column": null,
            "grid_gap": null,
            "grid_row": null,
            "grid_template_areas": null,
            "grid_template_columns": null,
            "grid_template_rows": null,
            "height": null,
            "justify_content": null,
            "justify_items": null,
            "left": null,
            "margin": null,
            "max_height": null,
            "max_width": null,
            "min_height": null,
            "min_width": null,
            "object_fit": null,
            "object_position": null,
            "order": null,
            "overflow": null,
            "overflow_x": null,
            "overflow_y": null,
            "padding": null,
            "right": null,
            "top": null,
            "visibility": null,
            "width": null
          }
        },
        "acd717ab7c8d4246aba97938f4a8d8a0": {
          "model_module": "@jupyter-widgets/controls",
          "model_module_version": "1.5.0",
          "model_name": "FloatProgressModel",
          "state": {
            "_dom_classes": [],
            "_model_module": "@jupyter-widgets/controls",
            "_model_module_version": "1.5.0",
            "_model_name": "FloatProgressModel",
            "_view_count": null,
            "_view_module": "@jupyter-widgets/controls",
            "_view_module_version": "1.5.0",
            "_view_name": "ProgressView",
            "bar_style": "success",
            "description": "",
            "description_tooltip": null,
            "layout": "IPY_MODEL_b0f00126305d4660857a1187da16e5b4",
            "max": 612,
            "min": 0,
            "orientation": "horizontal",
            "style": "IPY_MODEL_9249a15d4bee436ea3f370e5aebdae76",
            "value": 612
          }
        },
        "ad51b890f2e94c3ea2a738bfdb0b8516": {
          "model_module": "@jupyter-widgets/controls",
          "model_module_version": "1.5.0",
          "model_name": "ProgressStyleModel",
          "state": {
            "_model_module": "@jupyter-widgets/controls",
            "_model_module_version": "1.5.0",
            "_model_name": "ProgressStyleModel",
            "_view_count": null,
            "_view_module": "@jupyter-widgets/base",
            "_view_module_version": "1.2.0",
            "_view_name": "StyleView",
            "bar_color": null,
            "description_width": ""
          }
        },
        "b04d9af871f446cbbfef75c9f534fe6b": {
          "model_module": "@jupyter-widgets/controls",
          "model_module_version": "1.5.0",
          "model_name": "HBoxModel",
          "state": {
            "_dom_classes": [],
            "_model_module": "@jupyter-widgets/controls",
            "_model_module_version": "1.5.0",
            "_model_name": "HBoxModel",
            "_view_count": null,
            "_view_module": "@jupyter-widgets/controls",
            "_view_module_version": "1.5.0",
            "_view_name": "HBoxView",
            "box_style": "",
            "children": [
              "IPY_MODEL_8e8f19e6330546259ac808960c148b0e",
              "IPY_MODEL_5f6ef9a105594579bf09572c1f3832f6",
              "IPY_MODEL_bd15636aa64c47fd8033168e6e0857db"
            ],
            "layout": "IPY_MODEL_1d155ec3eeb64a899ed81ac4946b10cb"
          }
        },
        "b0f00126305d4660857a1187da16e5b4": {
          "model_module": "@jupyter-widgets/base",
          "model_module_version": "1.2.0",
          "model_name": "LayoutModel",
          "state": {
            "_model_module": "@jupyter-widgets/base",
            "_model_module_version": "1.2.0",
            "_model_name": "LayoutModel",
            "_view_count": null,
            "_view_module": "@jupyter-widgets/base",
            "_view_module_version": "1.2.0",
            "_view_name": "LayoutView",
            "align_content": null,
            "align_items": null,
            "align_self": null,
            "border": null,
            "bottom": null,
            "display": null,
            "flex": null,
            "flex_flow": null,
            "grid_area": null,
            "grid_auto_columns": null,
            "grid_auto_flow": null,
            "grid_auto_rows": null,
            "grid_column": null,
            "grid_gap": null,
            "grid_row": null,
            "grid_template_areas": null,
            "grid_template_columns": null,
            "grid_template_rows": null,
            "height": null,
            "justify_content": null,
            "justify_items": null,
            "left": null,
            "margin": null,
            "max_height": null,
            "max_width": null,
            "min_height": null,
            "min_width": null,
            "object_fit": null,
            "object_position": null,
            "order": null,
            "overflow": null,
            "overflow_x": null,
            "overflow_y": null,
            "padding": null,
            "right": null,
            "top": null,
            "visibility": null,
            "width": null
          }
        },
        "b4c7a97da6b84958aa829dae1b290ed4": {
          "model_module": "@jupyter-widgets/controls",
          "model_module_version": "1.5.0",
          "model_name": "HBoxModel",
          "state": {
            "_dom_classes": [],
            "_model_module": "@jupyter-widgets/controls",
            "_model_module_version": "1.5.0",
            "_model_name": "HBoxModel",
            "_view_count": null,
            "_view_module": "@jupyter-widgets/controls",
            "_view_module_version": "1.5.0",
            "_view_name": "HBoxView",
            "box_style": "",
            "children": [
              "IPY_MODEL_50a0fd9aa46f4802bd012382ca3341e6",
              "IPY_MODEL_5719afaebacc4f21ac7acca6d87fb21b",
              "IPY_MODEL_568a1ab024384eaeb1f789044fc7a26a"
            ],
            "layout": "IPY_MODEL_9c6efcc1cb9f4bf785052d84464d562b"
          }
        },
        "b4c96690f5954950889164423ebb51a5": {
          "model_module": "@jupyter-widgets/controls",
          "model_module_version": "1.5.0",
          "model_name": "HBoxModel",
          "state": {
            "_dom_classes": [],
            "_model_module": "@jupyter-widgets/controls",
            "_model_module_version": "1.5.0",
            "_model_name": "HBoxModel",
            "_view_count": null,
            "_view_module": "@jupyter-widgets/controls",
            "_view_module_version": "1.5.0",
            "_view_name": "HBoxView",
            "box_style": "",
            "children": [
              "IPY_MODEL_274fff29ce73480aac49a6713ae9147c",
              "IPY_MODEL_20e0e0174fd54af596d808b7d048b4de",
              "IPY_MODEL_7b8a5bbe66144f7da52b94ea7fb98294"
            ],
            "layout": "IPY_MODEL_df5d4768cc984e5985b5be5acde6370a"
          }
        },
        "b58eb480b3374e0e89745893930e49da": {
          "model_module": "@jupyter-widgets/controls",
          "model_module_version": "1.5.0",
          "model_name": "HTMLModel",
          "state": {
            "_dom_classes": [],
            "_model_module": "@jupyter-widgets/controls",
            "_model_module_version": "1.5.0",
            "_model_name": "HTMLModel",
            "_view_count": null,
            "_view_module": "@jupyter-widgets/controls",
            "_view_module_version": "1.5.0",
            "_view_name": "HTMLView",
            "description": "",
            "description_tooltip": null,
            "layout": "IPY_MODEL_6eeb9da8e05c4481bb37fde9edb7d608",
            "placeholder": "​",
            "style": "IPY_MODEL_815e771877f04b23aba6839451d1a8c7",
            "value": "modules.json: 100%"
          }
        },
        "b9098fca256c42fcb5b4dafa275de91e": {
          "model_module": "@jupyter-widgets/controls",
          "model_module_version": "1.5.0",
          "model_name": "HBoxModel",
          "state": {
            "_dom_classes": [],
            "_model_module": "@jupyter-widgets/controls",
            "_model_module_version": "1.5.0",
            "_model_name": "HBoxModel",
            "_view_count": null,
            "_view_module": "@jupyter-widgets/controls",
            "_view_module_version": "1.5.0",
            "_view_name": "HBoxView",
            "box_style": "",
            "children": [
              "IPY_MODEL_6667a0827db94501a58bd3929f03ed32",
              "IPY_MODEL_1963817492c34b5fb9656205f3f2b43a",
              "IPY_MODEL_5d96e717b68c45fd9b2195e603723547"
            ],
            "layout": "IPY_MODEL_49648caa5d11408a910bc223869d8a51"
          }
        },
        "b9365f832ccf4541a8931c07ab06e4e5": {
          "model_module": "@jupyter-widgets/controls",
          "model_module_version": "1.5.0",
          "model_name": "DescriptionStyleModel",
          "state": {
            "_model_module": "@jupyter-widgets/controls",
            "_model_module_version": "1.5.0",
            "_model_name": "DescriptionStyleModel",
            "_view_count": null,
            "_view_module": "@jupyter-widgets/base",
            "_view_module_version": "1.2.0",
            "_view_name": "StyleView",
            "description_width": ""
          }
        },
        "b94223ccfa4c466882da53c50eb545f5": {
          "model_module": "@jupyter-widgets/base",
          "model_module_version": "1.2.0",
          "model_name": "LayoutModel",
          "state": {
            "_model_module": "@jupyter-widgets/base",
            "_model_module_version": "1.2.0",
            "_model_name": "LayoutModel",
            "_view_count": null,
            "_view_module": "@jupyter-widgets/base",
            "_view_module_version": "1.2.0",
            "_view_name": "LayoutView",
            "align_content": null,
            "align_items": null,
            "align_self": null,
            "border": null,
            "bottom": null,
            "display": null,
            "flex": null,
            "flex_flow": null,
            "grid_area": null,
            "grid_auto_columns": null,
            "grid_auto_flow": null,
            "grid_auto_rows": null,
            "grid_column": null,
            "grid_gap": null,
            "grid_row": null,
            "grid_template_areas": null,
            "grid_template_columns": null,
            "grid_template_rows": null,
            "height": null,
            "justify_content": null,
            "justify_items": null,
            "left": null,
            "margin": null,
            "max_height": null,
            "max_width": null,
            "min_height": null,
            "min_width": null,
            "object_fit": null,
            "object_position": null,
            "order": null,
            "overflow": null,
            "overflow_x": null,
            "overflow_y": null,
            "padding": null,
            "right": null,
            "top": null,
            "visibility": null,
            "width": null
          }
        },
        "b9dfdf2c04274ad98295650493ab3eed": {
          "model_module": "@jupyter-widgets/controls",
          "model_module_version": "1.5.0",
          "model_name": "DescriptionStyleModel",
          "state": {
            "_model_module": "@jupyter-widgets/controls",
            "_model_module_version": "1.5.0",
            "_model_name": "DescriptionStyleModel",
            "_view_count": null,
            "_view_module": "@jupyter-widgets/base",
            "_view_module_version": "1.2.0",
            "_view_name": "StyleView",
            "description_width": ""
          }
        },
        "ba89c83bf9334c56a9e4cc44f477e83c": {
          "model_module": "@jupyter-widgets/controls",
          "model_module_version": "1.5.0",
          "model_name": "DescriptionStyleModel",
          "state": {
            "_model_module": "@jupyter-widgets/controls",
            "_model_module_version": "1.5.0",
            "_model_name": "DescriptionStyleModel",
            "_view_count": null,
            "_view_module": "@jupyter-widgets/base",
            "_view_module_version": "1.2.0",
            "_view_name": "StyleView",
            "description_width": ""
          }
        },
        "bbc17963126a4c5bbc2372281a188026": {
          "model_module": "@jupyter-widgets/controls",
          "model_module_version": "1.5.0",
          "model_name": "ProgressStyleModel",
          "state": {
            "_model_module": "@jupyter-widgets/controls",
            "_model_module_version": "1.5.0",
            "_model_name": "ProgressStyleModel",
            "_view_count": null,
            "_view_module": "@jupyter-widgets/base",
            "_view_module_version": "1.2.0",
            "_view_name": "StyleView",
            "bar_color": null,
            "description_width": ""
          }
        },
        "bd15636aa64c47fd8033168e6e0857db": {
          "model_module": "@jupyter-widgets/controls",
          "model_module_version": "1.5.0",
          "model_name": "HTMLModel",
          "state": {
            "_dom_classes": [],
            "_model_module": "@jupyter-widgets/controls",
            "_model_module_version": "1.5.0",
            "_model_name": "HTMLModel",
            "_view_count": null,
            "_view_module": "@jupyter-widgets/controls",
            "_view_module_version": "1.5.0",
            "_view_name": "HTMLView",
            "description": "",
            "description_tooltip": null,
            "layout": "IPY_MODEL_dbfe251513974f2da5da5acc8b358358",
            "placeholder": "​",
            "style": "IPY_MODEL_b9dfdf2c04274ad98295650493ab3eed",
            "value": " 116/116 [00:00&lt;00:00, 13.1kB/s]"
          }
        },
        "c086e22c0d584b71884797dc76c85b87": {
          "model_module": "@jupyter-widgets/controls",
          "model_module_version": "1.5.0",
          "model_name": "HBoxModel",
          "state": {
            "_dom_classes": [],
            "_model_module": "@jupyter-widgets/controls",
            "_model_module_version": "1.5.0",
            "_model_name": "HBoxModel",
            "_view_count": null,
            "_view_module": "@jupyter-widgets/controls",
            "_view_module_version": "1.5.0",
            "_view_name": "HBoxView",
            "box_style": "",
            "children": [
              "IPY_MODEL_b58eb480b3374e0e89745893930e49da",
              "IPY_MODEL_27ecba5789814cc1b96447ebc1e00f13",
              "IPY_MODEL_f455a370cf01468ab362eb8e3a35609d"
            ],
            "layout": "IPY_MODEL_3b92126a66594947ba3140c890888ca6"
          }
        },
        "c0fe307c90b642af90ea9a49bc5f7303": {
          "model_module": "@jupyter-widgets/base",
          "model_module_version": "1.2.0",
          "model_name": "LayoutModel",
          "state": {
            "_model_module": "@jupyter-widgets/base",
            "_model_module_version": "1.2.0",
            "_model_name": "LayoutModel",
            "_view_count": null,
            "_view_module": "@jupyter-widgets/base",
            "_view_module_version": "1.2.0",
            "_view_name": "LayoutView",
            "align_content": null,
            "align_items": null,
            "align_self": null,
            "border": null,
            "bottom": null,
            "display": null,
            "flex": null,
            "flex_flow": null,
            "grid_area": null,
            "grid_auto_columns": null,
            "grid_auto_flow": null,
            "grid_auto_rows": null,
            "grid_column": null,
            "grid_gap": null,
            "grid_row": null,
            "grid_template_areas": null,
            "grid_template_columns": null,
            "grid_template_rows": null,
            "height": null,
            "justify_content": null,
            "justify_items": null,
            "left": null,
            "margin": null,
            "max_height": null,
            "max_width": null,
            "min_height": null,
            "min_width": null,
            "object_fit": null,
            "object_position": null,
            "order": null,
            "overflow": null,
            "overflow_x": null,
            "overflow_y": null,
            "padding": null,
            "right": null,
            "top": null,
            "visibility": null,
            "width": null
          }
        },
        "c5bf6798a9c44932b62fe67526b09363": {
          "model_module": "@jupyter-widgets/base",
          "model_module_version": "1.2.0",
          "model_name": "LayoutModel",
          "state": {
            "_model_module": "@jupyter-widgets/base",
            "_model_module_version": "1.2.0",
            "_model_name": "LayoutModel",
            "_view_count": null,
            "_view_module": "@jupyter-widgets/base",
            "_view_module_version": "1.2.0",
            "_view_name": "LayoutView",
            "align_content": null,
            "align_items": null,
            "align_self": null,
            "border": null,
            "bottom": null,
            "display": null,
            "flex": null,
            "flex_flow": null,
            "grid_area": null,
            "grid_auto_columns": null,
            "grid_auto_flow": null,
            "grid_auto_rows": null,
            "grid_column": null,
            "grid_gap": null,
            "grid_row": null,
            "grid_template_areas": null,
            "grid_template_columns": null,
            "grid_template_rows": null,
            "height": null,
            "justify_content": null,
            "justify_items": null,
            "left": null,
            "margin": null,
            "max_height": null,
            "max_width": null,
            "min_height": null,
            "min_width": null,
            "object_fit": null,
            "object_position": null,
            "order": null,
            "overflow": null,
            "overflow_x": null,
            "overflow_y": null,
            "padding": null,
            "right": null,
            "top": null,
            "visibility": null,
            "width": null
          }
        },
        "c882c2b7221a4d61a4a50e66d6323e8a": {
          "model_module": "@jupyter-widgets/controls",
          "model_module_version": "1.5.0",
          "model_name": "HBoxModel",
          "state": {
            "_dom_classes": [],
            "_model_module": "@jupyter-widgets/controls",
            "_model_module_version": "1.5.0",
            "_model_name": "HBoxModel",
            "_view_count": null,
            "_view_module": "@jupyter-widgets/controls",
            "_view_module_version": "1.5.0",
            "_view_name": "HBoxView",
            "box_style": "",
            "children": [
              "IPY_MODEL_0443b9995edf4035b9d1f6ba746ef9e8",
              "IPY_MODEL_9b028dbc24d3413aaaf1d21255419c05",
              "IPY_MODEL_595943af7a6946978d2a857fb838ea64"
            ],
            "layout": "IPY_MODEL_1317b971aa9a46bb9a58843da0affa2c"
          }
        },
        "cc654970ad0343479d8bc0d27df5f01d": {
          "model_module": "@jupyter-widgets/base",
          "model_module_version": "1.2.0",
          "model_name": "LayoutModel",
          "state": {
            "_model_module": "@jupyter-widgets/base",
            "_model_module_version": "1.2.0",
            "_model_name": "LayoutModel",
            "_view_count": null,
            "_view_module": "@jupyter-widgets/base",
            "_view_module_version": "1.2.0",
            "_view_name": "LayoutView",
            "align_content": null,
            "align_items": null,
            "align_self": null,
            "border": null,
            "bottom": null,
            "display": null,
            "flex": null,
            "flex_flow": null,
            "grid_area": null,
            "grid_auto_columns": null,
            "grid_auto_flow": null,
            "grid_auto_rows": null,
            "grid_column": null,
            "grid_gap": null,
            "grid_row": null,
            "grid_template_areas": null,
            "grid_template_columns": null,
            "grid_template_rows": null,
            "height": null,
            "justify_content": null,
            "justify_items": null,
            "left": null,
            "margin": null,
            "max_height": null,
            "max_width": null,
            "min_height": null,
            "min_width": null,
            "object_fit": null,
            "object_position": null,
            "order": null,
            "overflow": null,
            "overflow_x": null,
            "overflow_y": null,
            "padding": null,
            "right": null,
            "top": null,
            "visibility": null,
            "width": null
          }
        },
        "d01f7b2853a64fbeb88a854fbad3e339": {
          "model_module": "@jupyter-widgets/controls",
          "model_module_version": "1.5.0",
          "model_name": "DescriptionStyleModel",
          "state": {
            "_model_module": "@jupyter-widgets/controls",
            "_model_module_version": "1.5.0",
            "_model_name": "DescriptionStyleModel",
            "_view_count": null,
            "_view_module": "@jupyter-widgets/base",
            "_view_module_version": "1.2.0",
            "_view_name": "StyleView",
            "description_width": ""
          }
        },
        "d3b692dcade947ca8e687883ecd0ef57": {
          "model_module": "@jupyter-widgets/controls",
          "model_module_version": "1.5.0",
          "model_name": "DescriptionStyleModel",
          "state": {
            "_model_module": "@jupyter-widgets/controls",
            "_model_module_version": "1.5.0",
            "_model_name": "DescriptionStyleModel",
            "_view_count": null,
            "_view_module": "@jupyter-widgets/base",
            "_view_module_version": "1.2.0",
            "_view_name": "StyleView",
            "description_width": ""
          }
        },
        "dbdede63a38643a6bb1208626dc877eb": {
          "model_module": "@jupyter-widgets/base",
          "model_module_version": "1.2.0",
          "model_name": "LayoutModel",
          "state": {
            "_model_module": "@jupyter-widgets/base",
            "_model_module_version": "1.2.0",
            "_model_name": "LayoutModel",
            "_view_count": null,
            "_view_module": "@jupyter-widgets/base",
            "_view_module_version": "1.2.0",
            "_view_name": "LayoutView",
            "align_content": null,
            "align_items": null,
            "align_self": null,
            "border": null,
            "bottom": null,
            "display": null,
            "flex": null,
            "flex_flow": null,
            "grid_area": null,
            "grid_auto_columns": null,
            "grid_auto_flow": null,
            "grid_auto_rows": null,
            "grid_column": null,
            "grid_gap": null,
            "grid_row": null,
            "grid_template_areas": null,
            "grid_template_columns": null,
            "grid_template_rows": null,
            "height": null,
            "justify_content": null,
            "justify_items": null,
            "left": null,
            "margin": null,
            "max_height": null,
            "max_width": null,
            "min_height": null,
            "min_width": null,
            "object_fit": null,
            "object_position": null,
            "order": null,
            "overflow": null,
            "overflow_x": null,
            "overflow_y": null,
            "padding": null,
            "right": null,
            "top": null,
            "visibility": null,
            "width": null
          }
        },
        "dbfe251513974f2da5da5acc8b358358": {
          "model_module": "@jupyter-widgets/base",
          "model_module_version": "1.2.0",
          "model_name": "LayoutModel",
          "state": {
            "_model_module": "@jupyter-widgets/base",
            "_model_module_version": "1.2.0",
            "_model_name": "LayoutModel",
            "_view_count": null,
            "_view_module": "@jupyter-widgets/base",
            "_view_module_version": "1.2.0",
            "_view_name": "LayoutView",
            "align_content": null,
            "align_items": null,
            "align_self": null,
            "border": null,
            "bottom": null,
            "display": null,
            "flex": null,
            "flex_flow": null,
            "grid_area": null,
            "grid_auto_columns": null,
            "grid_auto_flow": null,
            "grid_auto_rows": null,
            "grid_column": null,
            "grid_gap": null,
            "grid_row": null,
            "grid_template_areas": null,
            "grid_template_columns": null,
            "grid_template_rows": null,
            "height": null,
            "justify_content": null,
            "justify_items": null,
            "left": null,
            "margin": null,
            "max_height": null,
            "max_width": null,
            "min_height": null,
            "min_width": null,
            "object_fit": null,
            "object_position": null,
            "order": null,
            "overflow": null,
            "overflow_x": null,
            "overflow_y": null,
            "padding": null,
            "right": null,
            "top": null,
            "visibility": null,
            "width": null
          }
        },
        "ddd42f9ac2db4bb9b66ba394c048137e": {
          "model_module": "@jupyter-widgets/base",
          "model_module_version": "1.2.0",
          "model_name": "LayoutModel",
          "state": {
            "_model_module": "@jupyter-widgets/base",
            "_model_module_version": "1.2.0",
            "_model_name": "LayoutModel",
            "_view_count": null,
            "_view_module": "@jupyter-widgets/base",
            "_view_module_version": "1.2.0",
            "_view_name": "LayoutView",
            "align_content": null,
            "align_items": null,
            "align_self": null,
            "border": null,
            "bottom": null,
            "display": null,
            "flex": null,
            "flex_flow": null,
            "grid_area": null,
            "grid_auto_columns": null,
            "grid_auto_flow": null,
            "grid_auto_rows": null,
            "grid_column": null,
            "grid_gap": null,
            "grid_row": null,
            "grid_template_areas": null,
            "grid_template_columns": null,
            "grid_template_rows": null,
            "height": null,
            "justify_content": null,
            "justify_items": null,
            "left": null,
            "margin": null,
            "max_height": null,
            "max_width": null,
            "min_height": null,
            "min_width": null,
            "object_fit": null,
            "object_position": null,
            "order": null,
            "overflow": null,
            "overflow_x": null,
            "overflow_y": null,
            "padding": null,
            "right": null,
            "top": null,
            "visibility": null,
            "width": null
          }
        },
        "df5d4768cc984e5985b5be5acde6370a": {
          "model_module": "@jupyter-widgets/base",
          "model_module_version": "1.2.0",
          "model_name": "LayoutModel",
          "state": {
            "_model_module": "@jupyter-widgets/base",
            "_model_module_version": "1.2.0",
            "_model_name": "LayoutModel",
            "_view_count": null,
            "_view_module": "@jupyter-widgets/base",
            "_view_module_version": "1.2.0",
            "_view_name": "LayoutView",
            "align_content": null,
            "align_items": null,
            "align_self": null,
            "border": null,
            "bottom": null,
            "display": null,
            "flex": null,
            "flex_flow": null,
            "grid_area": null,
            "grid_auto_columns": null,
            "grid_auto_flow": null,
            "grid_auto_rows": null,
            "grid_column": null,
            "grid_gap": null,
            "grid_row": null,
            "grid_template_areas": null,
            "grid_template_columns": null,
            "grid_template_rows": null,
            "height": null,
            "justify_content": null,
            "justify_items": null,
            "left": null,
            "margin": null,
            "max_height": null,
            "max_width": null,
            "min_height": null,
            "min_width": null,
            "object_fit": null,
            "object_position": null,
            "order": null,
            "overflow": null,
            "overflow_x": null,
            "overflow_y": null,
            "padding": null,
            "right": null,
            "top": null,
            "visibility": null,
            "width": null
          }
        },
        "df8e5093d45448459ad676f19ae9b7d0": {
          "model_module": "@jupyter-widgets/base",
          "model_module_version": "1.2.0",
          "model_name": "LayoutModel",
          "state": {
            "_model_module": "@jupyter-widgets/base",
            "_model_module_version": "1.2.0",
            "_model_name": "LayoutModel",
            "_view_count": null,
            "_view_module": "@jupyter-widgets/base",
            "_view_module_version": "1.2.0",
            "_view_name": "LayoutView",
            "align_content": null,
            "align_items": null,
            "align_self": null,
            "border": null,
            "bottom": null,
            "display": null,
            "flex": null,
            "flex_flow": null,
            "grid_area": null,
            "grid_auto_columns": null,
            "grid_auto_flow": null,
            "grid_auto_rows": null,
            "grid_column": null,
            "grid_gap": null,
            "grid_row": null,
            "grid_template_areas": null,
            "grid_template_columns": null,
            "grid_template_rows": null,
            "height": null,
            "justify_content": null,
            "justify_items": null,
            "left": null,
            "margin": null,
            "max_height": null,
            "max_width": null,
            "min_height": null,
            "min_width": null,
            "object_fit": null,
            "object_position": null,
            "order": null,
            "overflow": null,
            "overflow_x": null,
            "overflow_y": null,
            "padding": null,
            "right": null,
            "top": null,
            "visibility": null,
            "width": null
          }
        },
        "dfe212b2e9144bde8712fd82513be586": {
          "model_module": "@jupyter-widgets/base",
          "model_module_version": "1.2.0",
          "model_name": "LayoutModel",
          "state": {
            "_model_module": "@jupyter-widgets/base",
            "_model_module_version": "1.2.0",
            "_model_name": "LayoutModel",
            "_view_count": null,
            "_view_module": "@jupyter-widgets/base",
            "_view_module_version": "1.2.0",
            "_view_name": "LayoutView",
            "align_content": null,
            "align_items": null,
            "align_self": null,
            "border": null,
            "bottom": null,
            "display": null,
            "flex": null,
            "flex_flow": null,
            "grid_area": null,
            "grid_auto_columns": null,
            "grid_auto_flow": null,
            "grid_auto_rows": null,
            "grid_column": null,
            "grid_gap": null,
            "grid_row": null,
            "grid_template_areas": null,
            "grid_template_columns": null,
            "grid_template_rows": null,
            "height": null,
            "justify_content": null,
            "justify_items": null,
            "left": null,
            "margin": null,
            "max_height": null,
            "max_width": null,
            "min_height": null,
            "min_width": null,
            "object_fit": null,
            "object_position": null,
            "order": null,
            "overflow": null,
            "overflow_x": null,
            "overflow_y": null,
            "padding": null,
            "right": null,
            "top": null,
            "visibility": null,
            "width": null
          }
        },
        "e027f34b1e274c97b079ebb96fd6ff27": {
          "model_module": "@jupyter-widgets/controls",
          "model_module_version": "1.5.0",
          "model_name": "HBoxModel",
          "state": {
            "_dom_classes": [],
            "_model_module": "@jupyter-widgets/controls",
            "_model_module_version": "1.5.0",
            "_model_name": "HBoxModel",
            "_view_count": null,
            "_view_module": "@jupyter-widgets/controls",
            "_view_module_version": "1.5.0",
            "_view_name": "HBoxView",
            "box_style": "",
            "children": [
              "IPY_MODEL_f9869e6ee5b74a79a98b82cc48bafa2b",
              "IPY_MODEL_ebca6437b15c48899c13eb95172de493",
              "IPY_MODEL_e06b97f8fca3417ea9cbda49783e4795"
            ],
            "layout": "IPY_MODEL_f7d88b3d28ea47e084296121d449e41c"
          }
        },
        "e06b97f8fca3417ea9cbda49783e4795": {
          "model_module": "@jupyter-widgets/controls",
          "model_module_version": "1.5.0",
          "model_name": "HTMLModel",
          "state": {
            "_dom_classes": [],
            "_model_module": "@jupyter-widgets/controls",
            "_model_module_version": "1.5.0",
            "_model_name": "HTMLModel",
            "_view_count": null,
            "_view_module": "@jupyter-widgets/controls",
            "_view_module_version": "1.5.0",
            "_view_name": "HTMLView",
            "description": "",
            "description_tooltip": null,
            "layout": "IPY_MODEL_5807be98dfea4af39614b2705a6eb333",
            "placeholder": "​",
            "style": "IPY_MODEL_8cd605e97adc4ddba8fdd0650392f13d",
            "value": " 112/112 [00:00&lt;00:00, 12.4kB/s]"
          }
        },
        "e365a1618a504395b7c0dfad865130dd": {
          "model_module": "@jupyter-widgets/base",
          "model_module_version": "1.2.0",
          "model_name": "LayoutModel",
          "state": {
            "_model_module": "@jupyter-widgets/base",
            "_model_module_version": "1.2.0",
            "_model_name": "LayoutModel",
            "_view_count": null,
            "_view_module": "@jupyter-widgets/base",
            "_view_module_version": "1.2.0",
            "_view_name": "LayoutView",
            "align_content": null,
            "align_items": null,
            "align_self": null,
            "border": null,
            "bottom": null,
            "display": null,
            "flex": null,
            "flex_flow": null,
            "grid_area": null,
            "grid_auto_columns": null,
            "grid_auto_flow": null,
            "grid_auto_rows": null,
            "grid_column": null,
            "grid_gap": null,
            "grid_row": null,
            "grid_template_areas": null,
            "grid_template_columns": null,
            "grid_template_rows": null,
            "height": null,
            "justify_content": null,
            "justify_items": null,
            "left": null,
            "margin": null,
            "max_height": null,
            "max_width": null,
            "min_height": null,
            "min_width": null,
            "object_fit": null,
            "object_position": null,
            "order": null,
            "overflow": null,
            "overflow_x": null,
            "overflow_y": null,
            "padding": null,
            "right": null,
            "top": null,
            "visibility": null,
            "width": null
          }
        },
        "e5f702c2b6fe4aada4a01dc7872a70f1": {
          "model_module": "@jupyter-widgets/controls",
          "model_module_version": "1.5.0",
          "model_name": "DescriptionStyleModel",
          "state": {
            "_model_module": "@jupyter-widgets/controls",
            "_model_module_version": "1.5.0",
            "_model_name": "DescriptionStyleModel",
            "_view_count": null,
            "_view_module": "@jupyter-widgets/base",
            "_view_module_version": "1.2.0",
            "_view_name": "StyleView",
            "description_width": ""
          }
        },
        "e6171eb07f2245b2bc3d75db98582090": {
          "model_module": "@jupyter-widgets/controls",
          "model_module_version": "1.5.0",
          "model_name": "DescriptionStyleModel",
          "state": {
            "_model_module": "@jupyter-widgets/controls",
            "_model_module_version": "1.5.0",
            "_model_name": "DescriptionStyleModel",
            "_view_count": null,
            "_view_module": "@jupyter-widgets/base",
            "_view_module_version": "1.2.0",
            "_view_name": "StyleView",
            "description_width": ""
          }
        },
        "e919a2d9e7bd4727886dad149ff09778": {
          "model_module": "@jupyter-widgets/controls",
          "model_module_version": "1.5.0",
          "model_name": "ProgressStyleModel",
          "state": {
            "_model_module": "@jupyter-widgets/controls",
            "_model_module_version": "1.5.0",
            "_model_name": "ProgressStyleModel",
            "_view_count": null,
            "_view_module": "@jupyter-widgets/base",
            "_view_module_version": "1.2.0",
            "_view_name": "StyleView",
            "bar_color": null,
            "description_width": ""
          }
        },
        "ebca6437b15c48899c13eb95172de493": {
          "model_module": "@jupyter-widgets/controls",
          "model_module_version": "1.5.0",
          "model_name": "FloatProgressModel",
          "state": {
            "_dom_classes": [],
            "_model_module": "@jupyter-widgets/controls",
            "_model_module_version": "1.5.0",
            "_model_name": "FloatProgressModel",
            "_view_count": null,
            "_view_module": "@jupyter-widgets/controls",
            "_view_module_version": "1.5.0",
            "_view_name": "ProgressView",
            "bar_style": "success",
            "description": "",
            "description_tooltip": null,
            "layout": "IPY_MODEL_a6eef535957a4e988fb9b9a7e0a8c574",
            "max": 112,
            "min": 0,
            "orientation": "horizontal",
            "style": "IPY_MODEL_e919a2d9e7bd4727886dad149ff09778",
            "value": 112
          }
        },
        "ed699caddacf4e6da0ec59d9e996a6b4": {
          "model_module": "@jupyter-widgets/base",
          "model_module_version": "1.2.0",
          "model_name": "LayoutModel",
          "state": {
            "_model_module": "@jupyter-widgets/base",
            "_model_module_version": "1.2.0",
            "_model_name": "LayoutModel",
            "_view_count": null,
            "_view_module": "@jupyter-widgets/base",
            "_view_module_version": "1.2.0",
            "_view_name": "LayoutView",
            "align_content": null,
            "align_items": null,
            "align_self": null,
            "border": null,
            "bottom": null,
            "display": null,
            "flex": null,
            "flex_flow": null,
            "grid_area": null,
            "grid_auto_columns": null,
            "grid_auto_flow": null,
            "grid_auto_rows": null,
            "grid_column": null,
            "grid_gap": null,
            "grid_row": null,
            "grid_template_areas": null,
            "grid_template_columns": null,
            "grid_template_rows": null,
            "height": null,
            "justify_content": null,
            "justify_items": null,
            "left": null,
            "margin": null,
            "max_height": null,
            "max_width": null,
            "min_height": null,
            "min_width": null,
            "object_fit": null,
            "object_position": null,
            "order": null,
            "overflow": null,
            "overflow_x": null,
            "overflow_y": null,
            "padding": null,
            "right": null,
            "top": null,
            "visibility": null,
            "width": null
          }
        },
        "f455a370cf01468ab362eb8e3a35609d": {
          "model_module": "@jupyter-widgets/controls",
          "model_module_version": "1.5.0",
          "model_name": "HTMLModel",
          "state": {
            "_dom_classes": [],
            "_model_module": "@jupyter-widgets/controls",
            "_model_module_version": "1.5.0",
            "_model_name": "HTMLModel",
            "_view_count": null,
            "_view_module": "@jupyter-widgets/controls",
            "_view_module_version": "1.5.0",
            "_view_name": "HTMLView",
            "description": "",
            "description_tooltip": null,
            "layout": "IPY_MODEL_f4b1c6c4e8744be98e4a73585d6abdbf",
            "placeholder": "​",
            "style": "IPY_MODEL_61d2040662d3457eb8183bda3dd614da",
            "value": " 349/349 [00:00&lt;00:00, 31.2kB/s]"
          }
        },
        "f4ad3ac7d1d74de4be5e13146562b204": {
          "model_module": "@jupyter-widgets/controls",
          "model_module_version": "1.5.0",
          "model_name": "ProgressStyleModel",
          "state": {
            "_model_module": "@jupyter-widgets/controls",
            "_model_module_version": "1.5.0",
            "_model_name": "ProgressStyleModel",
            "_view_count": null,
            "_view_module": "@jupyter-widgets/base",
            "_view_module_version": "1.2.0",
            "_view_name": "StyleView",
            "bar_color": null,
            "description_width": ""
          }
        },
        "f4b1c6c4e8744be98e4a73585d6abdbf": {
          "model_module": "@jupyter-widgets/base",
          "model_module_version": "1.2.0",
          "model_name": "LayoutModel",
          "state": {
            "_model_module": "@jupyter-widgets/base",
            "_model_module_version": "1.2.0",
            "_model_name": "LayoutModel",
            "_view_count": null,
            "_view_module": "@jupyter-widgets/base",
            "_view_module_version": "1.2.0",
            "_view_name": "LayoutView",
            "align_content": null,
            "align_items": null,
            "align_self": null,
            "border": null,
            "bottom": null,
            "display": null,
            "flex": null,
            "flex_flow": null,
            "grid_area": null,
            "grid_auto_columns": null,
            "grid_auto_flow": null,
            "grid_auto_rows": null,
            "grid_column": null,
            "grid_gap": null,
            "grid_row": null,
            "grid_template_areas": null,
            "grid_template_columns": null,
            "grid_template_rows": null,
            "height": null,
            "justify_content": null,
            "justify_items": null,
            "left": null,
            "margin": null,
            "max_height": null,
            "max_width": null,
            "min_height": null,
            "min_width": null,
            "object_fit": null,
            "object_position": null,
            "order": null,
            "overflow": null,
            "overflow_x": null,
            "overflow_y": null,
            "padding": null,
            "right": null,
            "top": null,
            "visibility": null,
            "width": null
          }
        },
        "f631d3dc18b546669ebccf751798490a": {
          "model_module": "@jupyter-widgets/controls",
          "model_module_version": "1.5.0",
          "model_name": "DescriptionStyleModel",
          "state": {
            "_model_module": "@jupyter-widgets/controls",
            "_model_module_version": "1.5.0",
            "_model_name": "DescriptionStyleModel",
            "_view_count": null,
            "_view_module": "@jupyter-widgets/base",
            "_view_module_version": "1.2.0",
            "_view_name": "StyleView",
            "description_width": ""
          }
        },
        "f68fed8f46fc40f0b08a2eb182add887": {
          "model_module": "@jupyter-widgets/controls",
          "model_module_version": "1.5.0",
          "model_name": "DescriptionStyleModel",
          "state": {
            "_model_module": "@jupyter-widgets/controls",
            "_model_module_version": "1.5.0",
            "_model_name": "DescriptionStyleModel",
            "_view_count": null,
            "_view_module": "@jupyter-widgets/base",
            "_view_module_version": "1.2.0",
            "_view_name": "StyleView",
            "description_width": ""
          }
        },
        "f7d88b3d28ea47e084296121d449e41c": {
          "model_module": "@jupyter-widgets/base",
          "model_module_version": "1.2.0",
          "model_name": "LayoutModel",
          "state": {
            "_model_module": "@jupyter-widgets/base",
            "_model_module_version": "1.2.0",
            "_model_name": "LayoutModel",
            "_view_count": null,
            "_view_module": "@jupyter-widgets/base",
            "_view_module_version": "1.2.0",
            "_view_name": "LayoutView",
            "align_content": null,
            "align_items": null,
            "align_self": null,
            "border": null,
            "bottom": null,
            "display": null,
            "flex": null,
            "flex_flow": null,
            "grid_area": null,
            "grid_auto_columns": null,
            "grid_auto_flow": null,
            "grid_auto_rows": null,
            "grid_column": null,
            "grid_gap": null,
            "grid_row": null,
            "grid_template_areas": null,
            "grid_template_columns": null,
            "grid_template_rows": null,
            "height": null,
            "justify_content": null,
            "justify_items": null,
            "left": null,
            "margin": null,
            "max_height": null,
            "max_width": null,
            "min_height": null,
            "min_width": null,
            "object_fit": null,
            "object_position": null,
            "order": null,
            "overflow": null,
            "overflow_x": null,
            "overflow_y": null,
            "padding": null,
            "right": null,
            "top": null,
            "visibility": null,
            "width": null
          }
        },
        "f8507aff4a1b4f61b57edacc8cad814c": {
          "model_module": "@jupyter-widgets/controls",
          "model_module_version": "1.5.0",
          "model_name": "ProgressStyleModel",
          "state": {
            "_model_module": "@jupyter-widgets/controls",
            "_model_module_version": "1.5.0",
            "_model_name": "ProgressStyleModel",
            "_view_count": null,
            "_view_module": "@jupyter-widgets/base",
            "_view_module_version": "1.2.0",
            "_view_name": "StyleView",
            "bar_color": null,
            "description_width": ""
          }
        },
        "f9869e6ee5b74a79a98b82cc48bafa2b": {
          "model_module": "@jupyter-widgets/controls",
          "model_module_version": "1.5.0",
          "model_name": "HTMLModel",
          "state": {
            "_dom_classes": [],
            "_model_module": "@jupyter-widgets/controls",
            "_model_module_version": "1.5.0",
            "_model_name": "HTMLModel",
            "_view_count": null,
            "_view_module": "@jupyter-widgets/controls",
            "_view_module_version": "1.5.0",
            "_view_name": "HTMLView",
            "description": "",
            "description_tooltip": null,
            "layout": "IPY_MODEL_5bd57f40100e4f0885bd20a6030ce440",
            "placeholder": "​",
            "style": "IPY_MODEL_e6171eb07f2245b2bc3d75db98582090",
            "value": "special_tokens_map.json: 100%"
          }
        },
        "fe1ae93c73af4e5783aca70f90ce14a3": {
          "model_module": "@jupyter-widgets/controls",
          "model_module_version": "1.5.0",
          "model_name": "HTMLModel",
          "state": {
            "_dom_classes": [],
            "_model_module": "@jupyter-widgets/controls",
            "_model_module_version": "1.5.0",
            "_model_name": "HTMLModel",
            "_view_count": null,
            "_view_module": "@jupyter-widgets/controls",
            "_view_module_version": "1.5.0",
            "_view_name": "HTMLView",
            "description": "",
            "description_tooltip": null,
            "layout": "IPY_MODEL_1c3328c85c954d3ebb006bcf5256175a",
            "placeholder": "​",
            "style": "IPY_MODEL_266f00c0901b46ec9d786ead25c0f5ce",
            "value": " 53.0/53.0 [00:00&lt;00:00, 5.58kB/s]"
          }
        }
      }
    }
  },
  "nbformat": 4,
  "nbformat_minor": 0
}
